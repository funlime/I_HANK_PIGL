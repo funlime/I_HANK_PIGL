{
 "cells": [
  {
   "cell_type": "code",
   "execution_count": 1,
   "metadata": {},
   "outputs": [],
   "source": [
    "%load_ext autoreload\n",
    "%autoreload 2\n",
    "\n",
    "\n",
    "import numpy as np\n",
    "import sys\n",
    "\n",
    "import matplotlib.pyplot as plt  \n",
    "import seaborn as sns\n",
    "import figures as figs\n",
    "import calculations\n",
    "from types import SimpleNamespace\n",
    "import pandas as pd\n",
    "\n",
    "# Ploting jacobians wrt ptilde\n",
    "from matplotlib.ticker import FormatStrFormatter\n",
    "\n",
    "import gc  # For garbage collection\n",
    "import itertools\n",
    "\n",
    "\n",
    "from seaborn import set_palette\n",
    "from matplotlib import rc\n",
    "plt.style.use('seaborn-v0_8-white')\n",
    "set_palette(\"colorblind\")\n",
    "rc('font',**{'family':'serif','serif': ['Palatino']})\n",
    "rc('text',usetex=True)\n",
    "\n",
    "colors = plt.rcParams['axes.prop_cycle'].by_key()['color']\n",
    "plt.rcParams.update({\"axes.grid\" : True, \"grid.color\": \"black\", \"grid.alpha\":\"0.25\", \"grid.linestyle\": \"--\"})\n",
    "plt.rcParams.update({'font.size': 14})\n",
    "\n",
    "# Should make insure text size in latex mode\n",
    "# plt.rcParams.update({\n",
    "#     \"text.latex.preamble\": r\"\\usepackage{palatino} \\normalsize\"\n",
    "# })\n",
    "\n",
    "from IHANKModel import IHANKModelClass\n",
    "\n"
   ]
  },
  {
   "cell_type": "code",
   "execution_count": 5,
   "metadata": {},
   "outputs": [],
   "source": [
    "model_NH = IHANKModelClass()\n",
    "save_figs = True\n",
    "shock = calculations.difine_shocks(model_NH, scale=0.3, rho = 0.8)[0]\n",
    "T_max_ = 20"
   ]
  },
  {
   "cell_type": "code",
   "execution_count": 6,
   "metadata": {},
   "outputs": [],
   "source": [
    "model_NH = IHANKModelClass(name='PIGL')\n",
    "model_NH.par.mon_policy = 'taylor'\n",
    "\n",
    "# model_NH.find_ss()\n",
    "# model_NH.compute_jacs(do_print=False)\n",
    "# model_NH.find_transition_path(shocks=shock, do_end_check=False, do_print=False)"
   ]
  },
  {
   "cell_type": "code",
   "execution_count": null,
   "metadata": {},
   "outputs": [],
   "source": [
    "model_Homo_eta = IHANKModelClass(name='Homothetic')\n",
    "# model_Homo_eta.par.epsilon = 0.18\n",
    "model_Homo_eta.par.gamma = 0.12\n",
    "model_Homo_eta.par.epsilon = 0.0\n",
    "\n",
    "# model_Homo_eta.par.gamma = model_Homo_eta.par.epsilon\n",
    "# model_Homo_eta.find_ss()\n",
    "# model_Homo_eta.compute_jacs(do_print=False)\n",
    "# model_Homo_eta.find_transition_path(shocks=shock, do_end_check=False)"
   ]
  },
  {
   "cell_type": "code",
   "execution_count": 3,
   "metadata": {},
   "outputs": [],
   "source": [
    "model_CD = IHANKModelClass(name='Cobb-Douglas')\n",
    "# model_CD.par.epsilon = 0.18\n",
    "model_CD.par.gamma = 0.0\n",
    "model_CD.par.epsilon = 0.0\n",
    "model_CD.par.mon_policy = 'taylor'\n",
    "# model_CD.find_ss()\n",
    "# model_CD.compute_jacs(do_print=False)\n",
    "# model_CD.find_transition_path(shocks=shock, do_end_check=False)"
   ]
  },
  {
   "cell_type": "code",
   "execution_count": null,
   "metadata": {},
   "outputs": [],
   "source": [
    "models = [model_NH, model_CD]"
   ]
  },
  {
   "cell_type": "code",
   "execution_count": null,
   "metadata": {},
   "outputs": [],
   "source": [
    "fig = figs.show_IRFs(models)\n"
   ]
  },
  {
   "cell_type": "markdown",
   "metadata": {},
   "source": [
    "# Basics"
   ]
  },
  {
   "cell_type": "code",
   "execution_count": null,
   "metadata": {},
   "outputs": [],
   "source": [
    "fig = figs.plot_policy(model_baseline, ['e', 'cnt', 'ct'])\n",
    "if save_figs: fig.savefig('plots/policy.png', dpi=300, bbox_inches='tight')\n"
   ]
  },
  {
   "cell_type": "code",
   "execution_count": null,
   "metadata": {},
   "outputs": [],
   "source": [
    "fig = figs.cum_z_a(model_baseline)\n",
    "if save_figs: fig.savefig('plots/cum_z_a.png', dpi=300, bbox_inches='tight')\n"
   ]
  },
  {
   "cell_type": "code",
   "execution_count": null,
   "metadata": {},
   "outputs": [],
   "source": [
    "fig = figs.plot_trans_matrix(model_baseline)\n",
    "if save_figs: fig.savefig('plots/z_trans.png', dpi=300, bbox_inches='tight')"
   ]
  },
  {
   "cell_type": "code",
   "execution_count": null,
   "metadata": {},
   "outputs": [],
   "source": [
    "\n",
    "fig = figs.show_coh_and_mpc(model_NH)\n",
    "if save_figs: fig.savefig('plots/coh_MPC.png', dpi=300, bbox_inches='tight')"
   ]
  },
  {
   "cell_type": "markdown",
   "metadata": {},
   "source": [
    "# Shock \n"
   ]
  },
  {
   "cell_type": "code",
   "execution_count": null,
   "metadata": {},
   "outputs": [],
   "source": [
    "fig = figs.plot_PE_s(model_CD)\n",
    "if save_figs: fig.savefig('plots/PE_shock.png', dpi=300, bbox_inches='tight')"
   ]
  },
  {
   "cell_type": "markdown",
   "metadata": {},
   "source": [
    "# Jacobians "
   ]
  },
  {
   "cell_type": "code",
   "execution_count": null,
   "metadata": {},
   "outputs": [],
   "source": [
    "fig = figs.plot_jac_p(models)\n",
    "if save_figs: fig.savefig('plots/jac_p.png', dpi=300, bbox_inches='tight')"
   ]
  },
  {
   "cell_type": "markdown",
   "metadata": {},
   "source": [
    "# IRF's"
   ]
  },
  {
   "cell_type": "markdown",
   "metadata": {},
   "source": [
    "### All"
   ]
  },
  {
   "cell_type": "code",
   "execution_count": null,
   "metadata": {},
   "outputs": [],
   "source": [
    "fig = figs.show_IRFs([model_CD], model.varlist, T_max=T_max_)"
   ]
  },
  {
   "cell_type": "code",
   "execution_count": null,
   "metadata": {},
   "outputs": [],
   "source": [
    "# paths_ = ['PE', 'P', 'DomP', 'W',  'w', 'r', 'N', 'CE', 'X' , 'YH', ]\n",
    "# paths_ = paths_ = ['P',  'W', 'w',  'X', 'N',  'r_real',  'E']\n",
    "# paths_ = paths_ = ['P', 'W', 'w', 'X', 'YH', 'N', 'r_real']\n",
    "\n",
    "\n",
    "# paths_ = paths_ = ['P', 'W', 'w', 'X', 'YH', 'N', 'i', 'r_real', 'A_hh']\n",
    "\n",
    "paths_ =  ['P', 'W', 'w', 'X', 'YH', 'N', 'r_real', 'A_real', 'E']\n",
    "\n",
    "# Want W, N, Y, \n",
    "fig = figs.show_IRFs([model_CD], paths_, T_max=T_max_)\n",
    "if save_figs: fig.savefig('plots/MAIN_CB.png', dpi=300, bbox_inches='tight')"
   ]
  },
  {
   "cell_type": "code",
   "execution_count": null,
   "metadata": {},
   "outputs": [],
   "source": [
    "models = [model_CD, model_NH]\n",
    "\n",
    "paths_ = ['P', 'w', 'X']\n",
    "fig = figs.show_IRFs(models, paths_, T_max=T_max_, legend_window=2)\n",
    "if save_figs: fig.savefig('plots/MAIN_compare.png', dpi=300, bbox_inches='tight')"
   ]
  },
  {
   "cell_type": "code",
   "execution_count": null,
   "metadata": {},
   "outputs": [],
   "source": [
    "model_CD.name = 'Cobb-Douglas'\n",
    "models = [model_CD, model_NH]\n",
    "\n",
    "paths_ = ['CT_hh', 'CNT_hh', 'PT', 'PNT']\n",
    "fig =  figs.show_IRFs(models, paths_, maxcol=2, T_max=T_max_)\n",
    "if save_figs: fig.savefig(f'plots/Consupmtion_T_NT.png', dpi=300, bbox_inches='tight')"
   ]
  },
  {
   "cell_type": "code",
   "execution_count": null,
   "metadata": {},
   "outputs": [],
   "source": [
    "model_NH.name = 'PIGL'\n",
    "paths_forigne = ['i', 'r_real', 'E', 'Q', 'PTH', 'CTH_s' ]\n",
    "fig = figs.show_IRFs([model_CD, model_NH], paths_forigne)\n",
    "if save_figs: fig.savefig('plots/forigne_compare.png', dpi=300, bbox_inches='tight')"
   ]
  },
  {
   "cell_type": "markdown",
   "metadata": {},
   "source": [
    "### IRF's prices"
   ]
  },
  {
   "cell_type": "code",
   "execution_count": null,
   "metadata": {},
   "outputs": [],
   "source": [
    "fig =  figs.show_pc_IRFs(model_CD)\n",
    "if save_figs: fig.savefig(f'plots/prices_cons_CD.png', dpi=300, bbox_inches='tight')"
   ]
  },
  {
   "cell_type": "code",
   "execution_count": null,
   "metadata": {},
   "outputs": [],
   "source": [
    "fig =  figs.show_pc_IRFs(model_NH)\n",
    "if save_figs: fig.savefig(f'plots/prices_cons_NH.png', dpi=300, bbox_inches='tight')"
   ]
  },
  {
   "cell_type": "code",
   "execution_count": null,
   "metadata": {},
   "outputs": [],
   "source": [
    "\n",
    "# fig =  figs.show_pc_IRFs(model_baseline)\n",
    "# if save_figs: fig.savefig(f'plots/IRFs_pc_all.png', dpi=300, bbox_inches='tight')\n",
    "\n",
    "\n",
    "\n",
    "# fig =  figs.show_price_IRFs(model_baseline)\n",
    "# if save_figs: fig.savefig(f'plots/IRFs_p_all.png', dpi=300, bbox_inches='tight')\n",
    "\n",
    "\n",
    "\n",
    "# fig =  figs.show_c_IRFs(model_baseline)\n",
    "# if save_figs: fig.savefig(f'plots/IRFs_c_all.png', dpi=300, bbox_inches='tight')"
   ]
  },
  {
   "cell_type": "markdown",
   "metadata": {},
   "source": [
    "# Importance of epsilon "
   ]
  },
  {
   "cell_type": "code",
   "execution_count": null,
   "metadata": {},
   "outputs": [],
   "source": [
    "model_e1 = IHANKModelClass(name='epsion = 0.10')\n",
    "model_e1.par.epsilon = 0.10\n",
    "# model_e1.par.gamma = 0.24\n",
    "model_e1.find_ss()\n",
    "model_e1.compute_jacs()\n",
    "model_e1.find_transition_path(shocks=shock, do_end_check=False)\n",
    "\n",
    "model_e05 = IHANKModelClass(name='epsion = 0.05')\n",
    "model_e05.par.epsilon = 0.05\n",
    "# model_e05.par.gamma = 0.21\n",
    "model_e05.find_ss()\n",
    "model_e05.compute_jacs()\n",
    "model_e05.find_transition_path(shocks=shock, do_end_check=False)\n"
   ]
  },
  {
   "cell_type": "code",
   "execution_count": null,
   "metadata": {},
   "outputs": [],
   "source": [
    "model_e00 = IHANKModelClass(name='epsion = 0.00')\n",
    "model_e00.par.epsilon = 0.00\n",
    "# model_e00.par.gamma = 0.21\n",
    "model_e00.find_ss()\n",
    "model_e00.compute_jacs()\n",
    "model_e00.find_transition_path(shocks=shock, do_end_check=False)"
   ]
  },
  {
   "cell_type": "code",
   "execution_count": null,
   "metadata": {},
   "outputs": [],
   "source": [
    "models = [model_baseline,  model_e1, model_e05 , model_e00]#, model_homothetic]\n",
    "for model_i in models:\n",
    "    model_i.calc_additional_new()\n",
    "    model_i.name = f'cov = {model_i.cov_e_omegaT:.3f}'\n",
    "    \n",
    "colors_reds = sns.color_palette(\"Reds\", n_colors=5)\n",
    "fig = figs.show_IRFs(models, paths=['P', 'X', 'CT', 'CNT' ], colors = colors_reds, maxcol=2)\n",
    "# if save_figs: fig.savefig('plots/IRFs_epsion.png', dpi=300, bbox_inches='tight')"
   ]
  },
  {
   "cell_type": "code",
   "execution_count": null,
   "metadata": {},
   "outputs": [],
   "source": [
    "\n",
    "def show_IRFs(models, colors):\n",
    "\n",
    "    ncols = 2\n",
    "    nrows = 2\n",
    "    T_max = 17\n",
    "    linewidth= 1.0\n",
    "\n",
    "    fig = plt.figure(figsize=(4.3*ncols/1.1,3.6*nrows/1.2),dpi=100)\n",
    "    # Tradable and  non-tradable\n",
    "    # fig.suptitle(f'{model[0].name}, Consumption Response', fontsize=20)\n",
    "    \n",
    "    ax = fig.add_subplot(nrows,ncols,1)   \n",
    "    for i, model in enumerate(models): \n",
    "    # ax.plot((model.path.p-model.ss.p),label='$p$', linewidth=linewidth)\n",
    "        ax.plot(((model.path.P-model.ss.P)/model.ss.P-1)*100,label='$C_T$', linewidth=linewidth, color= colors[i])\n",
    "        # ax.plot(((model.path.CNT-model.ss.CNT)/model.ss.CNT),ls='--',label='$C_{NT}$', linewidth=linewidth)\n",
    "    # ax.plot((model.path.PNT-model.ss.PNT),ls=':',label='$P_{NT}$', linewidth=linewidth)\n",
    "    ax.set_xlim([0,T_max])\n",
    "    ax.set_ylabel('\\% diff. to s.s.')\n",
    "    # ax.legend()\n",
    "    ax.set_title('CPI (P)')\n",
    "    ax.set_xlabel('Quarters')\n",
    "    ax.set_xticks(np.arange(0,T_max,4))\n",
    "\n",
    "    # Energy and non energy tradable \n",
    "    ax = fig.add_subplot(nrows,ncols,2)    \n",
    "    for model in models: \n",
    "        ax.plot(((model.path.X-model.ss.X)/model.ss.X-1),label='$C_E$', linewidth=linewidth, color= colors[i])\n",
    "        # ax.plot(((model.path.CTHF-model.ss.CTHF)/model.ss.CTHF),ls='--',label='$C_{goods}$', linewidth=linewidth)\n",
    "    # ax.plot((model.path.PE-model.ss.PE),ls=':',label='$P_{Energy}$', linewidth=linewidth)\n",
    "    ax.set_ylabel('\\% diff. to s.s.')\n",
    "    ax.set_xlim([0,T_max])\n",
    "    # ax.legend()\n",
    "    ax.set_title('Real Expenditure')\n",
    "    ax.set_xlabel('Quarters')\n",
    "    ax.set_xticks(np.arange(0,T_max,4))\n",
    "    \n",
    "    ax = fig.add_subplot(nrows,ncols,3)   \n",
    "    for i, model in enumerate(models): \n",
    "    # ax.plot((model.path.p-model.ss.p),label='$p$', linewidth=linewidth)\n",
    "        ax.plot(((model.path.CT-model.ss.CT)/model.ss.CT-1),label='$C_T$', linewidth=linewidth, color= colors[i])\n",
    "        # ax.plot(((model.path.CNT-model.ss.CNT)/model.ss.CNT),ls='--',label='$C_{NT}$', linewidth=linewidth)\n",
    "    # ax.plot((model.path.PNT-model.ss.PNT),ls=':',label='$P_{NT}$', linewidth=linewidth)\n",
    "    ax.set_xlim([0,T_max])\n",
    "    ax.set_ylabel('\\% diff. to s.s.')\n",
    "    # ax.legend()\n",
    "    ax.set_title('Cons. Tradable goods')\n",
    "    ax.set_xlabel('Quarters')\n",
    "    ax.set_xticks(np.arange(0,T_max,4))\n",
    "\n",
    "    # Energy and non energy tradable \n",
    "    ax = fig.add_subplot(nrows,ncols,4)    \n",
    "    for model in models: \n",
    "        ax.plot(((model.path.CNT-model.ss.CNT)/model.ss.CNT-1)*100,label='$C_E$', linewidth=linewidth, color= colors[i])\n",
    "        # ax.plot(((model.path.CTHF-model.ss.CTHF)/model.ss.CTHF),ls='--',label='$C_{goods}$', linewidth=linewidth)\n",
    "    # ax.plot((model.path.PE-model.ss.PE),ls=':',label='$P_{Energy}$', linewidth=linewidth)\n",
    "    ax.set_ylabel('\\% diff. to s.s.')\n",
    "    ax.set_xlim([0,T_max])\n",
    "    # ax.legend()\n",
    "    ax.set_title('Cons. Non-tradable services')\n",
    "    ax.set_xlabel('Quarters')\n",
    "    ax.set_xticks(np.arange(0,T_max,4))\n",
    "\n",
    "\n",
    "    fig.tight_layout()\n",
    "\n",
    "    return fig\n",
    "\n",
    "colors_reds = sns.color_palette(\"Reds\", n_colors=4)\n",
    "models = [model_baseline, model_homothetic]\n",
    "fig = show_IRFs(models, colors_reds)\n"
   ]
  },
  {
   "cell_type": "markdown",
   "metadata": {},
   "source": [
    "# Importance of gamma"
   ]
  },
  {
   "cell_type": "code",
   "execution_count": null,
   "metadata": {},
   "outputs": [],
   "source": [
    "fig = figs.plot_eta_T_RA_vs_gamma()\n",
    "if save_figs: fig.savefig('plots/eta_T_RA_vs_gamma.png', dpi=300, bbox_inches='tight')"
   ]
  },
  {
   "cell_type": "code",
   "execution_count": null,
   "metadata": {},
   "outputs": [],
   "source": [
    "model_g1 = IHANKModelClass(name='$\\gamma = 0.1$')\n",
    "model_g1.par.epsilon = 0.0\n",
    "model_g1.par.gamma = 0.10\n",
    "model_g1.find_ss()\n",
    "model_g1.compute_jacs()\n",
    "model_g1.find_transition_path(shocks=shock, do_end_check=False)\n"
   ]
  },
  {
   "cell_type": "code",
   "execution_count": null,
   "metadata": {},
   "outputs": [],
   "source": [
    "model_g2 = IHANKModelClass(name='$\\gamma = 0.2$')\n",
    "model_g2.par.epsilon = 0.0\n",
    "model_g2.par.gamma = 0.20\n",
    "model_g2.find_ss()\n",
    "model_g2.compute_jacs()\n",
    "model_g2.find_transition_path(shocks=shock, do_end_check=False)"
   ]
  },
  {
   "cell_type": "code",
   "execution_count": null,
   "metadata": {},
   "outputs": [],
   "source": [
    "model_g25 = IHANKModelClass(name='$\\gamma = 0.25$')\n",
    "model_g25.par.epsilon = 0.0\n",
    "model_g25.par.gamma = 0.25\n",
    "model_g25.find_ss()\n",
    "model_g25.compute_jacs()\n",
    "model_g25.find_transition_path(shocks=shock, do_end_check=False)"
   ]
  },
  {
   "cell_type": "code",
   "execution_count": null,
   "metadata": {},
   "outputs": [],
   "source": [
    "model_g3 = IHANKModelClass(name='$\\gamma = 0.3$')\n",
    "model_g3.par.epsilon = 0.0\n",
    "model_g3.par.gamma = 0.3\n",
    "model_g3.find_ss()\n",
    "model_g3.compute_jacs()\n",
    "model_g3.find_transition_path(shocks=shock, do_end_check=False)"
   ]
  },
  {
   "cell_type": "code",
   "execution_count": null,
   "metadata": {},
   "outputs": [],
   "source": [
    "model_CD.name = '$\\gamma = 0.0$'\n",
    "\n",
    "models = [model_CD,  model_g2,   model_g3]\n",
    "for model_i in models:\n",
    "    model_i.calc_additional_new()\n",
    "    model_i.name = f'$\\eta_T$ = {model_i.par.eta_T_RA:.2f}'\n",
    "    \n",
    "colors_reds = sns.color_palette(\"Reds\", n_colors=4)\n",
    "path_eta = ['CT', 'CNT', 'X'] \n",
    "\n",
    "\n",
    "fig = figs.show_IRFs(models, path_eta, maxcol=3)\n",
    "if save_figs: fig.savefig('plots/gamma_CD.png', dpi=300, bbox_inches='tight')"
   ]
  },
  {
   "cell_type": "markdown",
   "metadata": {},
   "source": [
    "# Effect of real wage stabilisation motive "
   ]
  },
  {
   "cell_type": "markdown",
   "metadata": {},
   "source": [
    "### Results "
   ]
  },
  {
   "cell_type": "code",
   "execution_count": null,
   "metadata": {},
   "outputs": [],
   "source": [
    "model_no_ws_CD = IHANKModelClass(name='$\\zeta = 0$')\n",
    "model_no_ws_CD.par.real_wage_motive = 0.0\n",
    "# model_no_ws_CD.par.epsilon = 0.0\n",
    "# model_no_ws_CD.par.gamma = 0.0\n",
    "model_no_ws_CD.par.rho_i = 0.0\n",
    "\n",
    "model_no_ws_CD.find_ss()\n",
    "model_no_ws_CD.compute_jacs()\n",
    "model_no_ws_CD.find_transition_path(shocks=shock, do_end_check=False)\n"
   ]
  },
  {
   "cell_type": "code",
   "execution_count": null,
   "metadata": {},
   "outputs": [],
   "source": [
    "model_no_ws_PIGL = IHANKModelClass(name='PIGL $\\zeta = 0$')\n",
    "model_no_ws_PIGL.par.real_wage_motive = 0.0\n",
    "model_no_ws_PIGL.par.mon_policy = 'taylor'\n",
    "\n",
    "model_no_ws_PIGL.find_ss()\n",
    "model_no_ws_PIGL.compute_jacs()\n",
    "model_no_ws_PIGL.find_transition_path(shocks=shock, do_end_check=False)\n"
   ]
  },
  {
   "cell_type": "code",
   "execution_count": null,
   "metadata": {},
   "outputs": [],
   "source": [
    "paths_wage_stabilisation = ['P', 'W']\n",
    "model_CD.name = '$\\zeta = 5.0$'\n",
    "\n",
    "\n",
    "fig = figs.show_IRFs([model_CD, model_no_ws_CD], paths_wage_stabilisation, T_max=50, legend_window=1)\n",
    "\n",
    "# if save_figs: fig.savefig('plots/wp_spiral.png', dpi=300, bbox_inches='tight')"
   ]
  },
  {
   "cell_type": "markdown",
   "metadata": {},
   "source": [
    "### IRFs robustness"
   ]
  },
  {
   "cell_type": "code",
   "execution_count": null,
   "metadata": {},
   "outputs": [],
   "source": [
    "model_no_ws_homo = IHANKModelClass(name='$\\zeta = 0 Homo$')\n",
    "model_no_ws_homo.par.real_wage_motive = 0.0\n",
    "model_no_ws_homo.par.epsilon = 0.0\n",
    "model_no_ws_homo.par.gamma = 0.18\n",
    "model_no_ws_homo.find_ss()\n",
    "model_no_ws_homo.compute_jacs()\n",
    "model_no_ws_homo.find_transition_path(shocks=shock, do_end_check=False)"
   ]
  },
  {
   "cell_type": "markdown",
   "metadata": {},
   "source": [
    "# Consumption"
   ]
  },
  {
   "cell_type": "markdown",
   "metadata": {},
   "source": [
    "### Goods and services"
   ]
  },
  {
   "cell_type": "markdown",
   "metadata": {},
   "source": [
    "# Correlations"
   ]
  },
  {
   "cell_type": "code",
   "execution_count": null,
   "metadata": {},
   "outputs": [],
   "source": [
    "# model_baseline.calc_additional_new()\n",
    "model_CD.calc_additional_new()\n",
    "fig = figs.plot_cor_e(model_CD)\n",
    "# if save_figs: fig.savefig('plots/cor_e.png', dpi=300, bbox_inches='tight')"
   ]
  },
  {
   "cell_type": "markdown",
   "metadata": {},
   "source": [
    "# Forigne economy "
   ]
  },
  {
   "cell_type": "code",
   "execution_count": null,
   "metadata": {},
   "outputs": [],
   "source": [
    "\n",
    "paths_forigne = ['PTH_s', 'CTH_s', 'Q', 'CTF']\n",
    "fig = figs.show_IRFs([model_CD], paths_forigne, maxcol=2)\n",
    "if save_figs: fig.savefig('plots/IRFs_forigne.png', dpi=300, bbox_inches='tight')"
   ]
  },
  {
   "cell_type": "markdown",
   "metadata": {},
   "source": [
    "# No wage stabilisation motive"
   ]
  },
  {
   "cell_type": "markdown",
   "metadata": {},
   "source": [
    "# Other elasticities of substitution"
   ]
  },
  {
   "cell_type": "markdown",
   "metadata": {},
   "source": [
    "### Eta E"
   ]
  },
  {
   "cell_type": "code",
   "execution_count": null,
   "metadata": {},
   "outputs": [],
   "source": [
    "model_etaE2 = IHANKModelClass(name= '$\\eta_E = 2.0$')\n",
    "model_etaE2.par.epsilon = 0.0\n",
    "model_etaE2.par.gamma = 0.0\n",
    "model_etaE2.par.etaE = 2.0\n",
    "model_etaE2.find_ss()\n",
    "model_etaE2.compute_jacs()\n",
    "model_etaE2.find_transition_path(shock, do_end_check=False)\n"
   ]
  },
  {
   "cell_type": "code",
   "execution_count": null,
   "metadata": {},
   "outputs": [],
   "source": [
    "model_etaE5 = IHANKModelClass(name= '$\\eta_E = 5.0$')\n",
    "model_etaE5.par.epsilon = 0.0\n",
    "model_etaE5.par.gamma = 0.0\n",
    "\n",
    "model_etaE5.par.etaE = 5.0\n",
    "model_etaE5.find_ss()\n",
    "model_etaE5.compute_jacs()\n",
    "model_etaE5.find_transition_path(shock, do_end_check=False)\n"
   ]
  },
  {
   "cell_type": "code",
   "execution_count": null,
   "metadata": {},
   "outputs": [],
   "source": [
    "model_etaE10 = IHANKModelClass(name= '$\\eta_E = 10.0$')\n",
    "model_etaE10.par.epsilon = 0.0\n",
    "model_etaE10.par.gamma = 0.0\n",
    "\n",
    "model_etaE10.par.etaE = 10.0\n",
    "model_etaE10.find_ss()\n",
    "model_etaE10.compute_jacs()\n",
    "model_etaE10.find_transition_path(shock, do_end_check=False)\n"
   ]
  },
  {
   "cell_type": "code",
   "execution_count": null,
   "metadata": {},
   "outputs": [],
   "source": [
    "model_CD.name = '$\\eta_E =0.1$'\n",
    "\n",
    "# models = [model_CD , model_etaE2, model_etaE5, model_etaE10]\n",
    "\n",
    "# models = [model_CD , model_etaE5, model_etaE10]\n",
    "models = [model_CD , model_etaE2, model_etaE5]\n",
    "\n",
    "paths_ = ['CE','YH', 'X']\n",
    "\n",
    "fig = figs.show_IRFs(models, paths_, legend_window=0)\n",
    "if save_figs: fig.savefig('plots/eta_E_CD.png', dpi=300, bbox_inches='tight')"
   ]
  },
  {
   "cell_type": "markdown",
   "metadata": {},
   "source": [
    "### Eta F and eta S "
   ]
  },
  {
   "cell_type": "code",
   "execution_count": null,
   "metadata": {},
   "outputs": [],
   "source": [
    "model_etaF1 = IHANKModelClass(name= 'Eta = 1.0')\n",
    "model_etaF1.par.etaF = 1.0\n",
    "model_etaF1.par.eta_s = 1.0\n",
    "model_etaF1.find_ss()\n",
    "model_etaF1.compute_jacs()\n",
    "model_etaF1.find_transition_path(shock, do_end_check=False)"
   ]
  },
  {
   "cell_type": "code",
   "execution_count": null,
   "metadata": {},
   "outputs": [],
   "source": [
    "model_etaF2 = IHANKModelClass(name= 'Eta = 2.0')\n",
    "model_etaF2.par.etaF = 2.0\n",
    "model_etaF2.par.eta_s = 2.0\n",
    "model_etaF2.find_ss()\n",
    "model_etaF2.compute_jacs()\n",
    "model_etaF2.find_transition_path(shock, do_end_check=False)"
   ]
  },
  {
   "cell_type": "code",
   "execution_count": null,
   "metadata": {},
   "outputs": [],
   "source": [
    "model_etaF5 = IHANKModelClass(name= 'Eta = 3.0')\n",
    "model_etaF5.par.etaF = 3.0\n",
    "model_etaF5.par.eta_s = 3.0\n",
    "model_etaF5.find_ss()\n",
    "model_etaF5.compute_jacs()\n",
    "model_etaF5.find_transition_path(shock, do_end_check=False)"
   ]
  },
  {
   "cell_type": "code",
   "execution_count": null,
   "metadata": {},
   "outputs": [],
   "source": [
    "model_baseline.name = 'Eta = 0.5'\n",
    "models = [model_baseline, model_etaF1 , model_etaF2, model_etaF5]\n",
    "\n",
    "paths_ = ['PTH', 'E', 'PTH_s', 'CTH', 'CTF', 'CTH_s' , 'X', 'PF']\n",
    "# paths_ = [ 'CTH', 'CTF', 'CTH_s' , 'X']\n",
    "fig = figs.show_IRFs(models, paths_)\n",
    "# if save_figs: fig.savefig('plots/eta_F.png', dpi=300, bbox_inches='tight')"
   ]
  },
  {
   "cell_type": "markdown",
   "metadata": {},
   "source": [
    "# Energy share"
   ]
  },
  {
   "cell_type": "code",
   "execution_count": null,
   "metadata": {},
   "outputs": [],
   "source": [
    "# High energy \n",
    "model_EHigh = IHANKModelClass(name = 'High Energy')\n",
    "model_EHigh.par.alphaE = model_baseline.par.alphaE *2\n",
    "model_EHigh.find_ss()\n",
    "model_EHigh.compute_jacs()\n",
    "model_EHigh.find_transition_path(shock, do_end_check=False)\n",
    "\n",
    "\n",
    "# High energy \n",
    "model_ELow = IHANKModelClass(name = 'Low Energy')\n",
    "model_ELow.par.alphaE = model_baseline.par.alphaE /2\n",
    "model_ELow.find_ss()\n",
    "model_ELow.compute_jacs()\n",
    "model_ELow.find_transition_path(shock, do_end_check=False)"
   ]
  },
  {
   "cell_type": "code",
   "execution_count": null,
   "metadata": {},
   "outputs": [],
   "source": [
    "paths = []\n",
    "fig = figs.show_IRFs([model_ELow,model_baseline, model_EHigh])\n",
    "if save_figs: fig.savefig('plots/eta_F.png', dpi=300, bbox_inches='tight')"
   ]
  },
  {
   "cell_type": "markdown",
   "metadata": {},
   "source": [
    "# Monetary Policy"
   ]
  },
  {
   "cell_type": "code",
   "execution_count": null,
   "metadata": {},
   "outputs": [],
   "source": [
    "model_tight = IHANKModelClass(name='Tight mon policy')\n",
    "model_tight.par.phi = 2.0\n",
    "model_tight.find_ss()\n",
    "model_tight.compute_jacs()\n",
    "model_tight.find_transition_path(shocks=shock, do_end_check=False)"
   ]
  },
  {
   "cell_type": "code",
   "execution_count": null,
   "metadata": {},
   "outputs": [],
   "source": [
    "# In notbook_complete2 copy\n",
    "# hh_state_basline \n",
    "fig = figs.show_IRFs([model, model_tight])"
   ]
  },
  {
   "cell_type": "markdown",
   "metadata": {},
   "source": [
    "# State dependence"
   ]
  },
  {
   "cell_type": "code",
   "execution_count": 7,
   "metadata": {},
   "outputs": [
    {
     "ename": "",
     "evalue": "",
     "output_type": "error",
     "traceback": [
      "\u001b[1;31mThe Kernel crashed while executing code in the the current cell or a previous cell. Please review the code in the cell(s) to identify a possible cause of the failure. Click <a href='https://aka.ms/vscodeJupyterKernelCrash'>here</a> for more info. View Jupyter <a href='command:jupyter.viewOutput'>log</a> for further details."
     ]
    }
   ],
   "source": [
    "state_X_CD, state_X_CD_NH, state_CNT_CT_CD_CNT = figs.show_states(model_CD, shock, model_alt=model_NH, T_max=20)\n",
    "\n",
    "\n",
    "state_X_CD.savefig('plots/state_X_CD.png', dpi=300, bbox_inches='tight')\n",
    "state_X_CD_NH.savefig('plots/state_X_CD_NH.png', dpi=300, bbox_inches='tight')\n",
    "state_CNT_CT_CD_CNT.savefig('plots/state_CNT_CT_CD_CNT.png', dpi=300, bbox_inches='tight')\n"
   ]
  },
  {
   "cell_type": "markdown",
   "metadata": {},
   "source": [
    "# Different prices"
   ]
  },
  {
   "cell_type": "code",
   "execution_count": null,
   "metadata": {},
   "outputs": [],
   "source": [
    "fig = figs.show_coh_and_mpc()"
   ]
  },
  {
   "cell_type": "code",
   "execution_count": null,
   "metadata": {},
   "outputs": [],
   "source": [
    "fig = figs.show_pi(model_NH)\n",
    "if save_figs: fig.savefig('plots/pi_MPC.png', dpi=300, bbox_inches='tight')"
   ]
  },
  {
   "cell_type": "markdown",
   "metadata": {},
   "source": [
    "# Others"
   ]
  },
  {
   "cell_type": "code",
   "execution_count": null,
   "metadata": {},
   "outputs": [],
   "source": [
    "paths_ = [ 'E', 'Q', 'PTH', 'PTH_s', 'CTH_s', 'CTH', 'CTF', 'PF',  'PTH_s']\n",
    "\n",
    "\n",
    "# What I want, \n",
    "#how does the relative price of our goods change \n",
    "# How does the relative price of their goods change\n",
    "\n",
    "paths_ = ['PTH_s', 'CTH_s', 'Q', 'CTF']\n",
    "\n",
    "# paths_ = [ 'E', 'Q', 'P', 'i', 'r_real' , 'PF'] #, 'CTH_s', 'CTH', 'CTF', 'PF', 'PE', 'PE_s']\n",
    "\n",
    "# paths_ = [ 'E', 'Q', 'PTH', 'PTH_s', 'PF', 'Q', 'r_real', 'P']\n",
    "\n",
    "fig = figs.show_IRFs([model_CD, model_NH], paths_, T_max=T_max_, maxcol=2)"
   ]
  },
  {
   "cell_type": "code",
   "execution_count": null,
   "metadata": {},
   "outputs": [],
   "source": [
    "model_CD_e = IHANKModelClass(name='CD e = 0.18')\n",
    "model_CD_e.par.epsilon = 0.0\n",
    "model_CD_e.par.gamma = 0.0\n",
    "model_CD_e.par.etaF = 2.0\n",
    "model_CD_e.par.eta_s = 2.0\n",
    "model_CD_e.find_ss()\n",
    "model_CD_e.compute_jacs()\n",
    "model_CD_e.find_transition_path(shocks=shock, do_end_check=False)"
   ]
  },
  {
   "cell_type": "code",
   "execution_count": null,
   "metadata": {},
   "outputs": [],
   "source": [
    "model_NH_e = IHANKModelClass(name='CD e = 0.18')\n",
    "\n",
    "model_NH_e.par.etaF = 2.0\n",
    "model_NH_e.par.eta_s = 2.0\n",
    "model_NH_e.find_ss()\n",
    "model_NH_e.compute_jacs()\n",
    "model_NH_e.find_transition_path(shocks=shock, do_end_check=False)"
   ]
  },
  {
   "cell_type": "code",
   "execution_count": null,
   "metadata": {},
   "outputs": [],
   "source": [
    "model_CD_e.name = 'Cobb-Douglas'\n",
    "model_NH_e.name = 'PIGL'\n",
    "\n",
    "\n",
    "paths_ = paths_ = ['P','W', 'w', 'X', 'YH', 'N', 'r_real',  'Q', 'CTH_s', 'CNT', 'CT', 'CTF']\n",
    "\n",
    "fig = figs.show_IRFs([model_CD_e, model_NH_e],paths_, T_max=T_max_)"
   ]
  }
 ],
 "metadata": {
  "kernelspec": {
   "display_name": "base",
   "language": "python",
   "name": "python3"
  },
  "language_info": {
   "codemirror_mode": {
    "name": "ipython",
    "version": 3
   },
   "file_extension": ".py",
   "mimetype": "text/x-python",
   "name": "python",
   "nbconvert_exporter": "python",
   "pygments_lexer": "ipython3",
   "version": "3.9.13"
  }
 },
 "nbformat": 4,
 "nbformat_minor": 2
}

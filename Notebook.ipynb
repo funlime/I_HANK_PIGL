{
 "cells": [
  {
   "cell_type": "markdown",
   "metadata": {},
   "source": [
    "Note that the variables in the houshold problem e, a, are in terms of non-tradable goods. We can convert them to tradable goods by multiplying them by the price of the non-tradable good. Consumption outputs c are in real terms."
   ]
  },
  {
   "cell_type": "code",
   "execution_count": 1,
   "metadata": {},
   "outputs": [],
   "source": [
    "%load_ext autoreload\n",
    "%autoreload 2\n",
    "\n",
    "\n",
    "import numpy as np\n",
    "import sys\n",
    "\n",
    "import matplotlib.pyplot as plt  \n",
    "import seaborn as sns\n",
    "import figures as figs\n",
    "import calculations\n",
    "from types import SimpleNamespace\n",
    "import pandas as pd\n",
    "\n",
    "# Ploting jacobians wrt ptilde\n",
    "from matplotlib.ticker import FormatStrFormatter\n",
    "\n",
    "from seaborn import set_palette\n",
    "from matplotlib import rc\n",
    "plt.style.use('seaborn-v0_8-white')\n",
    "set_palette(\"colorblind\")\n",
    "rc('font',**{'family':'serif','serif': ['Palatino']})\n",
    "rc('text',usetex=True)\n",
    "\n",
    "colors = plt.rcParams['axes.prop_cycle'].by_key()['color']\n",
    "plt.rcParams.update({\"axes.grid\" : True, \"grid.color\": \"black\", \"grid.alpha\":\"0.25\", \"grid.linestyle\": \"--\"})\n",
    "plt.rcParams.update({'font.size': 14})\n",
    "\n",
    "# Should make insure text size in latex mode\n",
    "# plt.rcParams.update({\n",
    "#     \"text.latex.preamble\": r\"\\usepackage{palatino} \\normalsize\"\n",
    "# })\n",
    "\n",
    "from IHANKModel import IHANKModelClass\n",
    "\n"
   ]
  },
  {
   "cell_type": "code",
   "execution_count": 2,
   "metadata": {},
   "outputs": [],
   "source": [
    "# options\n",
    "model = IHANKModelClass(name='baseline')\n",
    "set_options = True\n",
    "if set_options:\n",
    "\n",
    "\n",
    "    run_test = False\n",
    "    save_figs = False\n",
    "\n",
    "    # Options for figures\n",
    "    path = '/Users/emmagundersen/Desktop/Current code/I_HANK_PIGL1703/fig/1903/'\n",
    "    lvl_path = ['U_hh', 'Walras', 'CB', 'i', 'NX', 'CA', 'ra', 'iF_s',  'iF_s']\n",
    "    path_philips= ['WTH', 'WNT', 'NTH', 'NNT', 'PTH', 'PNT', 'PF', 'UC_TH_hh', 'UC_NT_hh', 'EX']\n",
    "    paths = ['PE_s', 'PE', 'YH',  'W', 'P', 'w', 'tau',  'N', 'INC', 'inc',  'CT', 'CNT', 'p', 'E', 'PF_s', 'PF', 'CTH_s', 'i', 'ra', 'iF_s']\n",
    "    target_var = ['PE_s', 'PE', 'p', 'inc_NT', 'inc_TH', 'ra', 'i', 'Q']\n",
    "    paths_2 = ['PE', 'PT', 'PNT', 'p', 'CT', 'CNT', 'YH', 'P', 'W', 'w', 'PF']\n",
    "    paths_extended = ['E', 'NTH', 'NNT', 'YTH', 'YNT', 'WTH', 'WNT', 'PTH', 'PNT', 'PF', 'PTH_s', 'PT', 'P', 'PE', 'PTHF', 'PE_s', 'E', 'Q', 'DomP', 'i', 'r_real', 'G', 'B', 'tau', 'div_TH', 'div_NT', 'inc_TH', 'inc_NT', 'ra', 'p', 'n_NT', 'n_TH', 'A_hh', 'C_hh', 'UC_TH_hh', 'UC_NT_hh', 'E_hh', 'CNT_hh', 'CT_hh', 'U_hh', 'CT', 'CNT', 'CTF', 'CTH', 'CTH_s', 'A', 'EX', 'CTHF', 'CE', 'YH', 'W', 'w', 'N', 'INC', 'inc']\n",
    "    paths_ = ['YH', 'CT', 'CNT', 'W', 'P', 'w', 'r_real',  'Q', 'p', 'inc', 'INC']\n",
    "\n",
    "    # Options for shock \n",
    "\n",
    "    shock_PE_i, shock_PE_s, shock_forigne_interest, shock_PF_s, shock_PF_s_taylor, shock_PE_PF, shock_PE_PF_taylor, shock_i = calculations.difine_shocks(model, scale=0.05, rho = 0.8) \n",
    "    \n",
    "    # Options for tables\n",
    "    pd.set_option('display.max_rows', None)  # Show all rows\n",
    "    pd.set_option('display.max_columns', None)  # Show all columns\n",
    "    pd.set_option('display.width', 1000)  # Increase width to avoid line breaks\n",
    "    pd.set_option('display.colheader_justify', 'center')  # Center column headers\n",
    "\n",
    "    # Options for comparing models\n",
    "    ddd = SimpleNamespace()\n",
    "    ddd.T_max = 50\n",
    "    ddd.ncols = 3\n",
    "    ddd.varnames = paths_extended\n",
    "    ddd.lvl_value = lvl_path\n",
    "    ddd.do_shocks = False\n",
    "    ddd.do_targets = False\n",
    "    ddd.filename = None\n",
    "\n",
    "\n",
    "\n",
    "\n",
    "\n",
    "    # Parameters to look at \n",
    "    # model.par.eta_s = 0.51\n",
    "    # model.par.etaF = 0.51\n",
    "    # model.par.nu = 0.7\n",
    "    # model.par.etaE = 0.01\n",
    "    # model.par.mon_policy = 'taylor'\n",
    "    # model.par.phi = 1.5\n",
    "    # model.par.kappa = 2.0\n",
    "    # model.par.gamma = 0.4\n",
    "    # model.par.nu = 0.3\n"
   ]
  },
  {
   "cell_type": "code",
   "execution_count": 3,
   "metadata": {},
   "outputs": [],
   "source": [
    "model = IHANKModelClass(name='Baseline')\n",
    "model.find_ss()\n",
    "model.compute_jacs()\n",
    "model.find_transition_path(shocks=shock_PE_s, do_end_check=False)"
   ]
  },
  {
   "cell_type": "code",
   "execution_count": 36,
   "metadata": {},
   "outputs": [],
   "source": [
    "model_alt = model.copy(name='New initial distirbution')\n",
    "model_alt.ss.Dbeg = np.zeros(model.ss.Dbeg.shape)\n",
    "model_alt.ss.Dbeg[0,0,0] = 1.0\n",
    "# model_alt.solve_hh_ss()\n",
    "# model_alt.solve_hh_path()\n",
    "model_alt.simulate_hh_path()\n",
    "model_alt.ss.CNT_hh = model_alt.ss.cnt[0,0,0]\n"
   ]
  },
  {
   "cell_type": "code",
   "execution_count": null,
   "metadata": {},
   "outputs": [],
   "source": [
    "# I need path for how D(s) had evolved in the absence of the shock (inputs values fixed at ss)\n",
    "# 2 path for D(s) evolves in the precense of a shock (inputs values follow the transition path)"
   ]
  },
  {
   "cell_type": "code",
   "execution_count": 22,
   "metadata": {},
   "outputs": [],
   "source": [
    "Dbeg_low = np.zeros(model.ini.Dbeg.shape)\n",
    "Dbeg_low[0,2,10] = 1.0\n"
   ]
  },
  {
   "cell_type": "code",
   "execution_count": 23,
   "metadata": {},
   "outputs": [],
   "source": [
    "# Model for transition path with no shock\n",
    "\n",
    "# a. Model with paths for inputs\n",
    "model_no_shock = IHANKModelClass(name='Baseline, s = [0,0]')\n",
    "model_no_shock.find_ss()\n",
    "model_no_shock.compute_jacs()\n",
    "model_no_shock.find_transition_path(shocks=[])\n",
    "\n",
    "# b. simulation of path for state s = 0,0\n",
    "# model_no_shock.ss.Dbeg = np.zeros(model_no_shock.ini.Dbeg.shape)\n",
    "# model_no_shock.ss.Dbeg[0,0,0] = 1.0\n",
    "model_no_shock.simulate_hh_path(Dbeg = Dbeg_low)\n"
   ]
  },
  {
   "cell_type": "code",
   "execution_count": 34,
   "metadata": {},
   "outputs": [],
   "source": [
    "\n",
    "state = [0,0,0]\n",
    "\n",
    "Dbeg_low = np.zeros(model.ini.Dbeg.shape)\n",
    "Dbeg_low[tuple(state)] = 1.0"
   ]
  },
  {
   "cell_type": "code",
   "execution_count": 35,
   "metadata": {},
   "outputs": [
    {
     "data": {
      "text/plain": [
       "1.0"
      ]
     },
     "execution_count": 35,
     "metadata": {},
     "output_type": "execute_result"
    }
   ],
   "source": [
    "np.sum(Dbeg_low)"
   ]
  },
  {
   "cell_type": "code",
   "execution_count": 37,
   "metadata": {},
   "outputs": [
    {
     "name": "stdout",
     "output_type": "stream",
     "text": [
      "state= [0, 0, 0]\n"
     ]
    }
   ],
   "source": []
  },
  {
   "cell_type": "code",
   "execution_count": 43,
   "metadata": {},
   "outputs": [
    {
     "name": "stdout",
     "output_type": "stream",
     "text": [
      "low\n"
     ]
    }
   ],
   "source": [
    "\n",
    "states = {}\n",
    "states['low'] = [0,0,0]\n",
    "\n",
    "for stat in states.keys(): \n",
    "    print(stat)"
   ]
  },
  {
   "cell_type": "code",
   "execution_count": 62,
   "metadata": {},
   "outputs": [
    {
     "data": {
      "text/plain": [
       "<matplotlib.legend.Legend at 0x7f9d471c7c40>"
      ]
     },
     "execution_count": 62,
     "metadata": {},
     "output_type": "execute_result"
    },
    {
     "data": {
      "image/png": "[encoded data removed]",
      "text/plain": [
       "<Figure size 1000x600 with 2 Axes>"
      ]
     },
     "metadata": {},
     "output_type": "display_data"
    }
   ],
   "source": [
    "# a. Model with paths for inputs\n",
    "\n",
    "\n",
    "\n",
    "\n",
    "# def(model, shock, state):\n",
    "\n",
    "\n",
    "# Find paths for HH inputs \n",
    "\n",
    "#  Model with paths for inputs\n",
    "# model_no_shock = model.copy(name=f'Baseline')\n",
    "# model_no_shock.find_ss()\n",
    "# model_no_shock.compute_jacs()\n",
    "# model_no_shock.find_transition_path(shocks=[])\n",
    "\n",
    "# model_shock = IHANKModelClass(name='Shock')\n",
    "# model_shock.find_ss()\n",
    "# model_shock.compute_jacs()\n",
    "# model_shock.find_transition_path(shocks=shock_PE_s, do_end_check=False)\n",
    "\n",
    "\n",
    "# a.  Choose a state to simulate\n",
    "\n",
    "#dictionary of states \n",
    "states = {}\n",
    "states['low'] = [0,0,0]\n",
    "states['mid'] = [0,4,10]\n",
    "states['high'] = [0,6,300]\n",
    "\n",
    "CT_diff = {}\n",
    "CNT_diff = {}\n",
    "#------- for each state, simulate the path\n",
    "# state = 'low'\n",
    "\n",
    "for state in states.keys(): \n",
    "\n",
    "    # empty states\n",
    "    Dbeg_choice = np.zeros(model.ini.Dbeg.shape)\n",
    "    # choose state\n",
    "    Dbeg_choice[tuple(states[state])] = 1.0\n",
    "\n",
    "    # simulate HH path for states before shock\n",
    "    model_no_shock.simulate_hh_path(Dbeg = Dbeg_choice)\n",
    "    \n",
    "    # simulate HH path for states after shock\n",
    "    model_shock.simulate_hh_path(Dbeg = Dbeg_choice)\n",
    "\n",
    "\n",
    "\n",
    "    # Save the difference in paths for CT and CNT\n",
    "    CT_diff[state] = (model_shock.path.CT_hh - model_no_shock.path.CT_hh) / model_no_shock.path.CT_hh * 100\n",
    "    CNT_diff[state] = (model_shock.path.CNT_hh - model_no_shock.path.CNT_hh) / model_no_shock.path.CNT_hh * 100\n",
    "\n",
    "\n",
    "\n",
    "fig = plt.figure(figsize=(10, 6))\n",
    "ax = fig.add_subplot(121)\n",
    "ax.set_title('Consumption T')\n",
    "\n",
    "for state in states.keys(): \n",
    "    ax.plot(CT_diff[state][:16], label=state)\n",
    "\n",
    "ax.legend()\n",
    "\n",
    "\n",
    "ax = fig.add_subplot(122)\n",
    "ax.set_title('Consumption NT')\n",
    "for state in states.keys(): \n",
    "    ax.plot(CNT_diff[state][:10], label=state)\n",
    "ax.legend()\n",
    "\n"
   ]
  },
  {
   "cell_type": "code",
   "execution_count": 28,
   "metadata": {},
   "outputs": [
    {
     "data": {
      "text/plain": [
       "Text(0, 0.5, 'Consumption')"
      ]
     },
     "execution_count": 28,
     "metadata": {},
     "output_type": "execute_result"
    },
    {
     "data": {
      "image/png": "[encoded data removed]",
      "text/plain": [
       "<Figure size 800x400 with 1 Axes>"
      ]
     },
     "metadata": {},
     "output_type": "display_data"
    }
   ],
   "source": [
    "Cons_low_no_shock = model_no_shock.path.CNT_hh\n",
    "Cons_low_shock = model_shock.path.CNT_hh\n",
    "diff = (Cons_low_shock / Cons_low_no_shock-1)*100\n",
    "fig =plt.figure(figsize=(8, 4))\n",
    "ax = fig.add_subplot(1, 1, 1)\n",
    "\n",
    "ax.plot(diff, label='Consumption')\n",
    "\n",
    "ax.set_xlabel('Time')\n",
    "ax.set_ylabel('Consumption')\n"
   ]
  },
  {
   "cell_type": "code",
   "execution_count": 25,
   "metadata": {},
   "outputs": [
    {
     "data": {
      "image/png": "[encoded data removed]",
      "text/plain": [
       "<Figure size 1350x1000 with 7 Axes>"
      ]
     },
     "metadata": {},
     "output_type": "display_data"
    }
   ],
   "source": [
    "f = figs.show_IRFs([model_no_shock, model_shock], paths, maxcol=3)"
   ]
  },
  {
   "cell_type": "code",
   "execution_count": 11,
   "metadata": {},
   "outputs": [],
   "source": [
    "paths = ['inc_NT', 'inc_TH', 'ra', 'p', 'YTH', 'CT_hh', 'CNT_hh']"
   ]
  },
  {
   "cell_type": "code",
   "execution_count": null,
   "metadata": {},
   "outputs": [],
   "source": [
    "# b. How does this evolve for housholds in state s "
   ]
  },
  {
   "cell_type": "code",
   "execution_count": 29,
   "metadata": {},
   "outputs": [
    {
     "data": {
      "text/plain": [
       "1.0"
      ]
     },
     "execution_count": 29,
     "metadata": {},
     "output_type": "execute_result"
    }
   ],
   "source": [
    "np.sum(model_alt.ss.Dbeg)"
   ]
  },
  {
   "cell_type": "code",
   "execution_count": 24,
   "metadata": {},
   "outputs": [],
   "source": [
    "model_alt_high = model.copy(name='New initial distirbution high')\n",
    "model_alt_high.ss.Dbeg = np.zeros(model.ss.Dbeg.shape)\n",
    "model_alt_high.ss.Dbeg[0,6,100] = 1.0\n",
    "# model_alt_high.solve_hh_ss()\n",
    "model_alt_high.simulate_hh_path()"
   ]
  },
  {
   "cell_type": "code",
   "execution_count": 37,
   "metadata": {},
   "outputs": [
    {
     "data": {
      "image/png": "[encoded data removed]",
      "text/plain": [
       "<Figure size 1350x333.333 with 3 Axes>"
      ]
     },
     "metadata": {},
     "output_type": "display_data"
    }
   ],
   "source": [
    "fig = figs.show_IRFs([model, model_alt], ['WTH', 'CNT_hh', 'CT_hh'], maxcol=3)"
   ]
  },
  {
   "cell_type": "markdown",
   "metadata": {},
   "source": [
    "# Stop"
   ]
  },
  {
   "cell_type": "code",
   "execution_count": null,
   "metadata": {},
   "outputs": [],
   "source": [
    "model_fixed = model.copy(name = 'Fixed exchange rate')\n",
    "model_fixed.par.float = False\n",
    "model_fixed.find_ss()\n",
    "model_fixed.compute_jacs()\n",
    "model_fixed.find_transition_path(shocks=shock_PE_s, do_end_check=False)\n"
   ]
  },
  {
   "cell_type": "code",
   "execution_count": null,
   "metadata": {},
   "outputs": [],
   "source": [
    "fig = figs.show_IRFs([model, model_fixed], paths_, maxcol=3)"
   ]
  },
  {
   "cell_type": "code",
   "execution_count": null,
   "metadata": {},
   "outputs": [],
   "source": [
    "model_CB = IHANKModelClass(name='Cubb douglas')\n",
    "model_CB.par.epsilon = 0.0\n",
    "model_CB.par.gamma = 0.0\n",
    "# model_CB.par.real_wage_motive = 5.0 \n",
    "model_CB.find_ss()\n",
    "model_CB.compute_jacs()\n",
    "model_CB.find_transition_path(shocks=shock_PE_s, do_end_check=False)"
   ]
  },
  {
   "cell_type": "code",
   "execution_count": null,
   "metadata": {},
   "outputs": [],
   "source": []
  },
  {
   "cell_type": "code",
   "execution_count": null,
   "metadata": {},
   "outputs": [],
   "source": [
    "fig = figs.show_IRFs([model, model_CB], paths_, ['Non-Homothetic', 'Homothetic'], scale=False, maxcol=3)"
   ]
  },
  {
   "cell_type": "code",
   "execution_count": null,
   "metadata": {},
   "outputs": [],
   "source": [
    "model_homothetic = IHANKModelClass(name='Homothetic Preferences')\n",
    "model_homothetic.par.epsilon = 0.0\n",
    "model_homothetic.par.gamma = 0.18\n",
    "model_homothetic.par.real_wage_motive = 5.0 \n",
    "model_homothetic.find_ss()\n",
    "model_homothetic.compute_jacs()\n",
    "model_homothetic.find_transition_path(shocks=shock_PE_s, do_end_check=False)"
   ]
  },
  {
   "cell_type": "code",
   "execution_count": null,
   "metadata": {},
   "outputs": [],
   "source": [
    "fig = figs.show_IRFs([model_SM, model_homothetic], model.varlist, ['Non-Homothetic', 'Homothetic'], scale=False, maxcol=3)\n"
   ]
  },
  {
   "cell_type": "code",
   "execution_count": null,
   "metadata": {},
   "outputs": [],
   "source": [
    "model = IHANKModelClass(name='Basline')\n",
    "model.find_ss()\n",
    "# model.compute_jacs()\n",
    "# model.find_transition_path(shocks=shock_PE_s, do_end_check=False)"
   ]
  },
  {
   "cell_type": "code",
   "execution_count": null,
   "metadata": {},
   "outputs": [],
   "source": [
    "model.test_ss()"
   ]
  },
  {
   "cell_type": "code",
   "execution_count": null,
   "metadata": {},
   "outputs": [],
   "source": [
    "model.compute_jacs()"
   ]
  },
  {
   "cell_type": "code",
   "execution_count": null,
   "metadata": {},
   "outputs": [],
   "source": [
    "model.test_path()"
   ]
  },
  {
   "cell_type": "code",
   "execution_count": null,
   "metadata": {},
   "outputs": [],
   "source": [
    "model.find_transition_path(shocks=shock_PE_s, do_end_check=False)"
   ]
  },
  {
   "cell_type": "code",
   "execution_count": null,
   "metadata": {},
   "outputs": [],
   "source": [
    "figs.show_IRFs([model], paths_, labels=[model.name],  scale=False, maxcol=3, T_max=500)"
   ]
  },
  {
   "cell_type": "code",
   "execution_count": null,
   "metadata": {},
   "outputs": [],
   "source": []
  },
  {
   "cell_type": "code",
   "execution_count": null,
   "metadata": {},
   "outputs": [],
   "source": [
    "model_SM.test_ss()"
   ]
  },
  {
   "cell_type": "code",
   "execution_count": null,
   "metadata": {},
   "outputs": [],
   "source": [
    "model_SM.compute_jacs()"
   ]
  },
  {
   "cell_type": "code",
   "execution_count": null,
   "metadata": {},
   "outputs": [],
   "source": [
    "model_SM.test_path()"
   ]
  },
  {
   "cell_type": "code",
   "execution_count": null,
   "metadata": {},
   "outputs": [],
   "source": [
    "model_SM.find_transition_path(shocks=shock_PE_s, do_end_check=False)"
   ]
  },
  {
   "cell_type": "code",
   "execution_count": null,
   "metadata": {},
   "outputs": [],
   "source": [
    "model_SM.show_IRFs(paths_,   do_shocks=False, ncols=3, T_max=10)"
   ]
  },
  {
   "cell_type": "code",
   "execution_count": null,
   "metadata": {},
   "outputs": [],
   "source": [
    "figs.show_IRFs([model, model_SM], model.varlist, labels=[model.name, model_SM.name],  scale=False, maxcol=3, T_max=50)"
   ]
  },
  {
   "cell_type": "code",
   "execution_count": null,
   "metadata": {},
   "outputs": [],
   "source": [
    "model_SM_ppi = model_SM.copy(name = 'Real wage stabilization + PPI')  \n",
    "\n",
    "model_SM_ppi.par.mon_policy = 'taylor_ppi'\n",
    "model_SM_ppi.find_ss()\n",
    "model_SM_ppi.compute_jacs()\n",
    "model_SM_ppi.find_transition_path(shocks=shock_PE_s, do_end_check=False)\n"
   ]
  },
  {
   "cell_type": "code",
   "execution_count": null,
   "metadata": {},
   "outputs": [],
   "source": [
    "model_SM_pers = model_SM.copy(name = 'Real wage stabilization i persistance')  \n",
    "\n",
    "model_SM_pers.par.mon_policy = 'taylor_persistant'\n",
    "model_SM_pers.find_ss()\n",
    "model_SM_pers.compute_jacs()\n",
    "model_SM_pers.find_transition_path(shocks=shock_PE_s, do_end_check=False)\n"
   ]
  },
  {
   "cell_type": "code",
   "execution_count": null,
   "metadata": {},
   "outputs": [],
   "source": [
    "figs.show_IRFs([ model_SM,  model_SM_pers], paths_, labels=[ model_SM.name, model_SM_pers.name],  scale=False, maxcol=3, T_max=20)"
   ]
  },
  {
   "cell_type": "markdown",
   "metadata": {},
   "source": [
    "# Current"
   ]
  },
  {
   "cell_type": "code",
   "execution_count": null,
   "metadata": {},
   "outputs": [],
   "source": [
    "model.calc_additional()"
   ]
  },
  {
   "cell_type": "code",
   "execution_count": null,
   "metadata": {},
   "outputs": [],
   "source": [
    "\n",
    "def show_p_MPC(model, linewidth =1.0, type = 0):\n",
    "\n",
    "    ncols = 2\n",
    "    nrows = 1\n",
    "    T_max = 17\n",
    "\n",
    "\n",
    "    fig = plt.figure(figsize=(4.3*ncols/1.1,3.6*nrows/1.2),dpi=100)\n",
    "    # fig.suptitle(f'{model.name},  Individal Price indexes', fontsize=20)\n",
    "\n",
    "    # period 0\n",
    "    t = 0 \n",
    "    ax = fig.add_subplot(nrows,ncols,1)    \n",
    "    # For ever second income\n",
    "    for inc in range(0, 7, 2):\n",
    "        # For every period\n",
    "        ax.scatter( model.ss.MPC_e[type,inc,:], (model.path.p[t,type,inc,:]-1)*100, label=f'z = {inc}', linewidth=linewidth)\n",
    "    \n",
    "    ax.set_xlabel(r' $a_{t-1}$', fontsize=10) # ****\n",
    "    ax.set_ylabel('\\% diff. to s.s.')\n",
    "    ax.legend(loc='upper right', fontsize=12, frameon=False)\n",
    "    ax.set_title(f'Individuals COL - Period {t}', fontsize=16)\n",
    "    # ax.legend()\n",
    "\n",
    "    # period 7 \n",
    "    t = 20\n",
    "    ax = fig.add_subplot(nrows,ncols,2)\n",
    "\n",
    "    # For ever second income\n",
    "    for inc in range(0, 7, 2):\n",
    "        # For every period\n",
    "        ax.plot(model.par.a_grid[:], (model.path.p[t,type,inc,:]-1)*100, label=f'z = {inc}', linewidth=linewidth)\n",
    "    ax.set_title(f'Individuals COL - Period {t}', fontsize=16)\n",
    "    ax.set_xlabel(r' $a_{t-1}$', fontsize=16) # ****\n",
    "    ax.set_ylabel('\\% diff. to s.s.')\n",
    "    # ax.set_ylim(-0.5, 0.5)\n",
    "\n",
    "    fig.tight_layout()\n",
    "    return fig\n",
    "\n",
    "fig = show_p_MPC(model, linewidth =1.0, type = 0)\n"
   ]
  },
  {
   "cell_type": "markdown",
   "metadata": {},
   "source": [
    "# New "
   ]
  },
  {
   "cell_type": "code",
   "execution_count": null,
   "metadata": {},
   "outputs": [],
   "source": [
    "\n",
    "i_z = 0\n",
    "a_ = 100\n",
    "s = 0\n",
    "t = 0"
   ]
  },
  {
   "cell_type": "code",
   "execution_count": null,
   "metadata": {},
   "outputs": [],
   "source": [
    "\n",
    "\n",
    "\n",
    "\n",
    "# base periode expenditure share on nontradables\n",
    "ss.ct_exp_share = ss.ct/(ss.cnt + ss.ct) # prices are normalized to 1\n",
    "\n",
    "\n",
    "\n",
    "\n",
    "# Step 1: Reshape arrays for broadcasting\n",
    "ct_exp_share = ss.ct_exp_share[np.newaxis, :, :, :]         # (1, 2, 7, 500)\n",
    "PT = path.PT[:, 0].reshape(-1, 1, 1, 1)                      # (500, 1, 1, 1)\n",
    "PNT = path.PNT[:, 0].reshape(-1, 1, 1, 1)                    # (500, 1, 1, 1)\n",
    "\n",
    "# Step 2: Compute components\n",
    "term1 = (1 - (par.epsilon * ct_exp_share) / par.gamma) * PNT ** par.gamma\n",
    "term2 = ((par.epsilon * ct_exp_share) / par.gamma) * PT ** par.gamma\n",
    "\n",
    "# Step 3: Compute p_tilde and p\n",
    "p_tilde = (term1 + term2) ** (1 / par.gamma)\n",
    "p = p_tilde ** (par.gamma / par.epsilon) * PNT ** (1 - par.gamma / par.epsilon)\n",
    "\n",
    "\n",
    "\n",
    "# print(ss.ct_exp_share.shape)\n",
    "\n",
    "# print(path.PT.shape)\n",
    "\n",
    "# p_tilde = ((1-(par.epsilon*ss.ct_exp_share)/par.gamma)*path.PNT**par.gamma + ((par.epsilon**ss.ct_exp_share)/par.gamma)*path.PT**par.gamma)**(1/par.gamma)\n",
    "# p = p_tilde**(par.gamma/par.epsilon)*path.PNT**(1-par.gamma/par.epsilon)\n",
    "\n",
    "\n",
    "\n",
    "# p_tilde = ((1-(par.epsilon*ss.ct_exp_share)/par.gamma)*path.PNT**par.gamma + ((par.epsilon**ss.ct_exp_share)/par.gamma)*path.PT**par.gamma)**(1/par.gamma)\n",
    "# p = p_tilde**(par.gamma/par.epsilon)*path.PNT**(1-par.gamma/par.epsilon)\n",
    "\n",
    "\n",
    "# \n",
    "# p_tilde = ((1-(par.epsilon*ss.ct_exp_share)/par.gamma)*path.PNT**par.gamma + ((par.epsilon**ss.ct_exp_share)/par.gamma)*path.PT**par.gamma)**(1/par.gamma)\n",
    "# p = p_tilde**(par.gamma/par.epsilon)*path.PNT**(1-par.gamma/par.epsilon)\n"
   ]
  },
  {
   "cell_type": "code",
   "execution_count": null,
   "metadata": {},
   "outputs": [],
   "source": [
    "p.shape"
   ]
  },
  {
   "cell_type": "code",
   "execution_count": null,
   "metadata": {},
   "outputs": [],
   "source": [
    "model.ss.cnt.shape"
   ]
  },
  {
   "cell_type": "code",
   "execution_count": null,
   "metadata": {},
   "outputs": [],
   "source": [
    "\n"
   ]
  },
  {
   "cell_type": "code",
   "execution_count": null,
   "metadata": {},
   "outputs": [],
   "source": [
    "\n",
    "\n",
    "\n",
    "\n",
    "# Expenditure \n",
    "model_baseline.path.cnt_exp = model_baseline.path.cnt * model_baseline.path.PNT[:, None, None]\n",
    "model_baseline.path.ct_exp = model_baseline.path.ct * model_baseline.path.PT[:, None, None]\n",
    "model_baseline.path.ct_exp_share = model_baseline.path.ct_exp /(model_baseline.path.ct_exp + model_baseline.path.cnt_exp) \n",
    "model_baseline.path.p = # Gusse on this based on: \n",
    "\n",
    "# Individual prices\n",
    "p_tilde = ((1-(model.par.epsilon*model.path.ct_exp_share)/model.par.gamma)*model.path.PNT[t]**model.par.gamma + ((model.par.epsilon**model.path.ct_exp_share)/model.par.gamma)*model.path.PT[t]**model.par.gamma)**(1/model.par.gamma)\n",
    "p = p_tilde**(model.par.gamma/model.par.epsilon)*model.path.PNT[t]**(1-model.par.gamma/model.par.epsilon)\n",
    "\n",
    "\n",
    "i_z = 0\n",
    "a_ = 100\n",
    "s = 0\n",
    "t = 0\n",
    "\n",
    "# np.shape(model_baseline.path.cnt_exp)\n",
    "\n",
    "for i_z in range(model_baseline.model.par.n_z):\n",
    "\n",
    "plt.plot(model_baseline.path.ct_exp_share[:,s,i_z,  a_])\n",
    "\n",
    "# plt.plot(model_baseline.path.e[0,s,:,  0])\n",
    "\n",
    "# plt.plot(model_baseline.path.ct_exp[1,s,i_z,  :])\n",
    "\n",
    "\n",
    "\n"
   ]
  },
  {
   "cell_type": "code",
   "execution_count": null,
   "metadata": {},
   "outputs": [],
   "source": [
    "# Step 1: Compute expenditures\n",
    "model_baseline.path.cnt_exp = model_baseline.path.cnt * model_baseline.path.PNT[:, None, None]\n",
    "model_baseline.path.ct_exp = model_baseline.path.ct * model_baseline.path.PT[:, None, None]\n",
    "\n",
    "# Step 2: Compute tradable expenditure share\n",
    "model_baseline.path.ct_exp_share = model_baseline.path.ct_exp / (\n",
    "    model_baseline.path.ct_exp + model_baseline.path.cnt_exp\n",
    ")\n",
    "\n",
    "# Step 3: Build aggregate price index\n",
    "ct_share = model_baseline.path.ct_exp_share\n",
    "PNT = model_baseline.path.PNT[:, None, None]\n",
    "PT = model_baseline.path.PT[:, None, None]\n",
    "\n",
    "epsilon = model_baseline.par.epsilon\n",
    "gamma = model_baseline.par.gamma\n",
    "\n",
    "term1 = (1 - (epsilon * ct_share) / gamma) * PNT**gamma\n",
    "term2 = ((epsilon * ct_share) / gamma) * PT**gamma\n",
    "p_tilde = (term1 + term2)**(1 / gamma)\n",
    "\n",
    "model_baseline.path.p_ = p_tilde**(gamma / epsilon) * PNT**(1 - gamma / epsilon)\n"
   ]
  },
  {
   "cell_type": "code",
   "execution_count": null,
   "metadata": {},
   "outputs": [],
   "source": [
    "# Step 1: Compute expenditures\n",
    "model_baseline.path.cnt_exp = model_baseline.path.cnt * model_baseline.path.PNT[:, None, None]\n",
    "model_baseline.path.ct_exp = model_baseline.path.ct * model_baseline.path.PT[:, None, None]\n",
    "\n",
    "# Step 2: Compute tradable expenditure share\n",
    "model_baseline.path.ct_exp_share = model_baseline.path.ct_exp / (\n",
    "    model_baseline.path.ct_exp + model_baseline.path.cnt_exp\n",
    ")\n",
    "\n",
    "# Step 3: Build aggregate price index\n",
    "ct_share = model_baseline.path.ct_exp_share\n",
    "PNT = model_baseline.path.PNT[:, None, None]\n",
    "PT = model_baseline.path.PT[:, None, None]\n",
    "\n",
    "epsilon = model_baseline.par.epsilon\n",
    "gamma = model_baseline.par.gamma\n",
    "\n",
    "term1 = (1 - (epsilon * ct_share) / gamma) * PNT**gamma\n",
    "term2 = ((epsilon * ct_share) / gamma) * PT**gamma\n",
    "p_tilde = (term1 + term2)**(1 / gamma)\n",
    "\n",
    "model_baseline.path.p_ = p_tilde**(gamma / epsilon) * PNT**(1 - gamma / epsilon)\n"
   ]
  },
  {
   "cell_type": "code",
   "execution_count": null,
   "metadata": {},
   "outputs": [],
   "source": [
    "i_z = 0\n",
    "a_ = 100\n",
    "s = 0\n",
    "t = 0\n",
    "\n",
    "# np.shape(model_baseline.path.cnt_exp)\n",
    "\n",
    "from matplotlib.ticker import ScalarFormatter\n",
    "fig, ax = plt.subplots()\n",
    "# ax.plot(model_baseline.path.p[499, s, i_z, :])\n",
    "\n",
    "ax.plot(model_baseline.path.p_[2, s, i_z, :])\n",
    "\n",
    "# Make y-axis non-scientific\n",
    "ax.yaxis.set_major_formatter(ScalarFormatter(useOffset=False, useMathText=False))\n",
    "ax.ticklabel_format(style='plain', axis='y')  # Ensure plain formatting\n",
    "ax.set_ylim(0.95, 1.05)  # Set y-axis limits\n",
    "\n",
    "ax.set_title(\"Aggregate Price Index\")\n",
    "ax.set_xlabel(\"Time\")\n",
    "ax.set_ylabel(\"Price level\")\n",
    "plt.grid(True)\n",
    "plt.show()"
   ]
  },
  {
   "cell_type": "code",
   "execution_count": null,
   "metadata": {},
   "outputs": [],
   "source": [
    "np.shape(model_baseline.path.ct_exp)"
   ]
  },
  {
   "cell_type": "code",
   "execution_count": null,
   "metadata": {},
   "outputs": [],
   "source": [
    "path.cnt_exp = path.cnt * path.PNT[:, None, None]\n",
    "path.ct_exp = path.ct * path.PNT[:, None, None]\n",
    "path.ct_exp_share = path.ct_exp / (path.ct_exp+ path.cnt_exp)\n",
    "\n",
    "i_z = 0\n",
    "a_ = 50\n",
    "s = 0\n",
    "t = 0\n",
    "\n",
    "# np.shape(model_baseline.path.cnt_exp)\n",
    "\n",
    "plt.plot(model_baseline.path.cnt_exp[3,s,i_z,  :])\n",
    "plt.plot(model_baseline.path.ct_exp[1,s,i_z,  :])"
   ]
  },
  {
   "cell_type": "code",
   "execution_count": null,
   "metadata": {},
   "outputs": [],
   "source": [
    "model_homothetic = IHANKModelClass(name='Homothetic')\n",
    "model_homothetic.par.epsilon = 0.0\n",
    "model_homothetic.par.gamma = 0.18\n",
    "model_homothetic.find_ss()\n",
    "model_homothetic.compute_jacs()\n",
    "model_homothetic.find_transition_path(shocks=shock_PE_s, do_end_check=False)"
   ]
  },
  {
   "cell_type": "code",
   "execution_count": null,
   "metadata": {},
   "outputs": [],
   "source": [
    "i_z = 6\n",
    "a_ = 50\n",
    "s = 1\n",
    "t = 0\n",
    "\n",
    "model = model_baseline\n",
    "par = model.par\n",
    "\n",
    "a = model.path.a[t,s,i_z,:]*model.path.PNT[t]\n",
    "e = model.path.e[t,s,i_z,:]*model.path.PNT[t]\n",
    "\n",
    "cnt = model.path.cnt[t,s,i_z,:]*model.path.PNT[t]\n",
    "ct = model.path.ct[t,s,i_z,:]*model.path.PNT[t]\n",
    "\n",
    "cnt_epx = model.path.cnt[t,s,i_z,:]*model.path.PNT[t]\n",
    "ct_epx = model.path.ct[t,s,i_z,:]*model.path.PT[t]\n",
    "\n",
    "ct_epx_share  = omega_T =  ct_epx/e\n",
    "\n",
    "\n",
    "# Individual prices\n",
    "p_tilde = ((1-(par.epsilon*omega_T)/par.gamma)*model.path.PNT[t]**par.gamma + ((par.epsilon*omega_T)/par.gamma)*model.path.PT[t]**par.gamma)**(1/par.gamma)\n",
    "P = p_tilde**(par.gamma/par.epsilon)*model.path.PNT[t]**(1-par.gamma/par.epsilon)\n",
    "inlfation = (P-1)*100\n",
    "\n",
    "\n",
    "# p_tilde = ((1-(par.epsilon*par.omega_T)/par.gamma)*PNT**par.gamma + ((par.epsilon*par.omega_T)/par.gamma)*PT**par.gamma)**(1/par.gamma)\n",
    "\n",
    "\n",
    "\n",
    "ncols = 1    \n",
    "nrows = 1\n",
    "T_max = 17\n",
    "linewidth= 2.5 \n",
    "\n",
    "fig = plt.figure(figsize=(4.3*ncols/1.1,3.6*nrows/1.2),dpi=100)\n",
    "fig.suptitle(f'{model.name}', fontsize=20)\n",
    "\n",
    "ax = fig.add_subplot(nrows,ncols,1) \n",
    "ax.plot(a,inlfation, label='Baseline', color=colors[0], linewidth=linewidth)\n",
    "\n",
    "\n",
    "\n"
   ]
  },
  {
   "cell_type": "code",
   "execution_count": null,
   "metadata": {},
   "outputs": [],
   "source": [
    "model.ss.test =  model.ss.e\n",
    "np.shape(model.ss.test)"
   ]
  },
  {
   "cell_type": "code",
   "execution_count": null,
   "metadata": {},
   "outputs": [],
   "source": [
    "figs.show_IRFs([model_baseline, model_homothetic], paths_, labels=[model_baseline.name, model_homothetic.name],  scale=False, maxcol=3)"
   ]
  },
  {
   "cell_type": "code",
   "execution_count": null,
   "metadata": {},
   "outputs": [],
   "source": [
    "model_ppi_homo = IHANKModelClass(name='PPI Homothetic')\n",
    "model_ppi_homo.par.float = True\n",
    "model_ppi_homo.par.epsilon = 0.0\n",
    "model_ppi_homo.par.gamma = 0.18\n",
    "model_ppi_homo.par.mon_policy = 'taylor_ppi'\n",
    "model_ppi_homo.find_ss()\n",
    "model_ppi_homo.compute_jacs()\n",
    "model_ppi_homo.find_transition_path(shocks=shock_PE_s, do_end_check=False)\n",
    "figs.show_IRFs([model_ppi, model_ppi_homo], paths_, labels=[model_ppi.name, model_ppi_homo.name],  scale=False, maxcol=3)"
   ]
  },
  {
   "cell_type": "code",
   "execution_count": null,
   "metadata": {},
   "outputs": [],
   "source": [
    "model_ppi = IHANKModelClass(name='PPI')\n",
    "model_ppi.par.float = True\n",
    "model_ppi.par.mon_policy = 'taylor_ppi'\n",
    "model_ppi.find_ss()\n",
    "model_ppi.compute_jacs()\n",
    "model_ppi.find_transition_path(shocks=shock_PE_s, do_end_check=False)\n",
    "figs.show_IRFs([model_baseline, model_ppi], paths_, labels=[model_baseline.name, model_ppi.name],  scale=False, maxcol=3)"
   ]
  },
  {
   "cell_type": "code",
   "execution_count": null,
   "metadata": {},
   "outputs": [],
   "source": [
    "# IRF1 = ['YH', 'CT', 'CNT', 'W', 'P', 'w']\n",
    "paths_2 = ['YH', 'CT', 'CNT', 'W', 'P', 'w', 'r_real',  'Q', 'p', 'inc', 'INC']"
   ]
  },
  {
   "cell_type": "code",
   "execution_count": null,
   "metadata": {},
   "outputs": [],
   "source": [
    "fig = figs.show_IRFs([model_baseline, model_homothetic], paths_2, labels=[model_baseline.name, model_homothetic.name],  scale=False, maxcol=3)\n",
    "fig.savefig('plots/IRF_standard.png', dpi=300, bbox_inches='tight')"
   ]
  },
  {
   "cell_type": "code",
   "execution_count": null,
   "metadata": {},
   "outputs": [],
   "source": [
    "\n",
    "def show_c_IRFs(model):\n",
    "\n",
    "    ncols = 3\n",
    "    nrows = 1\n",
    "    T_max = 17\n",
    "    linewidth= 2.5 \n",
    "\n",
    "    fig = plt.figure(figsize=(4.3*ncols/1.1,3.6*nrows/1.2),dpi=100)\n",
    "    # Tradable and  non-tradable\n",
    "    fig.suptitle(f'{model.name} IRFs', fontsize=20)\n",
    "    \n",
    "    ax = fig.add_subplot(nrows,ncols,1)    \n",
    "    # ax.plot((model.path.p-model.ss.p),label='$p$', linewidth=linewidth)\n",
    "    ax.plot(((model.path.CT-model.ss.CT)/model.ss.CT),label='$C_T$', linewidth=linewidth)\n",
    "    ax.plot(((model.path.CNT-model.ss.CNT)/model.ss.CNT),ls='--',label='$C_{NT}$', linewidth=linewidth)\n",
    "    # ax.plot((model.path.PNT-model.ss.PNT),ls=':',label='$P_{NT}$', linewidth=linewidth)\n",
    "    ax.set_xlim([0,T_max])\n",
    "    ax.set_ylabel('\\% diff. to s.s.')\n",
    "    ax.legend()\n",
    "    ax.set_title('Tradeable vs. non-tradeables')\n",
    "    ax.set_xlabel('Quarters')\n",
    "    ax.set_xticks(np.arange(0,T_max,4))\n",
    "\n",
    "    # Energy and non energy tradable \n",
    "    ax = fig.add_subplot(nrows,ncols,2)    \n",
    "    ax.plot(((model.path.CE-model.ss.CE)/model.ss.CE),label='$C_E$', linewidth=linewidth)\n",
    "    ax.plot(((model.path.CTHF-model.ss.CTHF)/model.ss.CTHF),ls='--',label='$C_{goods}$', linewidth=linewidth)\n",
    "    # ax.plot((model.path.PE-model.ss.PE),ls=':',label='$P_{Energy}$', linewidth=linewidth)\n",
    "    ax.set_ylabel('\\% diff. to s.s.')\n",
    "    ax.set_xlim([0,T_max])\n",
    "    ax.legend()\n",
    "    ax.set_title('Energy vs. Goods')\n",
    "    ax.set_xlabel('Quarters')\n",
    "    ax.set_xticks(np.arange(0,T_max,4))\n",
    "\n",
    "    # Forign and domestic tradable \n",
    "    ax = fig.add_subplot(nrows,ncols,3)    \n",
    "    # ax.plot((model.path.PTHF-model.ss.PTHF),label='$P_{goods}$', linewidth=linewidth)\n",
    "    ax.plot(((model.path.CTF-model.ss.CTF)/model.ss.CTF),ls='--',label='$C_F$', linewidth=linewidth)\n",
    "    ax.plot(((model.path.CTH-model.ss.CTH)/model.ss.CTH),ls=':',label='$C_{TH}$', linewidth=linewidth)\n",
    "    ax.set_ylabel('\\% diff. to s.s.')\n",
    "    ax.set_xlim([0,T_max])\n",
    "    ax.legend(loc='lower right')\n",
    "    ax.set_title('Forigne vs. Home tradable')\n",
    "    ax.set_xlabel('Quarters')\n",
    "    ax.set_xticks(np.arange(0,T_max,4))\n",
    "\n",
    "    fig.tight_layout()\n",
    "\n",
    "    return fig\n",
    "fig = show_c_IRFs(model_baseline)"
   ]
  },
  {
   "cell_type": "code",
   "execution_count": null,
   "metadata": {},
   "outputs": [],
   "source": [
    "model_baseline.name = 'Basline Model'"
   ]
  },
  {
   "cell_type": "code",
   "execution_count": null,
   "metadata": {},
   "outputs": [],
   "source": [
    "fig = figs.show_c_IRFs(model_baseline)\n",
    "fig = figs.show_price_IRFs(model_baseline)"
   ]
  },
  {
   "cell_type": "code",
   "execution_count": null,
   "metadata": {},
   "outputs": [],
   "source": [
    "fig = show_c_IRFs(model_homothetic)"
   ]
  },
  {
   "cell_type": "code",
   "execution_count": null,
   "metadata": {},
   "outputs": [],
   "source": [
    "model_fixed = IHANKModelClass(name='Fixed')\n",
    "model_fixed.par.float = False\n",
    "model_fixed.find_ss()\n",
    "model_fixed.compute_jacs()\n",
    "model_fixed.find_transition_path(shocks=shock_PE_s, do_end_check=False)\n"
   ]
  },
  {
   "cell_type": "code",
   "execution_count": null,
   "metadata": {},
   "outputs": [],
   "source": [
    "figs.show_IRFs([model_baseline, model_fixed], paths_2, labels=[model_baseline.name, model_fixed.name],  scale=False, maxcol=3)"
   ]
  },
  {
   "cell_type": "code",
   "execution_count": null,
   "metadata": {},
   "outputs": [],
   "source": [
    "fig = show_price_IRFs(model_homothetic)"
   ]
  },
  {
   "cell_type": "code",
   "execution_count": null,
   "metadata": {},
   "outputs": [],
   "source": [
    "fig = figs.show_price_IRFs(model_baseline)"
   ]
  },
  {
   "cell_type": "code",
   "execution_count": null,
   "metadata": {},
   "outputs": [],
   "source": [
    "paths_NX = ['Q', 'CTH_s', 'CT' ]\n",
    "fig = figs.show_IRFs([model_baseline, model_homothetic], paths_NX, labels=[model_baseline.name, model_homothetic.name],  scale=False, maxcol=3)"
   ]
  },
  {
   "cell_type": "code",
   "execution_count": null,
   "metadata": {},
   "outputs": [],
   "source": []
  },
  {
   "cell_type": "code",
   "execution_count": null,
   "metadata": {},
   "outputs": [],
   "source": [
    "model_high_eta = IHANKModelClass(name='High eta')\n",
    "model_high_eta.par.eta_s = 2.0\n",
    "model_high_eta.par.etaF = 2.0\n",
    "model_high_eta.par.etaE = 2.0\n",
    "model_high_eta.par.gamma = 0.05\n",
    "model_high_eta.find_ss()\n",
    "model_high_eta.compute_jacs()\n",
    "model_high_eta.find_transition_path(shocks=shock_PE_s, do_end_check=False)\n"
   ]
  },
  {
   "cell_type": "code",
   "execution_count": null,
   "metadata": {},
   "outputs": [],
   "source": [
    "figs.show_IRFs([model_baseline, model_high_eta], paths_2, labels=[model_baseline.name, model_high_eta.name],  scale=False, maxcol=3)"
   ]
  },
  {
   "cell_type": "code",
   "execution_count": null,
   "metadata": {},
   "outputs": [],
   "source": [
    "model_low_nu = IHANKModelClass(name='Low nu')\n",
    "model_low_nu.par.nu = 0.3\n",
    "model_low_nu.find_ss()\n",
    "model_low_nu.compute_jacs()\n",
    "model_low_nu.find_transition_path(shocks=shock_PE_s, do_end_check=False)\n",
    "print(model_low_nu.par.eta_T_RA)"
   ]
  },
  {
   "cell_type": "code",
   "execution_count": null,
   "metadata": {},
   "outputs": [],
   "source": [
    "model_CES = IHANKModelClass(name='CES')\n",
    "model_CES.par.gamma = model_CES.par.epsilon\n",
    "model_CES.find_ss()\n",
    "model_CES.compute_jacs()\n",
    "model_CES.find_transition_path(shocks=shock_PE_s, do_end_check=False)\n",
    "print(model_CES.par.eta_T_RA)"
   ]
  },
  {
   "cell_type": "code",
   "execution_count": null,
   "metadata": {},
   "outputs": [],
   "source": [
    "fig = figs.show_IRFs([model_baseline, model_CES], paths_2, labels=[model_baseline.name, model_CES.name],  scale=False, maxcol=3)"
   ]
  },
  {
   "cell_type": "code",
   "execution_count": null,
   "metadata": {},
   "outputs": [],
   "source": [
    "model_easy = IHANKModelClass(name='Easy')\n",
    "model_easy.par.phi = 1.2\n",
    "model_easy.find_ss()\n",
    "model_easy.compute_jacs()\n",
    "model_easy.find_transition_path(shocks=shock_PE_s, do_end_check=False)\n"
   ]
  },
  {
   "cell_type": "code",
   "execution_count": null,
   "metadata": {},
   "outputs": [],
   "source": [
    "model_tight = IHANKModelClass(name='Tight')\n",
    "model_tight.par.phi = 1.7\n",
    "model_tight.find_ss()\n",
    "model_tight.compute_jacs()\n",
    "model_tight.find_transition_path(shocks=shock_PE_s, do_end_check=False)\n"
   ]
  },
  {
   "cell_type": "code",
   "execution_count": null,
   "metadata": {},
   "outputs": [],
   "source": [
    "figs.show_IRFs([model_baseline, model_easy, model_tight], paths_, labels=[model_baseline.name, model_easy.name, model_tight.name],  scale=False, maxcol=3)"
   ]
  },
  {
   "cell_type": "code",
   "execution_count": null,
   "metadata": {},
   "outputs": [],
   "source": [
    "i_z = 3\n",
    "models_list = [model_baseline , model_homothetic]\n",
    "\n",
    "line_styles = ['-', '--', '-.', ':']\n",
    "colors = ['r', 'b', 'g']\n",
    "\n",
    "fig = plt.figure(figsize=(12, 5))\n",
    "ax1 = fig.add_subplot(131)\n",
    "\n",
    "# for model in models_list:\n",
    "for i, model in enumerate(models_list):\n",
    "\n",
    "    ct_share = model.ss.ct[0,i_z,:]/ (model.ss.ct[0,i_z,:]+ model.ss.cnt[0,i_z,:])\n",
    "    e = model.ss.e[0,i_z,:]\n",
    "    a = model.par.a_grid[:]\n",
    "    ax1.plot(a,ct_share, label=model.name, linestyle= line_styles[i], color=colors[i])\n",
    "\n",
    "ax1.set_title('Consumption share of total consumption')\n",
    "\n",
    "\n",
    "ax2 = fig.add_subplot(132)\n",
    "for i, model in enumerate(models_list):\n",
    "    e = model.ss.e[0,i_z,:]\n",
    "    a = model.par.a_grid[:]\n",
    "    savings = model.ss.a[0,i_z,:]\n",
    "    ax2.plot(a,e, label=model.name, linestyle= line_styles[i], color=colors[i])\n",
    "    # ax2.plot(a,savings, label=model.name, linestyle= line_styles[i], color=colors[i])\n",
    "\n",
    "ax2.set_title('Expenditure')\n",
    "\n",
    "\n",
    "# Expenditure share of total expenditure\n",
    "ax3 = fig.add_subplot(133)\n",
    "for i, model in enumerate(models_list):\n",
    "    e = model.ss.e[0,i_z,:]\n",
    "    ct = model.ss.ct[0,i_z,:]\n",
    "    cnt = model.ss.cnt[0,i_z,:]\n",
    "    ax3.plot(a,ct, label=f'ct, {model.name}', linestyle= line_styles[i], color=colors[i])\n",
    "    ax3.plot(a,cnt, label=f'cnt, {model.name}', linestyle= line_styles[i], color=colors[i])\n",
    "\n",
    "ax3.set_title('Consumption and non-tradable consumption')\n",
    "# Legend below the plot\n",
    "ax3.legend(loc='lower right')\n",
    "\n",
    "\n",
    "fig.tight_layout()\n",
    "\n",
    "# ct_share = model.ss.ct[0,i_z,:]/ (model.ss.ct[0,i_z,:]+ model.ss.cnt[0,i_z,:])\n",
    "# a = model.par.a_grid[:]\n",
    "# ax.plot(a,ct_share, label=i_z, color=colors[i_z])\n",
    "\n",
    "# ax.plot(e_, ct_share, label='ct_share', color=colors[3])\n"
   ]
  },
  {
   "cell_type": "code",
   "execution_count": null,
   "metadata": {},
   "outputs": [],
   "source": [
    "\n",
    "# List of models\n",
    "models_list = [model_baseline, model_homothetic_only_consumption , model_homothetic, model_e_]\n",
    "model_names = []\n",
    "for i in models_list:\n",
    "    model_names.append(i.name)\n",
    "\n",
    "\n",
    "\n",
    "\n",
    "# List of variables\n",
    "varlist = ['CT', 'CNT', 'E_hh', 'YTH', 'YNT', 'inc_TH', 'inc_NT', 'NTH', 'NNT', 'div_NT', 'div_TH', 'A_hh','CE', 'CTHF', 'CTH', 'CTH_s' ]\n",
    "par_list = ['nu', 'epsilon', 'gamma', 'eta_T_RA', 'omega_T']\n",
    "\n",
    "model.par.__dict__['nu']\n",
    "\n",
    "\n",
    "# Create a dictionary to store values\n",
    "data = {}\n",
    "\n",
    "# Loop through each model and extract steady-state values\n",
    "for model, name in zip(models_list, model_names):\n",
    "    try:\n",
    "        data[name] = [getattr(model.ss, var) for var in varlist]\n",
    "    except:\n",
    "        print(f\"Could not extract\")\n",
    "# Create DataFrame\n",
    "df = pd.DataFrame(data, index=varlist)\n",
    "\n",
    "# rounding to 2 decimals\n",
    "df = df.round(2)\n",
    "\n",
    "\n",
    "# Add the percentage change from the baseline\n",
    "df_pct = df.pct_change(axis=1) * 100\n",
    "\n",
    "df_pct"
   ]
  },
  {
   "cell_type": "code",
   "execution_count": null,
   "metadata": {},
   "outputs": [],
   "source": [
    "\n",
    "\n",
    "# List of models\n",
    "models_list = [model_baseline, model_homothetic]\n",
    "model_names = [model.name for model in models_list]\n",
    "\n",
    "# List of variables and parameters\n",
    "varlist = ['CT', 'CNT', 'E_hh', 'YTH', 'YNT', 'inc_TH', 'inc_NT', 'NTH', 'NNT', 'div_NT', 'div_TH', 'A_hh', 'CE', 'CTHF', 'CTH', 'CTH_s']\n",
    "par_list = [ 'nu', 'epsilon', 'gamma', 'eta_T_RA', 'omega_T'] #  'pref'\n",
    "\n",
    "# Create a dictionary to store values\n",
    "data = {}\n",
    "\n",
    "# Extract steady-state values\n",
    "for model, name in zip(models_list, model_names):\n",
    "    try:\n",
    "        data[name] = [getattr(model.ss, var) for var in varlist]\n",
    "    except Exception as e:\n",
    "        print(f\"Could not extract data for {name}: {e}\")\n",
    "\n",
    "# Create DataFrame for steady-state variables and round\n",
    "df = pd.DataFrame(data, index=varlist).round(2)\n",
    "\n",
    "# Compute percentage change from the baseline\n",
    "df_pct = df.pct_change(axis=1) * 100\n",
    "\n",
    "# Extract parameters for each model\n",
    "params_data = {name: [getattr(model.par, par) for par in par_list] for model, name in zip(models_list, model_names)}\n",
    "\n",
    "# Create DataFrame for parameters and round\n",
    "df_params = pd.DataFrame(params_data, index=par_list).round(2)\n",
    "\n",
    "# Concatenate parameters above the percentage change DataFrame\n",
    "df_final = pd.concat([df_params, df_pct])\n",
    "\n",
    "# Display the full DataFrame without truncation\n",
    "# Rounding all values to 2 decimals\n",
    "df_final = df_final.round(2)\n",
    "\n",
    "print(df_final)\n"
   ]
  },
  {
   "cell_type": "code",
   "execution_count": null,
   "metadata": {},
   "outputs": [],
   "source": [
    "# compare_ss\n",
    "\n",
    "# make a table with the results\n",
    "\n",
    "\n",
    "model = model_baseline\n",
    "var = 'PE_s'\n",
    "\n",
    "\n",
    "PE_s = model_baseline.ss.__dict__[var]\n",
    "print(PE_s)\n",
    "\n",
    "model_list = [model_baseline, model_homothetic]\n",
    "varlist = ['PE_s', 'PE', 'p', 'inc_NT', 'inc_TH', 'ra', 'i', 'Q']"
   ]
  },
  {
   "cell_type": "code",
   "execution_count": null,
   "metadata": {},
   "outputs": [],
   "source": [
    "fig = plt.figure(figsize=(12, 8))\n",
    "ax = fig.add_subplot(111)\n",
    "\n",
    "\n",
    "for i_z in range(model_baseline.par.Nz):\n",
    "    ct_share = model_baseline.ss.ct[0,i_z,:]/ (model_baseline.ss.ct[0,i_z,:]+ model_baseline.ss.cnt[0,i_z,:])\n",
    "    a = model_baseline.par.a_grid[:]\n",
    "    ax.plot(a,ct_share, label=i_z, color=colors[i_z])\n",
    "\n",
    "# ax.plot(e_, ct_share, label='ct_share', color=colors[3])\n",
    "ax.legend()"
   ]
  },
  {
   "cell_type": "code",
   "execution_count": null,
   "metadata": {},
   "outputs": [],
   "source": [
    "model_homothetic_only_consumption.compare_IRFs(models=[model_baseline, model_homothetic, model_homothetic_only_consumption], labels=['Basline', 'Homothetic', 'Homothetic only consumption'], varnames=model.varlist,  T_max=50, ncols=3, lvl_value=lvl_path, do_shocks=False, do_targets=False)"
   ]
  },
  {
   "cell_type": "code",
   "execution_count": null,
   "metadata": {},
   "outputs": [],
   "source": [
    "YTH = model_baseline.path.YTH\n",
    "YNT = model_baseline.path.YNT\n",
    "CNT = model_baseline.path.CNT\n",
    "CTH = model_baseline.path.CTH \n",
    "CTH_s = model_baseline.path.CTH_s\n",
    "\n",
    "# Differnce form ss \n",
    "fig = plt.figure(figsize=(12, 8))\n",
    "ax = fig.add_subplot(1, 1, 1)\n",
    "ax.plot(YTH - model_baseline.ss.YTH, label='YTH')\n",
    "ax.plot(YNT - model_baseline.ss.YNT, label='YNT')\n",
    "ax.plot(CNT - model_baseline.ss.CNT, label='CNT')\n",
    "ax.plot(CTH - model_baseline.ss.CTH, label='CTH')\n",
    "ax.plot(CTH_s - model_baseline.ss.CTH_s, label='CTH_s')\n",
    "ax.legend()"
   ]
  },
  {
   "cell_type": "code",
   "execution_count": null,
   "metadata": {},
   "outputs": [],
   "source": [
    "model_baseline.show_IRFs(model.varlist, do_shocks=False, do_targets=False, T_max=50, ncols=3, lvl_value=lvl_path)"
   ]
  },
  {
   "cell_type": "code",
   "execution_count": null,
   "metadata": {},
   "outputs": [],
   "source": [
    "fig = figs.plot_PE_s(model_baseline)\n",
    "if save_figs:\n",
    "    fig.savefig(path + 'PE_s.png', dpi=300)\n"
   ]
  },
  {
   "cell_type": "code",
   "execution_count": null,
   "metadata": {},
   "outputs": [],
   "source": [
    "fig = figs.plot_jac_p(model_baseline)\n",
    "if save_figs:\n",
    "    fig.savefig(path + 'jac_p.png', dpi=300)"
   ]
  },
  {
   "cell_type": "code",
   "execution_count": null,
   "metadata": {},
   "outputs": [],
   "source": [
    "\n",
    "# Expenditure shares \n",
    "\n",
    "fig = plt.figure(figsize=(10, 5))\n",
    "ax = fig.add_subplot(121)\n",
    "\n",
    "model = model_PIGL_cubdouglaseta\n",
    "\n",
    "\n",
    "C_list = ['CT', 'CNT']\n",
    "P_list = ['PT', 'PNT']\n",
    "# prices = ['P', 'PT', 'PNT', 'PTHF', 'PTH', 'PF'  ]\n",
    "\n",
    "for i in range(len(C_list)):\n",
    "    # P_ = P_list[i]\n",
    "    # P__ = model.path.__dict__[P_]\n",
    "    dC = (model.path.__dict__[C_list[i]]/model.ss.__dict__[C_list[i]] - 1)*100\n",
    "    ax.plot(dC[:50],  label = C_list[i])\n",
    "\n",
    "    dC = (model_CB.path.__dict__[C_list[i]]/model_CB.ss.__dict__[C_list[i]] - 1)*100\n",
    "    ax.plot(dC[:50],  label = f'CB {C_list[i]}')\n",
    "\n",
    "\n",
    "# for C in C_list:\n",
    "#     dC = (model_baseline.path.__dict__[C]/model_baseline.ss.__dict__[C] - 1)*100\n",
    "#     ax.plot(dC[:50],  label = C)\n",
    "\n",
    "\n",
    "ax.set_title('Tradable and non-tradable')\n",
    "ax.legend()\n",
    "\n",
    "ax = fig.add_subplot(122)\n",
    "\n",
    "C_list = ['CTHF', 'CE']\n",
    "P_list = ['PTHF', 'PE']\n",
    "\n",
    "for i in range(len(C_list)):\n",
    "    # P_ = P_list[i]\n",
    "    # P__ = model.path.__dict__[P_]\n",
    "    # print(C_list[i])\n",
    "    dC = (model.path.__dict__[C_list[i]]/model.ss.__dict__[C_list[i]] - 1)*100\n",
    "    ax.plot(dC[:50],  label = C_list[i])\n",
    "\n",
    "    dC = (model_CB.path.__dict__[C_list[i]]/model_CB.ss.__dict__[C_list[i]] - 1)*100\n",
    "    ax.plot(dC[:50],  label = f'CB {C_list[i]}')\n",
    "\n",
    "ax.set_title('Energy and non-energy')\n",
    "ax.legend()"
   ]
  },
  {
   "cell_type": "code",
   "execution_count": null,
   "metadata": {},
   "outputs": [],
   "source": [
    "\n",
    "\n",
    "fig = plt.figure(figsize=(5, 5))\n",
    "ax = fig.add_subplot(111)\n",
    "\n",
    "P = 'P'\n",
    "\n",
    "prices = ['P', 'PT', 'PNT', 'PTHF', 'PTH', 'PF' , 'PE' ]\n",
    "\n",
    "for P in prices:\n",
    "    P_ = model_baseline.path.__dict__[P]\n",
    "    ax.plot(P_[:50],  label = P)\n",
    "ax.set_title('Price levels')\n",
    "ax.legend()\n",
    "plt.show()\n"
   ]
  },
  {
   "cell_type": "code",
   "execution_count": null,
   "metadata": {},
   "outputs": [],
   "source": [
    "def share_T(par,e, PT=1, PNT=1):\n",
    "    CT = (e/PT)*(par.nu*(PNT/e)**par.epsilon*(PT/PNT)**par.gamma)\n",
    "    CNT = (e/PNT)*(1-par.nu*(PNT/e)**par.epsilon*(PT/PNT)**par.gamma)  \n",
    "    return CT/(CT+CNT) "
   ]
  },
  {
   "cell_type": "code",
   "execution_count": null,
   "metadata": {},
   "outputs": [],
   "source": [
    "print(e.shape)\n",
    "print((e[:,:,:] - e[:,:,:]).shape)\n",
    "print((par.a_grid[1:] - par.a_grid[:-1]).shape)\n"
   ]
  },
  {
   "cell_type": "code",
   "execution_count": null,
   "metadata": {},
   "outputs": [],
   "source": [
    "par.rF_ss"
   ]
  },
  {
   "cell_type": "code",
   "execution_count": null,
   "metadata": {},
   "outputs": [],
   "source": [
    "figs.plot_cum([model], ['MPC_e', 'MPC_ct', 'MPC_cnt'])"
   ]
  },
  {
   "cell_type": "code",
   "execution_count": null,
   "metadata": {},
   "outputs": [],
   "source": [
    "# Step 1: Compute denominator for finite differences\n",
    "# a = par.a_grid  # shape (500,)\n",
    "# ra = par.rF_ss\n",
    "denom = (1 + par.rF_ss) * (par.a_grid[1:] - par.a_grid[:-1])  # shape (499,)\n",
    "\n",
    "# Step 2: List of consumption variables to compute MPC for\n",
    "variables = ['e', 'ct', 'cnt']\n",
    "\n",
    "# Step 3: Loop over variables and compute MPC with extrapolation\n",
    "for var in variables:\n",
    "    cons = getattr(model.ss, var)  # e.g., model.ss.e, shape (2, 7, 500)\n",
    "\n",
    "    # Compute finite differences over assets\n",
    "    mpc = (cons[:, :, 1:] - cons[:, :, :-1]) / denom  # shape (2, 7, 499)\n",
    "\n",
    "    # Extrapolate last point using linear extrapolation\n",
    "    last_diff = mpc[:, :, -1] - mpc[:, :, -2]         # (2, 7)\n",
    "    mpc_last = mpc[:, :, -1] + last_diff              # (2, 7)\n",
    "\n",
    "    # Append extrapolated value\n",
    "    mpc_full = np.concatenate([mpc, mpc_last[:, :, np.newaxis]], axis=2)  # shape (2, 7, 500)\n",
    "\n",
    "    # Store result back to model.ss\n",
    "    setattr(model.ss, f'MPC_{var}', mpc_full)\n"
   ]
  },
  {
   "cell_type": "code",
   "execution_count": null,
   "metadata": {},
   "outputs": [],
   "source": [
    "# Compute MPCs for 499 asset points\n",
    "a = par.a_grid  # (500,)\n",
    "\n",
    "\n",
    "\n",
    "\n",
    "# Do this for e, ct and cnt\n",
    "\n",
    "denom = (1 + par.rF_ss) * (par.a_grid[1:] - par.a_grid[:-1])\n",
    "MPC = (model.ss.e[:, :, 1:] - model.ss.e[:, :, :-1]) / denom  # shape (2, 7, 499)\n",
    "\n",
    "# Extrapolate to get value at the last asset point (500th)\n",
    "# Use linear extrapolation from last two MPCs\n",
    "last_diff = MPC[:, :, -1] - MPC[:, :, -2]\n",
    "MPC_last = MPC[:, :, -1] + last_diff  # shape (2, 7)\n",
    "\n",
    "# Append along the asset axis (axis=2)\n",
    "MPC_full = np.concatenate([MPC, MPC_last[:, :, np.newaxis]], axis=2)  # shape (2, 7, 500)\n",
    "\n",
    "# Store in model\n",
    "model.ss.MPC_e = MPC_full"
   ]
  },
  {
   "cell_type": "code",
   "execution_count": null,
   "metadata": {},
   "outputs": [],
   "source": [
    "# Print the shape of the result\n",
    "print(MPC_full.shape)  # Should be (2, 7, 500)\n",
    "# Print min and max values\n",
    "print(\"MPC min:\", MPC_full.min())\n",
    "print(\"MPC max:\", MPC_full.max())\n"
   ]
  },
  {
   "cell_type": "code",
   "execution_count": null,
   "metadata": {},
   "outputs": [],
   "source": [
    "figs.plot_cum([model], ['MPC_e'])"
   ]
  },
  {
   "cell_type": "code",
   "execution_count": null,
   "metadata": {},
   "outputs": [],
   "source": [
    "# Inputs\n",
    "a = par.a_grid  # shape (500,)\n",
    "ra = 0.005\n",
    "denom = (1 + ra) * (a[1:] - a[:-1])  # shape (499,)\n",
    "\n",
    "# model.ss.e: shape (2, 7, 500)\n",
    "# Compute MPC: difference over asset grid (axis=2)\n",
    "MPC = (model.ss.e[:, :, 1:] - model.ss.e[:, :, :-1]) / denom  # shape (2, 7, 499)\n",
    "\n",
    "\n",
    "# Save to attribute\n",
    "model.ss.MPC_e = MPC\n"
   ]
  },
  {
   "cell_type": "code",
   "execution_count": null,
   "metadata": {},
   "outputs": [],
   "source": []
  },
  {
   "cell_type": "code",
   "execution_count": null,
   "metadata": {},
   "outputs": [],
   "source": [
    "# Step 1: Compute MPC for type 0\n",
    "e = model.ss.e[0, :, :]  # shape (type, income, assets), e.g., (7, 500)\n",
    "a = par.a_grid  # shape (500,)\n",
    "ra = 0.005\n",
    "\n",
    "# Compute MPC using finite differences over assets\n",
    "denom = (1 + ra) * (a[1:] - a[:-1])  # shape (499,)\n",
    "MPC = (e[:, 1:] - e[:, :-1]) / denom  # shape (7, 499)\n",
    "\n",
    "model.ss.MPC_e[0, :, :]  = MPC\n"
   ]
  },
  {
   "cell_type": "code",
   "execution_count": null,
   "metadata": {},
   "outputs": [],
   "source": [
    "\n",
    "# Step 1: Compute MPC for type 0\n",
    "e = model.ss.e[0, :, :]  # shape (income, assets), e.g., (7, 500)\n",
    "a = par.a_grid  # shape (500,)\n",
    "ra = 0.005\n",
    "\n",
    "# Compute MPC using finite differences over assets\n",
    "denom = (1 + ra) * (a[1:] - a[:-1])  # shape (499,)\n",
    "MPC = (e[:, 1:] - e[:, :-1]) / denom  # shape (7, 499)\n",
    "\n",
    "\n",
    "\n",
    "# Step 2: Get matching population weights\n",
    "weights = model.ss.D[0, :, :-1]  # shape (7, 499), matches MPC shape\n",
    "\n",
    "# Step 3: Flatten and sort by MPC values\n",
    "MPC_flat = MPC.ravel()\n",
    "weights_flat = weights.ravel()\n",
    "\n",
    "# Sort MPCs and weights by MPC values\n",
    "sort_idx = np.argsort(MPC_flat)\n",
    "MPC_sorted = MPC_flat[sort_idx]\n",
    "weights_sorted = weights_flat[sort_idx]\n",
    "\n",
    "# Step 4: Compute CDF\n",
    "cdf = np.cumsum(weights_sorted)\n",
    "cdf /= cdf[-1]  # normalize to 1\n",
    "\n",
    "# Step 5: Plot\n",
    "fig, ax = plt.subplots(figsize=(8, 6))\n",
    "ax.plot(MPC_sorted, cdf)\n",
    "\n",
    "ax.set_xlabel('MPC', fontsize=14)\n",
    "ax.set_ylabel('CDF', fontsize=14)\n",
    "ax.set_title('MPC Distribution (Type 0)', fontsize=16)\n",
    "ax.grid(True)\n",
    "fig.tight_layout(pad=0.5)\n",
    "plt.show()\n"
   ]
  },
  {
   "cell_type": "code",
   "execution_count": null,
   "metadata": {},
   "outputs": [],
   "source": [
    "\n",
    "\n",
    "# Compute MPE for type 0\n",
    "e = model.ss.e[0, :, :]  # shape (7, 500)\n",
    "MPE = (e[:,1:] - e[:,:-1]) / ((1 + 0.005) * (par.a_grid[1:] - par.a_grid[:-1]))  # (7, 499)\n",
    "\n",
    "\n",
    "\n",
    "# Flatten MPE and corresponding weights\n",
    "MPE_flat = MPE.ravel()\n",
    "weights = model.ss.D[0, :, :-1].ravel()  # shape matches MPE\n",
    "I = np.argsort(MPE_flat)\n",
    "\n",
    "# Sort both arrays\n",
    "MPE_sorted = MPE_flat[I]\n",
    "cdf = np.cumsum(weights[I])  # cumulative weights\n",
    "\n",
    "# Normalize CDF to 1\n",
    "# cdf /= cdf[-1]\n",
    "\n",
    "# Plot\n",
    "fig = plt.figure()\n",
    "ax = fig.add_subplot(1,1,1)\n",
    "ax.plot(cdf, MPE_sorted)\n",
    "\n",
    "ax.set_xlabel('CDF')\n",
    "ax.set_ylabel('MPE')\n",
    "fig.suptitle('MPE Distribution (Type 0)')\n",
    "fig.tight_layout(pad=0.5)\n",
    "plt.show()\n"
   ]
  },
  {
   "cell_type": "code",
   "execution_count": null,
   "metadata": {},
   "outputs": [],
   "source": [
    "# Max and min of MPC\n",
    "MPC_max = np.max(MPC, axis=1)\n",
    "MPC_min = np.min(MPC, axis=1)\n",
    "\n",
    "print(MPC_max)\n",
    "print(MPC_min)"
   ]
  },
  {
   "cell_type": "code",
   "execution_count": null,
   "metadata": {},
   "outputs": [],
   "source": [
    "fig = plt.figure()\n",
    "ax = fig.add_subplot(1,1,1)\n",
    "\n",
    "for i_z in [par.Nz//2-1,par.Nz//2,par.Nz//2+1]:\n",
    "    ax.plot(par.a_grid[:-1],MPC[i_z],label=f'z = {par.z_grid[i_z]:.2f}')\n",
    "\n",
    "ax.legend()\n",
    "ax.set_xlim(-0.2, 50)\n",
    "# ax.set_ylim(0, 0.5)\n"
   ]
  },
  {
   "cell_type": "code",
   "execution_count": null,
   "metadata": {},
   "outputs": [],
   "source": [
    "fig = plt.figure()\n",
    "ax = fig.add_subplot(1,1,1)\n",
    "\n",
    "I = np.argsort(MPC.ravel())\n",
    "ax.plot(np.cumsum((model.ss.D[0,:,:-1]*2).ravel()[I]),MPC.ravel()[I])\n",
    "\n",
    "ax.set_xlabel('MPC')\n",
    "ax.set_ylabel('CDF')\n",
    "\n",
    "fig.suptitle('MPC distribution')\n",
    "fig.tight_layout(pad=0.5)"
   ]
  },
  {
   "cell_type": "code",
   "execution_count": null,
   "metadata": {},
   "outputs": [],
   "source": [
    "ct = model.ss.ct  # shape (n_types, n_income, n_assets)\n",
    "cnt = model.ss.cnt\n",
    "e   = model.ss.e\n",
    "a = model.ss.a\n",
    "\n",
    "a = 499\n",
    "a_ = a-1\n",
    "inc = 0\n",
    "s = 0\n",
    "\n",
    "\n",
    "\n",
    "print(f'diff in ct {e[s,1,10] - e[s,1,9]}')\n",
    "print(f'diff in a {a[0,1,10] - a[0,1,9]}')"
   ]
  },
  {
   "cell_type": "code",
   "execution_count": null,
   "metadata": {},
   "outputs": [],
   "source": [
    "# Variables\n",
    "ct = model.ss.ct  # shape (n_types, n_income, n_assets)\n",
    "cnt = model.ss.cnt\n",
    "e   = model.ss.e\n",
    "\n",
    "a = par.a_grid  # shape (n_assets,)\n",
    "ra = model.ss.ra\n",
    "\n",
    "# Step 1: Denominator (differences in a)\n",
    "da = (a[1:] - a[:-1])  # shape (n_assets - 1,)\n",
    "denominator = (1 + ra) * da  # shape (n_assets - 1,)\n",
    "denom_broadcast = denominator[np.newaxis, np.newaxis, :]  # shape (1, 1, n_assets - 1)\n",
    "\n",
    "# Step 2: Differences along asset dimension\n",
    "diff_ct  = ct[:, :, 1:] - ct[:, :, :-1]\n",
    "diff_cnt = cnt[:, :, 1:] - cnt[:, :, :-1]\n",
    "diff_e   = e[:, :, 1:] - e[:, :, :-1]\n",
    "\n",
    "\n",
    "# Step 3: MPCs\n",
    "model.ss.MPC_ct  = diff_ct / denom_broadcast\n",
    "model.ss.MPC_cnt = diff_cnt / denom_broadcast\n",
    "model.ss.MPE_e   = diff_e / denom_broadcast\n",
    "\n",
    "\n",
    "\n"
   ]
  },
  {
   "cell_type": "code",
   "execution_count": null,
   "metadata": {},
   "outputs": [],
   "source": [
    "plt.plot(model.ss.e[0,0,:], model.ss.ct[0,0,:], label='MPC ct')"
   ]
  },
  {
   "cell_type": "code",
   "execution_count": null,
   "metadata": {},
   "outputs": [],
   "source": []
  },
  {
   "cell_type": "code",
   "execution_count": null,
   "metadata": {},
   "outputs": [],
   "source": [
    "\n",
    "\n",
    "plt.plot(model.ss.MPC_ct[0,0,:], label='CT')\n",
    "plt.plot(model.ss.MPC_cnt[0,0,:], label='CNT')\n",
    "plt.plot(model.ss.MPE_e[0,0,:], label='E')\n",
    "plt.legend()\n",
    "\n"
   ]
  },
  {
   "cell_type": "code",
   "execution_count": null,
   "metadata": {},
   "outputs": [],
   "source": [
    "def show_p_hh(model, linewidth =1.0, type = 0):\n",
    "\n",
    "    ncols = 3\n",
    "    nrows = 1\n",
    "    T_max = 17\n",
    "\n",
    "\n",
    "    fig = plt.figure(figsize=(4.3*ncols/1.1,3.6*nrows/1.2),dpi=100)\n",
    "\n",
    "    # MPE \n",
    "    ax = fig.add_subplot(nrows,ncols,1)    \n",
    "    # For ever second income\n",
    "    for inc in range(0, 7, 2):\n",
    "\n",
    "\n",
    "        price_index = (model.path.p[0, 0, inc, :-1]-1)*100  # shape (2, 7, 500)\n",
    "\n",
    "        MP = model.ss.MPE_e[0, inc, :]  # \n",
    "        ax.scatter(MP, price_index, label=f'z = {inc}', s= 1)\n",
    "    \n",
    "\n",
    "    ax.set_title('p and MPE')\n",
    "    ax.set_xlabel('MPE')\n",
    "    ax.set_ylabel('p \\% diff. to s.s.')\n",
    "\n",
    "\n",
    "    # Propensity to consume T \n",
    "    ax = fig.add_subplot(nrows,ncols,2)\n",
    "    # For ever second income\n",
    "    for inc in range(0, 7, 2):\n",
    "        price_index = (model.path.p[0, 0, inc, :-1]-1)*100  # shape (2, 7, 500)\n",
    "\n",
    "        MPC = model.ss.MPC_ct[0, inc, :]  # \n",
    "        ax.scatter(MPC, price_index, label=f'z = {inc}', s= 1)\n",
    "\n",
    "    ax.set_title('p and MPCT')\n",
    "    ax.set_xlabel('MPCT')\n",
    "    ax.set_ylabel('p \\% diff. to s.s.')\n",
    "\n",
    "    # Propensity to consume NT\n",
    "    ax = fig.add_subplot(nrows,ncols,3)\n",
    "    # For ever second income\n",
    "    for inc in range(0, 7, 2):\n",
    "        price_index = (model.path.p[0, 0, inc, :-1]-1)*100  # shape (2, 7, 500)\n",
    "\n",
    "        MPC = model.ss.MPC_cnt[0, inc, :]  # \n",
    "        ax.scatter(MPC, price_index, label=f'z = {inc}', s= 1)\n",
    "    \n",
    "    ax.legend()\n",
    "    \n",
    "    ax.set_title('p and MPCNT')\n",
    "    ax.set_xlabel('MPCNT')\n",
    "    ax.set_ylabel('p \\% diff. to s.s.')\n",
    "\n",
    "\n",
    "    fig.tight_layout()\n",
    "\n",
    "        \n",
    "\n",
    "    return fig\n",
    "\n",
    "fig = show_p_hh(model, linewidth=1.0, type = 0)\n"
   ]
  },
  {
   "cell_type": "code",
   "execution_count": null,
   "metadata": {},
   "outputs": [],
   "source": [
    "\n",
    "x = model.ss.a [0,0,:-1]\n",
    "y = model.ss.MPE_e[0,0,:]\n",
    "\n",
    "plt.plot(x, y, label='MPE')"
   ]
  },
  {
   "cell_type": "code",
   "execution_count": null,
   "metadata": {},
   "outputs": [],
   "source": [
    "inc = 0\n",
    "price_index = model.path.p[0, 0, inc, :-1]  # shape (2, 7, 500)\n",
    "MP = model.ss.MPC_ct[0, inc, :]  # \n",
    "\n",
    "plt.scatter(price_index, MP)\n",
    "\n",
    "inc = 2 \n",
    "price_index = model.path.p[0, 0, inc, :-1]  # shape (2, 7, 500)\n",
    "MP = model.ss.MPC_ct[0, inc, :]  #\n",
    "plt.scatter(price_index, MP)"
   ]
  },
  {
   "cell_type": "code",
   "execution_count": null,
   "metadata": {},
   "outputs": [],
   "source": [
    "import matplotlib.pyplot as plt\n",
    "\n",
    "\n",
    "\n",
    "\n",
    "# Shortcut to price index at time 0\n",
    "\n",
    "inc = 0\n",
    "price_index = model.path.p[0, :, :inc, :]  # shape (2, 7, 500)\n",
    "MP = model.ss.MPC_ct[:, inc, :]  # \n",
    "\n",
    "\n",
    "\n",
    "colors = ['tab:blue', 'tab:orange', 'tab:green', 'tab:red']\n",
    "\n",
    "def plot_scatter(mpc_array, title, ylabel):\n",
    "    fig, ax = plt.subplots(figsize=(8, 6))\n",
    "    \n",
    "    for i, inc in enumerate(income_levels):\n",
    "            mpc_values = mpc_array[type_, inc, :]  # shape (500,)\n",
    "            p_values = price_index[type_, inc, :]  # shape (500,)\n",
    "            label = f'Type {type_}, Income {inc}'\n",
    "            ax.scatter(mpc_values, p_values, s=5, alpha=0.6, label=label, color=colors[i])\n",
    "    \n",
    "    ax.set_xlabel(ylabel, fontsize=14)\n",
    "    ax.set_ylabel('Price Index $p$', fontsize=14)\n",
    "    ax.set_title(title, fontsize=16)\n",
    "    ax.grid(True)\n",
    "    ax.legend(fontsize=9)\n",
    "    plt.tight_layout()\n",
    "    plt.show()\n",
    "\n",
    "# Call for each variable\n",
    "plot_scatter(model.ss.MPE_e, 'MPE vs Price Index', 'Marginal Propensity to Expend (MPE$_e$)')\n",
    "plot_scatter(MPC_ct, 'MPC (Tradables + Non-tradables) vs Price Index', 'MPC$_{ct}$')\n",
    "plot_scatter(MPC_cnt, 'MPC (Non-tradables) vs Price Index', 'MPC$_{cnt}$')\n"
   ]
  },
  {
   "cell_type": "code",
   "execution_count": null,
   "metadata": {},
   "outputs": [],
   "source": [
    "\n",
    "\n",
    "# Flatten both arrays\n",
    "x = (model.path.p[0, :, :, :-1].flatten()-1)*100     # Price index at t=0\n",
    "y = model.ss.MPE_e.flatten()               # Marginal propensity to expend\n",
    "\n",
    "# Scatter plot\n",
    "plt.figure(figsize=(8, 6))\n",
    "plt.scatter(y, x, alpha=0.5, s=5)\n",
    "plt.ylabel('Price index $p$', fontsize=14)\n",
    "plt.xlabel('Marginal Propensity to Expend (MPE$_e$)', fontsize=14)\n",
    "plt.title('MPE vs Price Index at $t=0$', fontsize=16)\n",
    "plt.grid(True)\n",
    "plt.tight_layout()\n",
    "plt.show()\n",
    "\n",
    "# Change: I want three figures one for MPE, one for MPC_ct and one for MPC_cnt. I want the MPC/E's on the x axis and the price index on the y axis. I want to make 4 seperate scatters for each figures with different incomes simmilar to:\n",
    "#    for inc in range(0, 7, 2):\n",
    "        # ax.scatter(model.ss.MPE_e[type,inc,:], label=f'z = {inc}', linewidth=linewidth)\n",
    "    \n"
   ]
  },
  {
   "cell_type": "code",
   "execution_count": null,
   "metadata": {},
   "outputs": [],
   "source": [
    "# Marginal propensity to consume/spend\n",
    "# e = model.ss.e\n",
    "par = model.par\n",
    "\n",
    "\n",
    "fig = plt.figure()\n",
    "ax = fig.add_subplot(1,1,1)\n",
    "\n",
    "i_fix = 0\n",
    "Nz = 0\n",
    "\n",
    "for i_z in [1]: #[par.Nz//2-1,par.Nz//2,par.Nz//2+1]:\n",
    "    \n",
    "    \n",
    "    e = model.ss.e[i_fix,i_z, :]\n",
    "\n",
    "    t_share = share_T(par,e[1:], PT=model.ss.PT, PNT=model.ss.PNT)\n",
    "\n",
    "    e = model.ss.e[i_fix,i_z, :]\n",
    "    MPC_e = (e[1:]-e[:-1])/((1+model.ss.ra)*(par.a_grid[1:]-par.a_grid[:-1]))\n",
    "\n",
    "\n",
    "    e = model.ss.ct[i_fix,i_z, :]\n",
    "    MPC_ = (e[1:]-ct[:-1])/((1+model.ss.ra)*(par.a_grid[1:]-par.a_grid[:-1]))\n",
    "\n",
    "\n",
    "\n",
    "    e = model.ss.cnt[i_fix,i_z, :]\n",
    "    MPC = (e[1:]-e[:-1])/((1+model.ss.ra)*(par.a_grid[1:]-par.a_grid[:-1]))\n",
    "\n",
    "\n",
    "\n",
    "\n",
    "\n",
    "#     ax.plot(par.a_grid[:-1],MPC,label=f'z = {par.z_grid[i_z]:.2f}')\n",
    "\n",
    "\n",
    "ax.set_xlabel('$Tradable share$')\n",
    "\n",
    "ax.legend(frameon=True);\n",
    "\n",
    "fig.suptitle('MPC from policy function')\n",
    "fig.tight_layout(pad=0.5)\n",
    "\n",
    "# fig.savefig('figs/MPC_policy.pdf')"
   ]
  },
  {
   "cell_type": "code",
   "execution_count": null,
   "metadata": {},
   "outputs": [],
   "source": [
    "# Marginal propensity to consume/spend\n",
    "e = model_baseline.ss.e\n",
    "par = model_baseline.par\n",
    "\n",
    "# MPC = (e[i_fix,Nz, 1:]-e[i_fix, Nz,:-1])/((1+model.ss.ra)*(par.a_grid[1:]-par.a_grid[:-1]))\n",
    "\n",
    "\n",
    "fig = plt.figure()\n",
    "ax = fig.add_subplot(1,1,1)\n",
    "\n",
    "# ax.plot(e[1:], MPC, label='MPC')\n",
    "# ax.plot(e[1:], t_share, label='Tradable share')\n",
    "\n",
    "i_fix = 0\n",
    "Nz = 0\n",
    "\n",
    "# a_grid initial assets in\n",
    "\n",
    "\n",
    "for i_z in [1]: #[par.Nz//2-1,par.Nz//2,par.Nz//2+1]:\n",
    "    e = model_baseline.ss.e[i_fix,i_z, :]\n",
    "    MPC = (e[1:]-e[:-1])/((1+model.ss.ra)*(par.a_grid[1:]-par.a_grid[:-1]))\n",
    "    t_share = share_T(par,e[1:], PT=model_baseline.ss.PT, PNT=model_baseline.ss.PNT)\n",
    "    ax.plot(t_share, MPC, label=f'z = {par.z_grid[i_z]:.2f}')\n",
    "\n",
    "    \n",
    "\n",
    "\n",
    "#     ax.plot(par.a_grid[:-1],MPC,label=f'z = {par.z_grid[i_z]:.2f}')\n",
    "\n",
    "\n",
    "ax.set_xlabel('$Tradable share$')\n",
    "\n",
    "ax.legend(frameon=True);\n",
    "\n",
    "fig.suptitle('MPC from policy function')\n",
    "fig.tight_layout(pad=0.5)\n",
    "\n",
    "# fig.savefig('figs/MPC_policy.pdf')"
   ]
  },
  {
   "cell_type": "code",
   "execution_count": null,
   "metadata": {},
   "outputs": [],
   "source": [
    "model_high_epsilon = model.copy(name='High epsilon')\n",
    "model_high_epsilon.par.epsilon_ = model.par.epsilon_ + 0.1\n",
    "model_high_epsilon.find_ss(do_print=False)\n",
    "model_high_epsilon.compute_jacs()"
   ]
  },
  {
   "cell_type": "code",
   "execution_count": null,
   "metadata": {},
   "outputs": [],
   "source": [
    "model_high_gamma = model.copy(name='Gamma 0')\n",
    "model_high_gamma.par.gamma_ = 0.0\n",
    "model_high_gamma.find_ss(do_print=False)\n",
    "model_high_gamma.compute_jacs()\n"
   ]
  },
  {
   "cell_type": "code",
   "execution_count": null,
   "metadata": {},
   "outputs": [],
   "source": [
    "fig = figs.plot_jac_p(model_baseline)\n"
   ]
  },
  {
   "cell_type": "code",
   "execution_count": null,
   "metadata": {},
   "outputs": [],
   "source": [
    "fig = figs.plot_jac_p(model_high_epsilon)"
   ]
  },
  {
   "cell_type": "code",
   "execution_count": null,
   "metadata": {},
   "outputs": [],
   "source": [
    "fig = figs.plot_jac_p(model_high_gamma)"
   ]
  },
  {
   "cell_type": "code",
   "execution_count": null,
   "metadata": {},
   "outputs": [],
   "source": [
    "# Expenditure on tradable and non-tradable goods as a function of total expenditure\n",
    "# run_test = False\n",
    "\n",
    "\n",
    "if run_test:\n",
    "    a_ = model.ss.a[0,3,:]*model.ss.PNT\n",
    "    e_ = model.ss.e[0,3,:]*model.ss.PNT\n",
    "    ect_ = model.ss.ct[0,3,:]*model.ss.PT\n",
    "    ecnt_ = model.ss.cnt[0,3,:]*model.ss.PNT\n",
    "    share_ = ect_/(ecnt_+ect_)\n",
    "    \n",
    "\n",
    "    plt.figure()\n",
    "    plt.plot(e_,share_)\n",
    "    plt.xlabel('Total expenditure')\n",
    "    plt.ylabel('Expenditure share tradable goods')\n",
    "    plt.title('Non-homothetic expenditure shares')\n",
    "    # model.test_hh_path()\n",
    "    # model.test_path()\n",
    "    # model.test_jacs()\n",
    "\n",
    "\n"
   ]
  },
  {
   "cell_type": "code",
   "execution_count": null,
   "metadata": {},
   "outputs": [],
   "source": [
    "model_fixed = model.copy(name='Fixed exchange rate')\n",
    "# model_fixed.par.nu = 2.0\n",
    "model_fixed.par.float = False\n",
    "model_fixed.find_ss(do_print=False)\n",
    "model_fixed.compute_jacs()\n",
    "model_fixed.find_transition_path(shocks=shock_PE_s, do_end_check=False)\n",
    "# model_fixed.show_IRFs(paths, T_max=500, ncols=3, lvl_value=lvl_path, do_shocks=False, do_targets=False)"
   ]
  },
  {
   "cell_type": "code",
   "execution_count": null,
   "metadata": {},
   "outputs": [],
   "source": [
    "models_list = [ model_baseline, model_fixed]\n",
    "labels = []\n",
    "for i in models_list:\n",
    "    labels.append(i.name)\n",
    "print(labels)\n",
    "model_baseline.compare_IRFs(models=models_list, labels=labels, varnames=model.varlist,  T_max=500, ncols=3, lvl_value=lvl_path, do_shocks=True, do_targets=False)"
   ]
  },
  {
   "cell_type": "code",
   "execution_count": null,
   "metadata": {},
   "outputs": [],
   "source": []
  },
  {
   "cell_type": "code",
   "execution_count": null,
   "metadata": {},
   "outputs": [],
   "source": []
  },
  {
   "cell_type": "markdown",
   "metadata": {},
   "source": []
  },
  {
   "cell_type": "code",
   "execution_count": null,
   "metadata": {},
   "outputs": [],
   "source": [
    "model_baseline.compare_IRFs(models=models_list, labels=labels, varnames=model.varlist,  T_max=500, ncols=3, lvl_value=lvl_path, do_shocks=True, do_targets=False)"
   ]
  }
 ],
 "metadata": {
  "kernelspec": {
   "display_name": "base",
   "language": "python",
   "name": "python3"
  },
  "language_info": {
   "codemirror_mode": {
    "name": "ipython",
    "version": 3
   },
   "file_extension": ".py",
   "mimetype": "text/x-python",
   "name": "python",
   "nbconvert_exporter": "python",
   "pygments_lexer": "ipython3",
   "version": "3.9.13"
  }
 },
 "nbformat": 4,
 "nbformat_minor": 2
}

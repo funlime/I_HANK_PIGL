{
 "cells": [
  {
   "cell_type": "markdown",
   "metadata": {},
   "source": [
    "Note that the variables in the houshold problem e, a, are in terms of non-tradable goods. We can convert them to tradable goods by multiplying them by the price of the non-tradable good. Consumption outputs c are in real terms."
   ]
  },
  {
   "cell_type": "code",
   "execution_count": 4,
   "metadata": {},
   "outputs": [
    {
     "name": "stdout",
     "output_type": "stream",
     "text": [
      "The autoreload extension is already loaded. To reload it, use:\n",
      "  %reload_ext autoreload\n"
     ]
    }
   ],
   "source": [
    "%load_ext autoreload\n",
    "%autoreload 2\n",
    "\n",
    "\n",
    "import numpy as np\n",
    "import sys\n",
    "\n",
    "import matplotlib.pyplot as plt   \n",
    "import seaborn as sns\n",
    "\n",
    "\n",
    "colors = plt.rcParams['axes.prop_cycle'].by_key()['color']\n",
    "\n",
    "\n",
    "\n",
    "plt.rcParams.update({\"axes.grid\" : True, \"grid.color\": \"black\", \"grid.alpha\":\"0.25\", \"grid.linestyle\": \"--\"})\n",
    "plt.rcParams.update({'font.size': 14})\n",
    "\n",
    "# # Apply style settings\n",
    "# plt.rcParams.update({\n",
    "#     'font.family': 'serif',\n",
    "#     'font.serif': ['Palatino'],\n",
    "#     'text.usetex': True\n",
    "# })\n",
    "\n",
    "# # Use seaborn style\n",
    "# sns.set_style('white')\n",
    "\n",
    "\n",
    "# from scipy.interpolate import CubicSpline\n",
    "# from scipy.stats import norm\n",
    "\n",
    "# import matplotlib.pyplot as plt   \n",
    "# from matplotlib.ticker import FormatStrFormatter\n",
    "\n",
    "# from seaborn import set_palette\n",
    "# from matplotlib import rc\n",
    "# plt.style.use('seaborn-v0_8-white')\n",
    "# set_palette(\"colorblind\")\n",
    "# rc('font',**{'family':'serif','serif': ['Palatino']})\n",
    "# rc('text',usetex=True)\n",
    "\n",
    "from IHANKModel import IHANKModelClass\n",
    "import figures as figs\n",
    "import calculations\n",
    "\n",
    "run_test = False\n",
    "save_figs = False\n",
    "path = '/Users/emmagundersen/Desktop/Current code/I_HANK_PIGL1703/fig/1903/'\n",
    "lvl_path = ['U_hh', 'Walras', 'CB', 'i', 'NX', 'CA', 'ra', 'iF_s',  'iF_s']\n",
    "path_philips= ['WTH', 'WNT', 'NTH', 'NNT', 'PTH', 'PNT', 'PF', 'UC_TH_hh', 'UC_NT_hh', 'EX']\n",
    "paths = ['PE_s', 'PE', 'YH',  'W', 'P', 'w', 'tau',  'N', 'INC', 'inc',  'CT', 'CNT', 'p', 'E', 'PF_s', 'PF', 'CTH_s', 'i', 'ra', 'iF_s']\n",
    "target_var = ['PE_s', 'PE', 'p', 'inc_NT', 'inc_TH', 'ra', 'i', 'Q']\n",
    "\n"
   ]
  },
  {
   "cell_type": "code",
   "execution_count": null,
   "metadata": {},
   "outputs": [],
   "source": [
    "\n",
    "# # Basline preferences\n",
    "# model = IHANKModelClass(name='baseline')\n",
    "\n",
    "# model.par.eta_s = 0.51\n",
    "# model.par.etaF = 0.51\n",
    "# model.par.etaE = 0.1\n",
    "# model.par.float = True\n",
    "# model.par.pf_fixed = False\n",
    "# model.par.mon_policy = 'real'\n",
    "# model.par.phi_inflation = 1.5\n",
    "\n",
    "# model.find_ss(do_print=False)\n",
    "# model.compute_jacs()\n",
    "\n",
    "# shock_PE_s, shock_forigne_interest, shock_PF_s, shock_PF_s_taylor, shock_PE_PF, shock_PE_PF_taylor, shock_i = calculations.difine_shocks(model, scale=1.0, rho = 0.8) "
   ]
  },
  {
   "cell_type": "code",
   "execution_count": 5,
   "metadata": {},
   "outputs": [],
   "source": [
    "paths_ = ['PE', 'PT', 'p', 'CT', 'CNT', 'YH', 'P', 'W', 'w']"
   ]
  },
  {
   "cell_type": "code",
   "execution_count": 6,
   "metadata": {},
   "outputs": [],
   "source": [
    "model = IHANKModelClass(name='baseline')\n"
   ]
  },
  {
   "cell_type": "code",
   "execution_count": 15,
   "metadata": {},
   "outputs": [
    {
     "name": "stdout",
     "output_type": "stream",
     "text": [
      "\n",
      "\n",
      "nu = 0.70\n",
      "sT = 0.50\n",
      "\n",
      "\n",
      "nu = 0.70\n",
      "sT = 0.50\n",
      "\n",
      "\n",
      "nu = 0.70\n",
      "sT = 0.50\n",
      "\n",
      "\n",
      "nu = 0.70\n",
      "sT = 0.50\n",
      "\n",
      "\n",
      "nu = 0.70\n",
      "sT = 0.50\n",
      "\n",
      "\n",
      "nu = 58.43\n",
      "sT = 69.34\n",
      "\n",
      "\n",
      "nu = 35.32\n",
      "sT = 26.24\n",
      "\n",
      "\n",
      "nu = 0.70\n",
      "sT = 0.50\n",
      "\n",
      "\n",
      "nu = 0.70\n",
      "sT = 0.50\n",
      "\n",
      "\n",
      "nu = 58.43\n",
      "sT = 69.34\n",
      "\n",
      "\n",
      "nu = 35.32\n",
      "sT = 26.24\n",
      "\n",
      "\n",
      "nu = 18.54\n",
      "sT = 12.29\n",
      "\n",
      "\n",
      "nu = 14.14\n",
      "sT = 9.18\n",
      "\n",
      "\n",
      "nu = 49.89\n",
      "sT = 32.60\n",
      "\n",
      "\n",
      "nu = 32.09\n",
      "sT = 20.74\n",
      "\n",
      "\n",
      "nu = 14.14\n",
      "sT = 9.18\n",
      "\n",
      "\n",
      "nu = 14.14\n",
      "sT = 9.18\n",
      "\n",
      "\n",
      "nu = 23.12\n",
      "sT = 14.95\n",
      "\n",
      "\n",
      "nu = 32.10\n",
      "sT = 20.70\n",
      "\n",
      "\n",
      "nu = 50.08\n",
      "sT = 32.20\n",
      "\n",
      "\n",
      "nu = 86.02\n",
      "sT = 55.20\n",
      "\n",
      "\n",
      "nu = 157.92\n",
      "sT = 101.20\n",
      "\n",
      "\n",
      "nu = 301.71\n",
      "sT = 193.19\n",
      "\n",
      "\n",
      "nu = 589.29\n",
      "sT = 377.18\n",
      "\n",
      "\n",
      "nu = 1164.46\n",
      "sT = 745.15\n",
      "\n",
      "\n",
      "nu = 2314.80\n",
      "sT = 1481.10\n",
      "\n",
      "\n",
      "nu = 4615.47\n",
      "sT = 2952.99\n",
      "\n",
      "\n",
      "nu = 9216.81\n",
      "sT = 5896.78\n",
      "\n",
      "\n",
      "nu = 18419.50\n",
      "sT = 11784.36\n",
      "\n",
      "\n",
      "nu = 36824.87\n",
      "sT = 23559.51\n",
      "\n",
      "\n",
      "nu = 73635.61\n",
      "sT = 47109.81\n",
      "Share of domestic workers in tradable sector = 47109.81\n",
      "\n",
      "\n",
      "nu = 73635.61\n",
      "sT = 47109.81\n",
      "Average share of consumption of tradablespar.omega_T = 73635.610\n",
      "Average elasticity of substitution between tradable and non-tradable goodspar.eta_T_RA = 0.820\n"
     ]
    }
   ],
   "source": [
    "model = IHANKModelClass(name='baseline')\n",
    "\n",
    "model.par.eta_s = 0.5\n",
    "model.par.etaF = 0.5\n",
    "model.par.etaE = 0.1\n",
    "# model.par.gamma_ = \n",
    "# model.par.tau_ss = 0.1\n",
    "# model.par.gamma = model.par.epsilon\n",
    "# model.par.epsilon_ = 0.0 # for homothetic preferences\n",
    "model.par.float = True\n",
    "model.par.pf_fixed = False\n",
    "model.par.mon_policy = 'taylor'\n",
    "model.par.phi = 1.5\n",
    "# model.par.kappa = .2\n",
    "model.par.mu_p = 1.2\n",
    "\n",
    "\n",
    "model.find_ss(do_print=False)\n",
    "# model.compute_jacs()\n",
    "\n",
    "shock_PE_i, shock_PE_s, shock_forigne_interest, shock_PF_s, shock_PF_s_taylor, shock_PE_PF, shock_PE_PF_taylor, shock_i = calculations.difine_shocks(model, scale=0.03, rho = 0.8) "
   ]
  },
  {
   "cell_type": "code",
   "execution_count": 16,
   "metadata": {},
   "outputs": [
    {
     "name": "stdout",
     "output_type": "stream",
     "text": [
      "E              :       1.0000\n",
      "CB             :       1.0000\n",
      "ZTH            :       1.0000\n",
      "ZNT            :       1.0000\n",
      "NTH            :   47109.8092\n",
      "NNT            :  -47108.8092\n",
      "piWTH          :       0.0000\n",
      "piWNT          :       0.0000\n",
      "YTH            :   47109.8092\n",
      "YNT            :  -47108.8092\n",
      "WTH            :       0.8333\n",
      "WNT            :       0.8333\n",
      "PTH            :       1.0000\n",
      "PNT            :       1.0000\n",
      "pi_TH          :       0.0000\n",
      "pi_NT          :       0.0000\n",
      "PF_s           :       1.0000\n",
      "PF             :       1.0000\n",
      "PTH_s          :       1.0000\n",
      "PT             :       1.0000\n",
      "P              :       1.0000\n",
      "pi_F_s         :       0.0000\n",
      "pi_F           :       0.0000\n",
      "pi_T           :       0.0000\n",
      "pi             :       0.0000\n",
      "pi_TH_s        :       0.0000\n",
      "PE             :       1.0000\n",
      "PTHF           :       1.0000\n",
      "PE_s           :       1.0000\n",
      "Q              :       1.0000\n",
      "i              :       0.0050\n",
      "i_shock        :       0.0000\n",
      "r_real         :       0.0050\n",
      "G              :       0.2486\n",
      "B              :       0.2740\n",
      "tau            :       0.3000\n",
      "NKPCTH_res     :       0.0000\n",
      "NKPCNT_res     :       0.0000\n",
      "adjcost_TH     :       0.0000\n",
      "d_TH           :    7851.6349\n",
      "adjcost_NT     :       0.0000\n",
      "d_NT           :   -7851.4682\n",
      "d              :       0.1667\n",
      "inc_TH         :   27480.7220\n",
      "inc_NT         :  -27480.1387\n",
      "ra             :       0.0050\n",
      "p              :       1.0000\n",
      "n_NT           :       1.0000\n",
      "n_TH           :       1.0000\n",
      "A_hh           :       0.2740\n",
      "C_hh           :       0.0000\n",
      "UC_TH_hh       :       1.5376\n",
      "UC_NT_hh       :       1.5376\n",
      "E_hh           :       0.5847\n",
      "CNT_hh         :  -47109.0577\n",
      "CT_hh          :   47109.6424\n",
      "U_hh           :      -0.7946\n",
      "V_hh           :       0.0000\n",
      "M_s            :   17273.7023\n",
      "CT             :   47109.6424\n",
      "CNT            :  -47109.0577\n",
      "CTF            :   14918.0534\n",
      "CTH            :   29836.1069\n",
      "CTH_s          :   17273.7023\n",
      "A              :       0.2740\n",
      "EX             :       0.5847\n",
      "CTHF           :   44754.1603\n",
      "CE             :    2355.4821\n",
      "wTH            :       0.8333\n",
      "wNT            :       0.8333\n",
      "NKWCT_res      :       0.0000\n",
      "NKWCNT_res     :       0.0000\n",
      "rF             :       0.0050\n",
      "UIP_res        :       0.0000\n",
      "iF_s           :       0.0050\n",
      "clearing_YTH   :       0.0000\n",
      "clearing_YNT   :      -0.0001\n",
      "GDP            :       1.0000\n",
      "NX             :       0.1667\n",
      "CA             :       0.1667\n",
      "NFA            :       0.0000\n",
      "Walras         :       0.1667\n",
      "YH             :       1.0000\n",
      "W              :       0.8333\n",
      "w              :       0.8333\n",
      "N              :       1.0000\n",
      "INC            :       0.5833\n",
      "inc            :       0.5833\n"
     ]
    }
   ],
   "source": [
    "model.test_ss()"
   ]
  },
  {
   "cell_type": "code",
   "execution_count": null,
   "metadata": {},
   "outputs": [],
   "source": [
    "# model.ss.inc_TH = 1.0\n",
    "# model.ss.inc_NT = 1.0\n",
    "# # model.ss.p = 1.0\n",
    "# model.ss.ra = 0.01\n",
    "model.find_ss()\n",
    "# model.solve_hh_ss()\n",
    "# print(f'inc_TH = {model.ss.inc_TH}')\n",
    "# print(f'inc_NT = {model.ss.inc_NT}')\n",
    "# print(f'p = {model.ss.p}')\n",
    "# print(f'ra = {model.ss.ra}')\n",
    "\n",
    "\n",
    "# print(f'A_hh = {model.ss.A_hh}')\n",
    "# print(f'CT = {model.ss.CT_hh}')\n",
    "# print(f'CNT = {model.ss.CNT_hh}')\n",
    "# print(f'E = {model.ss.E_hh}')\n"
   ]
  },
  {
   "cell_type": "code",
   "execution_count": null,
   "metadata": {},
   "outputs": [],
   "source": [
    "figs.plot_policy(model, ['a', 'e', 'ct', 'cnt'])"
   ]
  },
  {
   "cell_type": "code",
   "execution_count": null,
   "metadata": {},
   "outputs": [],
   "source": [
    "model.test_ss()"
   ]
  },
  {
   "cell_type": "code",
   "execution_count": null,
   "metadata": {},
   "outputs": [],
   "source": [
    "model.compute_jacs()"
   ]
  },
  {
   "cell_type": "code",
   "execution_count": null,
   "metadata": {},
   "outputs": [],
   "source": [
    "model.test_path()"
   ]
  },
  {
   "cell_type": "code",
   "execution_count": null,
   "metadata": {},
   "outputs": [],
   "source": [
    "model_baseline = model.copy(name='Floating exchange rate')\n",
    "# model_baseline.par.gamma = 0.13\n",
    "model_baseline.find_transition_path(shocks=shock_PE_s, do_end_check=False)\n",
    "\n",
    "# model_baseline.show_IRFs(target_var, T_max=500, ncols=3, lvl_value=lvl_path, do_shocks=False, do_targets=False)\n",
    "# model_baseline.show_IRFs(paths, T_max=500, ncols=3, lvl_value=lvl_path, do_shocks=False, do_targets=False)"
   ]
  },
  {
   "cell_type": "code",
   "execution_count": null,
   "metadata": {},
   "outputs": [],
   "source": [
    "model_baseline.show_IRFs(model.varlist, T_max=50, ncols=3, lvl_value=lvl_path, do_shocks=False, do_targets=False)"
   ]
  },
  {
   "cell_type": "code",
   "execution_count": null,
   "metadata": {},
   "outputs": [],
   "source": [
    "model_homothetic = model.copy(name='Homothetic preferences')\n",
    "model_homothetic.par.epsilon = 0.0000\n",
    "model_homothetic.par.gamma = 0.1\n",
    "model_homothetic.find_ss(do_print=False)\n",
    "model_homothetic.compute_jacs()\n",
    "model_homothetic.find_transition_path(shocks=shock_PE_s, do_end_check=False)\n"
   ]
  },
  {
   "cell_type": "code",
   "execution_count": null,
   "metadata": {},
   "outputs": [],
   "source": [
    "\n",
    "model_homothetic.solve_hh_ss()"
   ]
  },
  {
   "cell_type": "code",
   "execution_count": null,
   "metadata": {},
   "outputs": [],
   "source": [
    "model_homothetic.compute_jacs()"
   ]
  },
  {
   "cell_type": "code",
   "execution_count": null,
   "metadata": {},
   "outputs": [],
   "source": [
    "model_homothetic.find_transition_path(shocks=shock_PE_s, do_end_check=False)\n"
   ]
  },
  {
   "cell_type": "code",
   "execution_count": null,
   "metadata": {},
   "outputs": [],
   "source": [
    "model.compare_IRFs([model_baseline, model_homothetic], ['Baseline', 'Homothetic Preferens'] target_var, T_max=500, ncols=3, lvl_value=lvl_path, do_shocks=False, do_targets=False)"
   ]
  },
  {
   "cell_type": "code",
   "execution_count": null,
   "metadata": {},
   "outputs": [],
   "source": [
    "v_sum = np.sum(model_baseline.ss.v)\n",
    "v_sum"
   ]
  },
  {
   "cell_type": "code",
   "execution_count": null,
   "metadata": {},
   "outputs": [],
   "source": [
    "np.sum(model.ss.z_trans[0,0,:])"
   ]
  },
  {
   "cell_type": "code",
   "execution_count": null,
   "metadata": {},
   "outputs": [],
   "source": [
    "v_sum = np.sum(model_baseline.path.v[:,:,:,0])\n",
    "v_sum"
   ]
  },
  {
   "cell_type": "code",
   "execution_count": null,
   "metadata": {},
   "outputs": [],
   "source": [
    "model_baseline.show_IRFs(paths_, T_max=50, ncols=3, lvl_value=lvl_path, do_shocks=False, do_targets=False)"
   ]
  },
  {
   "cell_type": "code",
   "execution_count": null,
   "metadata": {},
   "outputs": [],
   "source": [
    "model_baseline.show_IRFs(['YTH', 'YNT', 'CTH', 'CTH_s', 'PTH_s'], T_max=50, ncols=3, lvl_value=lvl_path, do_shocks=False, do_targets=False)"
   ]
  },
  {
   "cell_type": "code",
   "execution_count": null,
   "metadata": {},
   "outputs": [],
   "source": [
    "paths_2 = ['P', 'i', 'r_real', 'E', 'Q', 'PF']\n",
    "model_baseline.show_IRFs(paths_2, T_max=50, ncols=3, lvl_value=lvl_path, do_shocks=False, do_targets=False)"
   ]
  },
  {
   "cell_type": "code",
   "execution_count": null,
   "metadata": {},
   "outputs": [],
   "source": [
    "model"
   ]
  },
  {
   "cell_type": "code",
   "execution_count": null,
   "metadata": {},
   "outputs": [],
   "source": [
    "plt.plot(model_baseline.path.B/model_baseline.path.PNT)\n",
    "plt.hlines(model_baseline.ss.B, 0, 500)"
   ]
  },
  {
   "cell_type": "code",
   "execution_count": null,
   "metadata": {},
   "outputs": [],
   "source": [
    "model.show_IRFs(target_var, T_max=500, ncols=3, lvl_value=lvl_path, do_shocks=False, do_targets=False)"
   ]
  },
  {
   "cell_type": "code",
   "execution_count": null,
   "metadata": {},
   "outputs": [],
   "source": [
    "gamma_list = np.linspace(0.1,0.18, 10 )\n",
    "eta_list = []\n",
    "for gamma in gamma_list: \n",
    "    model.par.gamma = gamma\n",
    "    model.find_ss()\n",
    "    eta = model.par.eta_T_RA\n",
    "    eta_list.append(eta)\n",
    "    \n",
    "plt.plot(gamma_list, eta_list)"
   ]
  },
  {
   "cell_type": "code",
   "execution_count": null,
   "metadata": {},
   "outputs": [],
   "source": [
    "model_PIGL_cubdouglaseta = model.copy(name='PIGL preferences with cubic douglas eta')\n",
    "model_PIGL_cubdouglaseta.par.gamma = 0.13\n",
    "model_PIGL_cubdouglaseta.find_ss()\n",
    "model_PIGL_cubdouglaseta.compute_jacs()\n",
    "model_PIGL_cubdouglaseta.find_transition_path(shocks=shock_PE_s, do_end_check=False)"
   ]
  },
  {
   "cell_type": "code",
   "execution_count": null,
   "metadata": {},
   "outputs": [],
   "source": [
    "model_CB = model.copy(name='Cubb Douglas preferences')\n",
    "model_CB.par.pref = 'CUBB_douglas'\n",
    "model_CB.find_ss(do_print=False)\n",
    "model_CB.compute_jacs()\n",
    "model_CB.find_transition_path(shocks=shock_PE_s, do_end_check=False)"
   ]
  },
  {
   "cell_type": "code",
   "execution_count": null,
   "metadata": {},
   "outputs": [],
   "source": [
    "Baseling_fig = figs.plot_jac_p(model_baseline, title='Baseline')\n",
    "Baseling_fig.savefig(path + 'jac_p_baseline.png')\n",
    "CB_fig = figs.plot_jac_p(model_CB, title='Cobb-Douglas preferences')\n",
    "CB_fig.savefig(path + 'jac_p_CB.png')\n",
    "PIGL_fig = figs.plot_jac_p(model_PIGL_cubdouglaseta, title='PIGL preferences with avergae eta= 1')\n",
    "PIGL_fig.savefig(path + 'jac_p_PIGL.png')"
   ]
  },
  {
   "cell_type": "code",
   "execution_count": null,
   "metadata": {},
   "outputs": [],
   "source": [
    "# Ploting all jacs\n",
    "def plot_jac(model, title = None):\n",
    "\n",
    "   fig = plt.figure(figsize=(15, 15))\n",
    "   # tittle\n",
    "   if title != None:\n",
    "      fig.suptitle(title)\n",
    "\n",
    "   ax = fig.add_subplot(3,3,3)\n",
    "   ax.set_title(r'Expenditure wrt $\\tilde p$')\n",
    "   for s in [0, 50, 150, 250]:\n",
    "      jac_hh_var = model.jac_hh[('E_hh', 'p')]\n",
    "      ax.plot(np.arange(model.par.T), jac_hh_var[:, s],  label=f'shock at {s}')\n",
    "   ax.set_ylabel(r'$dC_{NT}$')\n",
    "   ax.set_xlabel('Quarters')\n",
    "\n",
    "   ax = fig.add_subplot(3,3,1)\n",
    "   ax.set_title(r'Consumption of tradables wrt $\\tilde p$')\n",
    "   for s in [0, 50, 150, 250]:\n",
    "      jac_hh_var = model.jac_hh[('CT_hh', 'p')]\n",
    "      ax.plot(np.arange(model.par.T), jac_hh_var[:, s],  label=f'shock at {s}')\n",
    "   ax.set_ylabel(r'$dC_T$')\n",
    "\n",
    "   ax = fig.add_subplot(3,3,2)\n",
    "   ax.set_title(r'Consumption of Non-tradables wrt $\\tilde p$')\n",
    "   for s in [0, 50, 150, 250]:\n",
    "      jac_hh_var = model.jac_hh[('CNT_hh', 'p')]\n",
    "      ax.plot(np.arange(model.par.T), jac_hh_var[:, s],  label=f'shock at {s}')\n",
    "   ax.set_ylabel(r'$dC_{NT}$')\n",
    "   ax.set_xlabel('Quarters')\n",
    "\n",
    "\n",
    "\n",
    "   ax = fig.add_subplot(3,3,4)\n",
    "   ax.set_title(r'Expenditure wrt $\\tilde w_NT$')\n",
    "   for s in [0, 50, 150, 250]:\n",
    "      jac_hh_var = model.jac_hh[('E_hh', 'inc_TH')]\n",
    "      ax.plot(np.arange(model.par.T), jac_hh_var[:, s],  label=f'shock at {s}')\n",
    "   ax.set_ylabel(r'$dC_{NT}$')\n",
    "   ax.set_xlabel('Quarters')\n",
    "\n",
    "   ax = fig.add_subplot(3,3,5)\n",
    "   ax.set_title(r'Consumption of tradables wrt $w_NT$')\n",
    "   for s in [0, 50, 150, 250]:\n",
    "      jac_hh_var = model.jac_hh[('CT_hh', 'inc_TH')]\n",
    "      ax.plot(np.arange(model.par.T), jac_hh_var[:, s],  label=f'shock at {s}')\n",
    "   ax.set_ylabel(r'$dC_T$')\n",
    "\n",
    "   ax = fig.add_subplot(3,3,6)\n",
    "   ax.set_title(r'Consumption of Non-tradables wrt $w_NT$')\n",
    "   for s in [0, 50, 150, 250]:\n",
    "      jac_hh_var = model.jac_hh[('CNT_hh', 'inc_TH')]\n",
    "      ax.plot(np.arange(model.par.T), jac_hh_var[:, s],  label=f'shock at {s}')\n",
    "   ax.set_ylabel(r'$dC_{NT}$')\n",
    "   ax.set_xlabel('Quarters')\n",
    "\n",
    "\n",
    "\n",
    "\n",
    "   ax = fig.add_subplot(3,3,7)\n",
    "   ax.set_title(r'Expenditure wrt $\\tilde r$')\n",
    "   for s in [0, 50, 150, 250]:\n",
    "      jac_hh_var = model.jac_hh[('E_hh', 'ra')]\n",
    "      ax.plot(np.arange(model.par.T), jac_hh_var[:, s],  label=f'shock at {s}')\n",
    "   ax.set_ylabel(r'$dC_{NT}$')\n",
    "   ax.set_xlabel('Quarters')\n",
    "\n",
    "   ax = fig.add_subplot(3,3,8)\n",
    "   ax.set_title(r'Consumption of tradables wrt $\\tilde r$')\n",
    "   for s in [0, 50, 150, 250]:\n",
    "      jac_hh_var = model.jac_hh[('CT_hh', 'ra')]\n",
    "      ax.plot(np.arange(model.par.T), jac_hh_var[:, s],  label=f'shock at {s}')\n",
    "   ax.set_ylabel(r'$dC_T$')\n",
    "\n",
    "   ax = fig.add_subplot(3,3,9)\n",
    "   ax.set_title(r'Consumption of Non-tradables wrt $\\tilde r$')\n",
    "   for s in [0, 50, 150, 250]:\n",
    "      jac_hh_var = model.jac_hh[('CNT_hh', 'ra')]\n",
    "      ax.plot(np.arange(model.par.T), jac_hh_var[:, s],  label=f'shock at {s}')\n",
    "   ax.set_ylabel(r'$dC_{NT}$')\n",
    "   ax.set_xlabel('Quarters')\n",
    "\n",
    "\n",
    "\n",
    "   # legende outside box\n",
    "#    plt.legend(loc='center left', bbox_to_anchor=(1, 0.5))\n",
    "   plt.legend\n",
    "   plt.tight_layout()\n",
    "\n",
    "   return fig\n",
    "\n",
    "fig = plot_jac(model_baseline, title='Baseline')\n",
    "fig.savefig(path + 'jac_all.png')"
   ]
  },
  {
   "cell_type": "code",
   "execution_count": null,
   "metadata": {},
   "outputs": [],
   "source": [
    "model_baseline.compare_IRFs([model_baseline, model_CB, model_PIGL_cubdouglaseta], ['Baseline', 'Cubb douglas', 'PIGL with eta = 1.0'],paths,  T_max=500, ncols=3, lvl_value=lvl_path, do_shocks=False, do_targets=False)"
   ]
  },
  {
   "cell_type": "code",
   "execution_count": null,
   "metadata": {},
   "outputs": [],
   "source": [
    "model_CES = model.copy(name='CES preferences')\n",
    "model_CES.par.pref = 'CES'\n",
    "model_CES.par.gamma = model_CES.par.epsilon \n",
    "model_CES.find_ss()\n",
    "model_CES.compute_jacs()\n",
    "model_CES.find_transition_path(shocks=shock_PE_s, do_end_check=False)"
   ]
  },
  {
   "cell_type": "code",
   "execution_count": null,
   "metadata": {},
   "outputs": [],
   "source": [
    "model_PIGL_compar = model.copy(name='Floating exchange rate')\n",
    "model_PIGL_compar.par.gamma = 0.13\n",
    "model_PIGL_compar.find_ss()\n",
    "model_PIGL_compar.compute_jacs()\n",
    "model_PIGL_compar.find_transition_path(shocks=shock_PE_s, do_end_check=False)\n"
   ]
  },
  {
   "cell_type": "code",
   "execution_count": null,
   "metadata": {},
   "outputs": [],
   "source": [
    "paths_ = ['CT', 'CNT', 'CTHF', 'CE', 'CTF', 'CTH']\n",
    "model.compare_IRFs([model_PIGL_compar, model_CB], ['PIGL', 'Cubb douglas'],  paths_, ncols=3,  T_max=50, do_shocks=False, do_targets=False)"
   ]
  },
  {
   "cell_type": "code",
   "execution_count": null,
   "metadata": {},
   "outputs": [],
   "source": []
  },
  {
   "cell_type": "code",
   "execution_count": null,
   "metadata": {},
   "outputs": [],
   "source": [
    "model_kappa_high = model.copy(name='Baseline with high kappa')\n",
    "model_kappa_high.par.kappa_w = 0.5\n",
    "model_kappa_high.find_ss(do_print=False)\n",
    "model_kappa_high.compute_jacs()\n"
   ]
  },
  {
   "cell_type": "code",
   "execution_count": null,
   "metadata": {},
   "outputs": [],
   "source": [
    "model_kappa_high.find_transition_path(shocks=shock_PE_s, do_end_check=False)"
   ]
  },
  {
   "cell_type": "code",
   "execution_count": null,
   "metadata": {},
   "outputs": [],
   "source": [
    "model_kappa_high_fixed = model_kappa_high.copy(name='Fixed exchange rate high kappa')\n",
    "model_kappa_high_fixed.par.float = False\n",
    "model_kappa_high_fixed.find_ss()\n",
    "model_kappa_high_fixed.compute_jacs()\n",
    "model_kappa_high_fixed.find_transition_path(shocks=shock_PE_s, do_end_check=False)\n"
   ]
  },
  {
   "cell_type": "code",
   "execution_count": null,
   "metadata": {},
   "outputs": [],
   "source": [
    "model_kappa_high.compare_IRFs([model_kappa_high, model_kappa_high_fixed], ['Baseline',  'Fixed exchange'], model.varlist, T_max=50, ncols=3, lvl_value=lvl_path, do_shocks=False, do_targets=False)"
   ]
  },
  {
   "cell_type": "code",
   "execution_count": null,
   "metadata": {},
   "outputs": [],
   "source": [
    "model_PE_i = model.copy(name='Fixed exchange rate')\n",
    "model_PE_i.find_ss()\n",
    "model_PE_i.compute_jacs()\n",
    "model_PE_i.find_transition_path(shocks=shock_PE_i, do_end_check=False)"
   ]
  },
  {
   "cell_type": "code",
   "execution_count": null,
   "metadata": {},
   "outputs": [],
   "source": [
    "plt.plot(shock_PE_i['di_shock'])\n",
    "plt.plot(shock_PE_i['dPE_s'])"
   ]
  },
  {
   "cell_type": "code",
   "execution_count": null,
   "metadata": {},
   "outputs": [],
   "source": [
    "model_baseline.compare_IRFs([model_baseline, model_PE_i], ['Baseline', 'I shock too'], paths, T_max=500, ncols=3, lvl_value=lvl_path, do_shocks=True, do_targets=False)"
   ]
  },
  {
   "cell_type": "code",
   "execution_count": null,
   "metadata": {},
   "outputs": [],
   "source": [
    "model_baseline.compare_IRFs([model_baseline, model_fixed], ['Baseline', 'Fixed exchange rate'], model.varlist, T_max=100, ncols=3, lvl_value=lvl_path, do_shocks=False, do_targets=False)"
   ]
  },
  {
   "cell_type": "code",
   "execution_count": null,
   "metadata": {},
   "outputs": [],
   "source": [
    "NT_paths = ['YNT', 'WNT', 'inc_NT', 'PNT', 'NNT', 'CNT']\n",
    "model_baseline.show_IRFs(NT_paths, T_max=50, ncols=3, lvl_value=lvl_path, do_shocks=False, do_targets=False)"
   ]
  },
  {
   "cell_type": "code",
   "execution_count": null,
   "metadata": {},
   "outputs": [],
   "source": [
    "model_high_kappa = model.copy(name='High kappa')\n",
    "model_high_kappa.par.kappa = 0.3\n",
    "model_high_kappa.find_ss(do_print=False)\n",
    "model_high_kappa.compute_jacs()\n",
    "\n",
    "model_high_kappa.find_transition_path(shocks=shock_PE_s, do_end_check=False)\n",
    "model_high_kappa.compare_IRFs([model_baseline, model_high_kappa], ['Baseline', 'High kappa'], paths, T_max=50, ncols=3, lvl_value=lvl_path, do_shocks=False, do_targets=False)"
   ]
  },
  {
   "cell_type": "code",
   "execution_count": null,
   "metadata": {},
   "outputs": [],
   "source": [
    "paths_ = ['PE', 'PT', 'CT', 'CNT', 'YH', 'P', 'W', 'w']"
   ]
  },
  {
   "cell_type": "code",
   "execution_count": null,
   "metadata": {},
   "outputs": [],
   "source": [
    "model_baseline.compare_IRFs([model_baseline, model_high_kappa], ['Baseline', 'High kappa'], paths, T_max=50, ncols=3, lvl_value=lvl_path, do_shocks=False, do_targets=False)"
   ]
  },
  {
   "cell_type": "code",
   "execution_count": null,
   "metadata": {},
   "outputs": [],
   "source": [
    "calculations.test_model_properties([model_high_kappa])"
   ]
  },
  {
   "cell_type": "code",
   "execution_count": null,
   "metadata": {},
   "outputs": [],
   "source": [
    "C_list = ['']"
   ]
  },
  {
   "cell_type": "code",
   "execution_count": null,
   "metadata": {},
   "outputs": [],
   "source": []
  },
  {
   "cell_type": "code",
   "execution_count": null,
   "metadata": {},
   "outputs": [],
   "source": [
    "model_high_epsilon = model.copy(name='Low epsilon')\n",
    "model_high_epsilon.par.epsilon_ = 0.05\n",
    "model_high_epsilon.find_ss(do_print=False)\n",
    "model_high_epsilon.compute_jacs()\n",
    "model_high_epsilon.find_transition_path(shocks=shock_PE_s, do_end_check=False)\n"
   ]
  },
  {
   "cell_type": "code",
   "execution_count": null,
   "metadata": {},
   "outputs": [],
   "source": [
    "model.compare_IRFs([model_baseline, model_high_epsilon], ['baseline', 'low epsilon'], paths, T_max=50, ncols=3, lvl_value=lvl_path, do_shocks=False, do_targets=False)"
   ]
  },
  {
   "cell_type": "code",
   "execution_count": null,
   "metadata": {},
   "outputs": [],
   "source": [
    "model_gamma_0 = model.copy(name='gamma = 0')\n",
    "model_gamma_0.par.gamma_ = 0.01\n",
    "model_gamma_0.find_ss(do_print=False)\n",
    "model_gamma_0.compute_jacs()\n",
    "model_gamma_0.find_transition_path(shocks=shock_PE_s, do_end_check=False)\n"
   ]
  },
  {
   "cell_type": "code",
   "execution_count": null,
   "metadata": {},
   "outputs": [],
   "source": [
    "model_gamma_eq_epsilon = model.copy(name='gamma = epsilon')\n",
    "model_gamma_eq_epsilon.par.gamma_ = model_gamma_eq_epsilon.par.epsilon_\n",
    "model_gamma_eq_epsilon.find_ss(do_print=False)\n",
    "model_gamma_eq_epsilon.compute_jacs()\n",
    "model_gamma_eq_epsilon.find_transition_path(shocks=shock_PE_s, do_end_check=False)"
   ]
  },
  {
   "cell_type": "code",
   "execution_count": null,
   "metadata": {},
   "outputs": [],
   "source": [
    "model_eta_high = model.copy(name='High eta')\n",
    "model_eta_high.par.eta_s = 2.0\n",
    "model_eta_high.par.etaF = 2.0\n",
    "# model_eta_high.par.etaE = 2.0\n",
    "# model_eta_high.par.gamma_ = 0.01\n",
    "\n",
    "model_eta_high.find_ss(do_print=False)\n",
    "model_eta_high.compute_jacs()\n",
    "model_eta_high.find_transition_path(shocks=shock_PE_s, do_end_check=False)\n"
   ]
  },
  {
   "cell_type": "code",
   "execution_count": null,
   "metadata": {},
   "outputs": [],
   "source": [
    "model.compare_IRFs([model_baseline, model_eta_high], ['baseline', 'high_eta'], model.varlist, T_max=50, ncols=3, lvl_value=lvl_path, do_shocks=False, do_targets=False)"
   ]
  },
  {
   "cell_type": "code",
   "execution_count": null,
   "metadata": {},
   "outputs": [],
   "source": [
    "# Expenditure shares and elicticities of substion\n",
    "for model in [model_baseline,  model_gamma_eq_epsilon, model_gamma_0]:\n",
    "    print(f'Model: {model.name} \\n eta_T = = {model.par.eta_T_RA:.2f}')"
   ]
  },
  {
   "cell_type": "code",
   "execution_count": null,
   "metadata": {},
   "outputs": [],
   "source": [
    "NT_paths = ['YNT', 'WNT', 'inc_NT', 'PNT', 'NNT', 'CNT']\n",
    "model_gamma_0.compare_IRFs([model_baseline, model_gamma_eq_epsilon, model_gamma_0],['Basline Gamma > epsilon', 'Gamma = epsilon', 'gamma = 0'], model.varlist, T_max=50, ncols=3, lvl_value=lvl_path, do_shocks=False, do_targets=False)"
   ]
  },
  {
   "cell_type": "code",
   "execution_count": null,
   "metadata": {},
   "outputs": [],
   "source": []
  },
  {
   "cell_type": "code",
   "execution_count": null,
   "metadata": {},
   "outputs": [],
   "source": [
    "fig = plt.figure(figsize=(12, 8))\n",
    "ax = fig.add_subplot(111)\n",
    "\n",
    "for model in [model_baseline, model_gamma_0]:\n",
    "    a_ = model.ss.a[0,3,:]*model.ss.PNT\n",
    "    e_ = model.ss.e[0,3,:]*model.ss.PNT\n",
    "    ect_ = model.ss.ct[0,3,:]*model.ss.PT\n",
    "    ecnt_ = model.ss.cnt[0,3,:]*model.ss.PNT\n",
    "    share_ = ect_/(ecnt_+ect_)\n",
    "    ax.plot(e_, share_, label=model.name)\n"
   ]
  },
  {
   "cell_type": "code",
   "execution_count": null,
   "metadata": {},
   "outputs": [],
   "source": [
    "shock_PE_s, shock_forigne_interest, shock_PF_s, shock_PF_s_taylor, shock_PE_PF, shock_PE_PF_taylor, shock_i = calculations.difine_shocks(model, scale=0.03, rho = 0.8) "
   ]
  },
  {
   "cell_type": "code",
   "execution_count": null,
   "metadata": {},
   "outputs": [],
   "source": [
    "paths_r = ['r_real', 'i', 'P', 'ra']\n",
    "model_baseline.show_IRFs(paths_r, do_shocks=False, do_targets=False, T_max=200, ncols=3, lvl_value=lvl_path)"
   ]
  },
  {
   "cell_type": "code",
   "execution_count": null,
   "metadata": {},
   "outputs": [],
   "source": [
    "YTH = model_baseline.path.YTH\n",
    "YNT = model_baseline.path.YNT\n",
    "CNT = model_baseline.path.CNT\n",
    "CTH = model_baseline.path.CTH \n",
    "CTH_s = model_baseline.path.CTH_s\n",
    "\n",
    "# Differnce form ss \n",
    "fig = plt.figure(figsize=(12, 8))\n",
    "ax = fig.add_subplot(1, 1, 1)\n",
    "ax.plot(YTH - model_baseline.ss.YTH, label='YTH')\n",
    "ax.plot(YNT - model_baseline.ss.YNT, label='YNT')\n",
    "ax.plot(CNT - model_baseline.ss.CNT, label='CNT')\n",
    "ax.plot(CTH - model_baseline.ss.CTH, label='CTH')\n",
    "ax.plot(CTH_s - model_baseline.ss.CTH_s, label='CTH_s')\n",
    "ax.legend()"
   ]
  },
  {
   "cell_type": "code",
   "execution_count": null,
   "metadata": {},
   "outputs": [],
   "source": [
    "model_baseline.show_IRFs(model.varlist, do_shocks=False, do_targets=False, T_max=50, ncols=3, lvl_value=lvl_path)"
   ]
  },
  {
   "cell_type": "code",
   "execution_count": null,
   "metadata": {},
   "outputs": [],
   "source": [
    "fig = figs.plot_PE_s(model_baseline)\n",
    "if save_figs:\n",
    "    fig.savefig(path + 'PE_s.png', dpi=300)\n"
   ]
  },
  {
   "cell_type": "code",
   "execution_count": null,
   "metadata": {},
   "outputs": [],
   "source": [
    "fig = figs.plot_jac_p(model_baseline)\n",
    "if save_figs:\n",
    "    fig.savefig(path + 'jac_p.png', dpi=300)"
   ]
  },
  {
   "cell_type": "code",
   "execution_count": null,
   "metadata": {},
   "outputs": [],
   "source": [
    "\n",
    "# Expenditure shares \n",
    "\n",
    "fig = plt.figure(figsize=(10, 5))\n",
    "ax = fig.add_subplot(121)\n",
    "\n",
    "model = model_PIGL_cubdouglaseta\n",
    "\n",
    "\n",
    "C_list = ['CT', 'CNT']\n",
    "P_list = ['PT', 'PNT']\n",
    "# prices = ['P', 'PT', 'PNT', 'PTHF', 'PTH', 'PF'  ]\n",
    "\n",
    "for i in range(len(C_list)):\n",
    "    # P_ = P_list[i]\n",
    "    # P__ = model.path.__dict__[P_]\n",
    "    dC = (model.path.__dict__[C_list[i]]/model.ss.__dict__[C_list[i]] - 1)*100\n",
    "    ax.plot(dC[:50],  label = C_list[i])\n",
    "\n",
    "    dC = (model_CB.path.__dict__[C_list[i]]/model_CB.ss.__dict__[C_list[i]] - 1)*100\n",
    "    ax.plot(dC[:50],  label = f'CB {C_list[i]}')\n",
    "\n",
    "\n",
    "# for C in C_list:\n",
    "#     dC = (model_baseline.path.__dict__[C]/model_baseline.ss.__dict__[C] - 1)*100\n",
    "#     ax.plot(dC[:50],  label = C)\n",
    "\n",
    "\n",
    "ax.set_title('Tradable and non-tradable')\n",
    "ax.legend()\n",
    "\n",
    "ax = fig.add_subplot(122)\n",
    "\n",
    "C_list = ['CTHF', 'CE']\n",
    "P_list = ['PTHF', 'PE']\n",
    "\n",
    "for i in range(len(C_list)):\n",
    "    # P_ = P_list[i]\n",
    "    # P__ = model.path.__dict__[P_]\n",
    "    # print(C_list[i])\n",
    "    dC = (model.path.__dict__[C_list[i]]/model.ss.__dict__[C_list[i]] - 1)*100\n",
    "    ax.plot(dC[:50],  label = C_list[i])\n",
    "\n",
    "    dC = (model_CB.path.__dict__[C_list[i]]/model_CB.ss.__dict__[C_list[i]] - 1)*100\n",
    "    ax.plot(dC[:50],  label = f'CB {C_list[i]}')\n",
    "\n",
    "ax.set_title('Energy and non-energy')\n",
    "ax.legend()"
   ]
  },
  {
   "cell_type": "code",
   "execution_count": null,
   "metadata": {},
   "outputs": [],
   "source": [
    "\n",
    "\n",
    "fig = plt.figure(figsize=(5, 5))\n",
    "ax = fig.add_subplot(111)\n",
    "\n",
    "P = 'P'\n",
    "\n",
    "prices = ['P', 'PT', 'PNT', 'PTHF', 'PTH', 'PF' , 'PE' ]\n",
    "\n",
    "for P in prices:\n",
    "    P_ = model_baseline.path.__dict__[P]\n",
    "    ax.plot(P_[:50],  label = P)\n",
    "ax.set_title('Price levels')\n",
    "ax.legend()\n",
    "plt.show()\n"
   ]
  },
  {
   "cell_type": "code",
   "execution_count": null,
   "metadata": {},
   "outputs": [],
   "source": [
    "def share_T(par,e, PT=1, PNT=1):\n",
    "    CT = (e/PT)*(par.nu_*(PNT/e)**par.epsilon_*(PT/PNT)**par.gamma_)\n",
    "    CNT = (e/PNT)*(1-par.nu_*(PNT/e)**par.epsilon_*(PT/PNT)**par.gamma_)  \n",
    "    return CT/(CT+CNT) "
   ]
  },
  {
   "cell_type": "code",
   "execution_count": null,
   "metadata": {},
   "outputs": [],
   "source": [
    "# Marginal propensity to consume/spend\n",
    "# e = model_baseline.ss.e\n",
    "par = model_baseline.par\n",
    "\n",
    "\n",
    "fig = plt.figure()\n",
    "ax = fig.add_subplot(1,1,1)\n",
    "\n",
    "i_fix = 0\n",
    "Nz = 0\n",
    "\n",
    "for i_z in [1]: #[par.Nz//2-1,par.Nz//2,par.Nz//2+1]:\n",
    "    \n",
    "    \n",
    "    e = model_baseline.ss.e[i_fix,i_z, :]\n",
    "\n",
    "\n",
    "    t_share = share_T(par,e[1:], PT=model_baseline.ss.PT, PNT=model_baseline.ss.PNT)\n",
    "\n",
    "    e = model_baseline.ss.e[i_fix,i_z, :]\n",
    "    MPC = (e[1:]-e[:-1])/((1+model.ss.ra)*(par.a_grid[1:]-par.a_grid[:-1]))\n",
    "    ax.scatter(t_share, MPC, label=f'Marginal propensity to spend')\n",
    "\n",
    "\n",
    "    e = model_baseline.ss.ct[i_fix,i_z, :]\n",
    "    MPC = (e[1:]-e[:-1])/((1+model.ss.ra)*(par.a_grid[1:]-par.a_grid[:-1]))\n",
    "    ax.scatter(t_share, MPC, label=f'Marginal propensity T')\n",
    "\n",
    "\n",
    "    e = model_baseline.ss.cnt[i_fix,i_z, :]\n",
    "    MPC = (e[1:]-e[:-1])/((1+model.ss.ra)*(par.a_grid[1:]-par.a_grid[:-1]))\n",
    "    ax.scatter(t_share, MPC, label=f'Marginal propensity NT')\n",
    "\n",
    "\n",
    "\n",
    "\n",
    "#     ax.plot(par.a_grid[:-1],MPC,label=f'z = {par.z_grid[i_z]:.2f}')\n",
    "\n",
    "\n",
    "ax.set_xlabel('$Tradable share$')\n",
    "\n",
    "ax.legend(frameon=True);\n",
    "\n",
    "fig.suptitle('MPC from policy function')\n",
    "fig.tight_layout(pad=0.5)\n",
    "\n",
    "# fig.savefig('figs/MPC_policy.pdf')"
   ]
  },
  {
   "cell_type": "code",
   "execution_count": null,
   "metadata": {},
   "outputs": [],
   "source": [
    "# Marginal propensity to consume/spend\n",
    "e = model_baseline.ss.e\n",
    "par = model_baseline.par\n",
    "\n",
    "# MPC = (e[i_fix,Nz, 1:]-e[i_fix, Nz,:-1])/((1+model.ss.ra)*(par.a_grid[1:]-par.a_grid[:-1]))\n",
    "\n",
    "\n",
    "fig = plt.figure()\n",
    "ax = fig.add_subplot(1,1,1)\n",
    "\n",
    "# ax.plot(e[1:], MPC, label='MPC')\n",
    "# ax.plot(e[1:], t_share, label='Tradable share')\n",
    "\n",
    "i_fix = 0\n",
    "Nz = 0\n",
    "\n",
    "# a_grid initial assets in\n",
    "\n",
    "\n",
    "for i_z in [1]: #[par.Nz//2-1,par.Nz//2,par.Nz//2+1]:\n",
    "    e = model_baseline.ss.e[i_fix,i_z, :]\n",
    "    MPC = (e[1:]-e[:-1])/((1+model.ss.ra)*(par.a_grid[1:]-par.a_grid[:-1]))\n",
    "    t_share = share_T(par,e[1:], PT=model_baseline.ss.PT, PNT=model_baseline.ss.PNT)\n",
    "    ax.plot(t_share, MPC, label=f'z = {par.z_grid[i_z]:.2f}')\n",
    "\n",
    "    \n",
    "\n",
    "\n",
    "#     ax.plot(par.a_grid[:-1],MPC,label=f'z = {par.z_grid[i_z]:.2f}')\n",
    "\n",
    "\n",
    "ax.set_xlabel('$Tradable share$')\n",
    "\n",
    "ax.legend(frameon=True);\n",
    "\n",
    "fig.suptitle('MPC from policy function')\n",
    "fig.tight_layout(pad=0.5)\n",
    "\n",
    "# fig.savefig('figs/MPC_policy.pdf')"
   ]
  },
  {
   "cell_type": "code",
   "execution_count": null,
   "metadata": {},
   "outputs": [],
   "source": [
    "model_high_epsilon = model.copy(name='High epsilon')\n",
    "model_high_epsilon.par.epsilon_ = model.par.epsilon_ + 0.1\n",
    "model_high_epsilon.find_ss(do_print=False)\n",
    "model_high_epsilon.compute_jacs()"
   ]
  },
  {
   "cell_type": "code",
   "execution_count": null,
   "metadata": {},
   "outputs": [],
   "source": [
    "model_high_gamma = model.copy(name='Gamma 0')\n",
    "model_high_gamma.par.gamma_ = 0.0\n",
    "model_high_gamma.find_ss(do_print=False)\n",
    "model_high_gamma.compute_jacs()\n"
   ]
  },
  {
   "cell_type": "code",
   "execution_count": null,
   "metadata": {},
   "outputs": [],
   "source": [
    "fig = figs.plot_jac_p(model_baseline)\n"
   ]
  },
  {
   "cell_type": "code",
   "execution_count": null,
   "metadata": {},
   "outputs": [],
   "source": [
    "fig = figs.plot_jac_p(model_high_epsilon)"
   ]
  },
  {
   "cell_type": "code",
   "execution_count": null,
   "metadata": {},
   "outputs": [],
   "source": [
    "fig = figs.plot_jac_p(model_high_gamma)"
   ]
  },
  {
   "cell_type": "code",
   "execution_count": null,
   "metadata": {},
   "outputs": [],
   "source": [
    "# Expenditure on tradable and non-tradable goods as a function of total expenditure\n",
    "# run_test = False\n",
    "\n",
    "\n",
    "if run_test:\n",
    "    a_ = model.ss.a[0,3,:]*model.ss.PNT\n",
    "    e_ = model.ss.e[0,3,:]*model.ss.PNT\n",
    "    ect_ = model.ss.ct[0,3,:]*model.ss.PT\n",
    "    ecnt_ = model.ss.cnt[0,3,:]*model.ss.PNT\n",
    "    share_ = ect_/(ecnt_+ect_)\n",
    "    \n",
    "\n",
    "    plt.figure()\n",
    "    plt.plot(e_,share_)\n",
    "    plt.xlabel('Total expenditure')\n",
    "    plt.ylabel('Expenditure share tradable goods')\n",
    "    plt.title('Non-homothetic expenditure shares')\n",
    "    # model.test_hh_path()\n",
    "    # model.test_path()\n",
    "    # model.test_jacs()\n",
    "\n",
    "\n"
   ]
  },
  {
   "cell_type": "code",
   "execution_count": null,
   "metadata": {},
   "outputs": [],
   "source": [
    "model_fixed = model.copy(name='Fixed exchange rate')\n",
    "# model_fixed.par.nu = 2.0\n",
    "model_fixed.par.float = False\n",
    "model_fixed.find_ss(do_print=False)\n",
    "model_fixed.compute_jacs()\n",
    "model_fixed.find_transition_path(shocks=shock_PE_s, do_end_check=False)\n",
    "# model_fixed.show_IRFs(paths, T_max=500, ncols=3, lvl_value=lvl_path, do_shocks=False, do_targets=False)"
   ]
  },
  {
   "cell_type": "code",
   "execution_count": null,
   "metadata": {},
   "outputs": [],
   "source": [
    "models_list = [ model_baseline, model_fixed]\n",
    "labels = []\n",
    "for i in models_list:\n",
    "    labels.append(i.name)\n",
    "print(labels)"
   ]
  },
  {
   "cell_type": "code",
   "execution_count": null,
   "metadata": {},
   "outputs": [],
   "source": [
    "model_baseline.compare_IRFs(models=models_list, labels=labels, varnames=model.varlist,  T_max=500, ncols=3, lvl_value=lvl_path, do_shocks=True, do_targets=False)"
   ]
  },
  {
   "cell_type": "code",
   "execution_count": null,
   "metadata": {},
   "outputs": [],
   "source": [
    "model_float.compare_IRFs(models_list, labels, ['PT', 'PNT', 'p'], T_max=100, ncols=3, lvl_value=lvl_path, do_shocks=False, do_targets=False)"
   ]
  },
  {
   "cell_type": "code",
   "execution_count": null,
   "metadata": {},
   "outputs": [],
   "source": [
    "model_float.compare_IRFs(models_list, labels, model.varlist, T_max=500, ncols=3, lvl_value=lvl_path, do_shocks=False, do_targets=False)"
   ]
  }
 ],
 "metadata": {
  "kernelspec": {
   "display_name": "base",
   "language": "python",
   "name": "python3"
  },
  "language_info": {
   "codemirror_mode": {
    "name": "ipython",
    "version": 3
   },
   "file_extension": ".py",
   "mimetype": "text/x-python",
   "name": "python",
   "nbconvert_exporter": "python",
   "pygments_lexer": "ipython3",
   "version": "3.9.13"
  }
 },
 "nbformat": 4,
 "nbformat_minor": 2
}

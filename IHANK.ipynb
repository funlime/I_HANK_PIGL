{
 "cells": [
  {
   "cell_type": "markdown",
   "metadata": {},
   "source": [
    "# I-HANK model"
   ]
  },
  {
   "cell_type": "markdown",
   "metadata": {},
   "source": [
    "Variables\\\n",
    "A_hh: Houshold assets deflated with PNT \\\n",
    "A: Houshold assets nominal\\\n",
    "E_hh: Houshold expenditure deflated with PNT \\\n",
    "E: Nominal Houshold expenditure\n",
    "\n",
    "Parameters follow notation from I-HANK docunemtation.\\\n",
    "New parameters are followed by _\n",
    "\n"
   ]
  },
  {
   "cell_type": "code",
   "execution_count": null,
   "metadata": {},
   "outputs": [],
   "source": [
    "%load_ext autoreload\n",
    "%autoreload 2\n",
    "\n",
    "\n",
    "import numpy as np\n",
    "\n",
    "import matplotlib.pyplot as plt   \n",
    "colors = plt.rcParams['axes.prop_cycle'].by_key()['color']\n",
    "\n",
    "plt.rcParams.update({\"axes.grid\" : True, \"grid.color\": \"black\", \"grid.alpha\":\"0.25\", \"grid.linestyle\": \"--\"})\n",
    "plt.rcParams.update({'font.size': 14})\n",
    "\n",
    "from IHANKModel import IHANKModelClass\n",
    "import func "
   ]
  },
  {
   "cell_type": "code",
   "execution_count": null,
   "metadata": {},
   "outputs": [],
   "source": [
    "model = IHANKModelClass(name='baseline')\n",
    "model.find_ss(do_print=True)\n",
    "func.plot_policy(model, ['a', 'e', 'ct', 'cnt', 'cth', 'ctf'])"
   ]
  },
  {
   "cell_type": "code",
   "execution_count": null,
   "metadata": {},
   "outputs": [],
   "source": [
    "# Expenditure on tradable and non-tradable goods as a function of total expenditure\n",
    "a_ = model.ss.a[0,3,:]*model.ss.PNT\n",
    "e_ = model.ss.e[0,3,:]*model.ss.PNT\n",
    "ect_ = model.ss.ct[0,3,:]*model.ss.PT\n",
    "ecnt_ = model.ss.cnt[0,3,:]*model.ss.PNT\n",
    "share_ = ect_/(ecnt_+ect_)\n",
    "\n",
    "plt.figure()\n",
    "plt.plot(e_,share_)\n",
    "plt.xlabel('Total expenditure')\n",
    "plt.ylabel('Expenditure share tradable goods')\n",
    "plt.title('Non-homothetic expenditure shares')"
   ]
  },
  {
   "cell_type": "code",
   "execution_count": null,
   "metadata": {},
   "outputs": [],
   "source": [
    "model.test_hh_path()"
   ]
  },
  {
   "cell_type": "code",
   "execution_count": null,
   "metadata": {},
   "outputs": [],
   "source": [
    "model.test_ss()"
   ]
  },
  {
   "cell_type": "code",
   "execution_count": null,
   "metadata": {},
   "outputs": [],
   "source": [
    "model.test_path()\n",
    "\n"
   ]
  },
  {
   "cell_type": "code",
   "execution_count": null,
   "metadata": {},
   "outputs": [],
   "source": [
    "model.compute_jacs()"
   ]
  },
  {
   "cell_type": "code",
   "execution_count": null,
   "metadata": {},
   "outputs": [],
   "source": [
    "model.test_jacs()"
   ]
  },
  {
   "cell_type": "code",
   "execution_count": null,
   "metadata": {},
   "outputs": [],
   "source": []
  },
  {
   "cell_type": "code",
   "execution_count": null,
   "metadata": {},
   "outputs": [],
   "source": [
    "float = model.copy()\n",
    "# fixed.par.jump_fixed = -0.0075 # initial jump\n",
    "# fixed.par.rho_fixed = 0.80 # AR(1) coefficeint\n",
    "\n",
    "# float.par.jump_rF = +0.00005 # initial jump\n",
    "# float.par.rho_rF = 0.80 # AR(1) coefficeint\n",
    "\n",
    "float.par.jump_PF_s = +0.03 # initial jump\n",
    "float.par.rho_PF_s = 0.80 # AR(1) coefficeint\n",
    "\n",
    "float.find_transition_path(shocks=['PF_s'],do_print=False,do_end_check=False)"
   ]
  },
  {
   "cell_type": "code",
   "execution_count": null,
   "metadata": {},
   "outputs": [],
   "source": [
    "lvl_path = ['Walras', 'CB', 'i', 'NX', 'CA']\n",
    "paths = ['PTH_s', 'PF_s']\n",
    "float.show_IRFs(varnames=paths, lvl_value= lvl_path, do_shocks=False)"
   ]
  },
  {
   "cell_type": "markdown",
   "metadata": {},
   "source": [
    "# No affect of a forigne price shock - ploting UIP "
   ]
  },
  {
   "cell_type": "markdown",
   "metadata": {},
   "source": [
    "The exchange rate is given by the inverse of the forigne price level.\\\n",
    "No change in the price of forign goods in domestic currency.\n"
   ]
  },
  {
   "cell_type": "code",
   "execution_count": null,
   "metadata": {},
   "outputs": [],
   "source": [
    "# Showing nothing happens to the domestic i\n",
    "path = float.path\n",
    "\n",
    "fig = plt.figure(figsize=(12,6))\n",
    "ax1 = fig.add_subplot(1,2,1)\n",
    "\n",
    "\n",
    "ax1.plot((1+path.E[1,:])/(1+path.E[0,:]), label= 'RHS')\n",
    "ax1.plot( 1+ path.i, label = 'LHS')\n",
    "ax1.legend()\n",
    "\n",
    "# Nominal exchange rate E absorbing the whole shock is consistent with no change in prices,\n",
    "# therefor no change in i and no change in \n",
    "\n",
    "ax2 = fig.add_subplot(1,2,2)\n",
    "ax2.plot(path.E[0:], label= 'E')\n",
    "ax2.plot((path.PF_s)**(-1), label = 'PF_s', linestyle='--')\n",
    "ax2.legend()\n"
   ]
  },
  {
   "cell_type": "markdown",
   "metadata": {},
   "source": [
    "# Shock with a forign taylor rule"
   ]
  },
  {
   "cell_type": "code",
   "execution_count": null,
   "metadata": {},
   "outputs": [],
   "source": [
    "# Shocks\n",
    "T_max = 20\n",
    "dPF_s = np.zeros(model.par.T)\n",
    "PF_s_tjek = np.zeros(model.par.T)\n",
    "\n",
    "# Make a concave path for PF_s with max at t=5 with a value of 0.1\n",
    "for t in range(0, T_max-10):\n",
    "    dPF_s[t] = 0.06*np.exp(-0.5*(t-5)**2)\n",
    "\n",
    "    # Check\n",
    "    \n",
    "pi_plus = (float.ss.PF_s + dPF_s[1:T_max])/(float.ss.PF_s + dPF_s[0:T_max-1])-1\n",
    "\n",
    "\n",
    "plt.figure()\n",
    "plt.plot(pi_plus)\n",
    "\n",
    "# for t in range(0, T_max-10):\n",
    "    \n",
    "#     print(f'next period {dPF_s[t+1]:.2f}')\n",
    "#     print(f'this period {dPF_s[t]:.2f}')\n",
    "    # # inflation\n",
    "    # pi_PF_s = (dPF_s[t+1])\n",
    "    # pi_PF_s\n",
    "\n",
    "    # taylor rule \n",
    "# pi_PF = (float.ss.PF_s + dPF_s)\n"
   ]
  },
  {
   "cell_type": "markdown",
   "metadata": {},
   "source": []
  },
  {
   "cell_type": "code",
   "execution_count": 21,
   "metadata": {},
   "outputs": [
    {
     "data": {
      "text/plain": [
       "<matplotlib.legend.Legend at 0x7ff2bcac5070>"
      ]
     },
     "execution_count": 21,
     "metadata": {},
     "output_type": "execute_result"
    },
    {
     "data": {
      "image/png": "[encoded data removed]",
      "text/plain": [
       "<Figure size 1200x600 with 1 Axes>"
      ]
     },
     "metadata": {},
     "output_type": "display_data"
    }
   ],
   "source": [
    "# Not Done! ***\n",
    "T_max = 11\n",
    "dPF_s = np.zeros(model.par.T)\n",
    "PF_s_tjek = np.zeros(model.par.T)\n",
    "\n",
    "# Make a concave path for PF_s with max at t=5 with a value of 0.1\n",
    "for t in range(0, 10):\n",
    "    dPF_s[t] = 0.06*np.exp(-0.5*(t-5)**2)\n",
    "\n",
    "    # Check\n",
    "    PF_s = model.ss.PF_s *(1+ dPF_s[t])\n",
    "\n",
    "\n",
    "    # taylor rule \n",
    "\n",
    "\n",
    "\n",
    "PF_s_tjek[10:] = model.ss.PF_s\n",
    "\n",
    "\n",
    "shocks = {'dPF_s': dPF_s}\n",
    "\n",
    "float.find_transition_path(shocks=shocks)\n",
    "# float.show_IRFs(varnames=paths, lvl_value= lvl_path, do_shocks=False)\n",
    "\n",
    "\n",
    "fig = plt.figure(figsize=(12,6))\n",
    "ax1 = fig.add_subplot(1,2,1)\n",
    "ax1.plot(float.path.PF_s[0:T_max], label= 'PF_s')\n",
    "ax1.plot(PF_s_tjek[0:T_max], label = 'PF_s_tjek', linestyle='--')\n",
    "ax1.legend()\n",
    "\n"
   ]
  },
  {
   "cell_type": "markdown",
   "metadata": {},
   "source": [
    "# Fixed exchange rate"
   ]
  },
  {
   "cell_type": "code",
   "execution_count": null,
   "metadata": {},
   "outputs": [],
   "source": [
    "fixed = model.copy()\n",
    "fixed.par.float = False\n",
    "fixed.find_ss()"
   ]
  },
  {
   "cell_type": "code",
   "execution_count": null,
   "metadata": {},
   "outputs": [],
   "source": [
    "fixed.test_ss()"
   ]
  },
  {
   "cell_type": "code",
   "execution_count": null,
   "metadata": {},
   "outputs": [],
   "source": [
    "fixed.test_path()"
   ]
  },
  {
   "cell_type": "code",
   "execution_count": null,
   "metadata": {},
   "outputs": [],
   "source": [
    "fixed.compute_jacs()"
   ]
  },
  {
   "cell_type": "code",
   "execution_count": null,
   "metadata": {},
   "outputs": [],
   "source": [
    "fixed.test_jacs()"
   ]
  },
  {
   "cell_type": "code",
   "execution_count": null,
   "metadata": {},
   "outputs": [],
   "source": [
    "\n",
    "# fixed.par.jump_fixed = -0.0075 # initial jump\n",
    "# fixed.par.rho_fixed = 0.80 # AR(1) coefficeint\n",
    "\n",
    "# fixed.par.jump_rF = -0.00005 # initial jump\n",
    "# fixed.par.rho_rF = 0.80 # AR(1) coefficeint\n",
    "\n",
    "fixed.par.jump_PF_s = -0.03 # initial jump\n",
    "fixed.par.rho_PF_s = 0.80 # AR(1) coefficeint\n",
    "\n",
    "fixed.find_transition_path(shocks=['PF_s'],do_print=False,do_end_check=False)"
   ]
  },
  {
   "cell_type": "code",
   "execution_count": null,
   "metadata": {},
   "outputs": [],
   "source": [
    "lvl_path = ['Walras', 'CB', 'i']\n",
    "path = ['i', 'E', ]\n",
    "path_hh = ['CNT_hh', 'CT_hh', 'CTF_hh']\n",
    "\n",
    "fixed.show_IRFs(varnames=model.varlist, lvl_value= lvl_path, do_shocks=False)"
   ]
  },
  {
   "cell_type": "code",
   "execution_count": null,
   "metadata": {},
   "outputs": [],
   "source": [
    "['E',\n",
    " 'NTH',\n",
    " 'NNT',\n",
    " 'YTH',\n",
    " 'YNT',\n",
    " 'WTH',\n",
    " 'WNT',\n",
    " 'PTH',\n",
    " 'PNT',\n",
    " 'PF_s',\n",
    " 'PF',\n",
    " 'PTH_s',\n",
    " 'PT',\n",
    " 'P'\n",
    " 'i',\n",
    " 'i_shock',\n",
    " 'G',\n",
    " 'B',\n",
    " 'tau',\n",
    " 'inc_TH',\n",
    " 'inc_NT',\n",
    " 'ra',\n",
    " 'p',\n",
    " 'beta',\n",
    " 'A_hh',\n",
    " 'C_hh',\n",
    " 'UC_TH_hh',\n",
    " 'UC_NT_hh',\n",
    " 'E_hh',\n",
    " 'CNT_hh',\n",
    " 'CT_hh',\n",
    " 'CTH_hh',\n",
    " 'CTF_hh',\n",
    " 'M_s',\n",
    " 'CT',\n",
    " 'CNT',\n",
    " 'CTF',\n",
    " 'CTH',\n",
    " 'CTH_s',\n",
    " 'A',\n",
    " 'EX',\n",
    " 'wTH',\n",
    " 'wNT',\n",
    " 'rF',\n",
    " 'iF_s',\n",
    " 'GDP',\n",
    " 'NX',\n",
    " 'CA',\n",
    " 'NFA']"
   ]
  },
  {
   "cell_type": "code",
   "execution_count": null,
   "metadata": {},
   "outputs": [],
   "source": [
    "models = {'fixed': fixed}\n",
    "\n",
    "inputs_list = [['ra'], ['p'], ['inc_TH', 'inc_NT' ], 'all']\n",
    "\n",
    "model_titles = {\n",
    "    'fixed': 'Price shock, fixed E'\n",
    "}\n",
    "\n",
    "for model_name, model in models.items():\n",
    "\n",
    "    T_max = 50\n",
    "\n",
    "    fig, (ax_C_NT, ax_C_TH) = plt.subplots(1, 2, figsize=(16, 4), dpi=100)\n",
    "    fig.suptitle(f'{model_titles[model_name]}', fontsize=16)\n",
    "\n",
    "    ax_C_NT.set_title('Consumption non-tradeable sector HH, $C_{NT}^{hh}$', fontsize=12)\n",
    "    ax_C_TH.set_title('Consumption tradeable sector HH, $C_{TH}^{hh}$', fontsize=12)\n",
    "\n",
    "    i_color = 0\n",
    "\n",
    "    # for use_inputs in [[x] for x in model.inputs_hh]:\n",
    "    for use_inputs in inputs_list:\n",
    "\n",
    "        # a. compute\n",
    "        path_alt = model.decompose_hh_path(do_print=False, use_inputs=use_inputs)\n",
    "\n",
    "        # b. plot\n",
    "        if use_inputs is None:\n",
    "            label = 'No inputs'\n",
    "            ls = '--'\n",
    "            color = 'black'\n",
    "        elif use_inputs == 'all':\n",
    "            label = 'All inputs'\n",
    "            ls = '-'\n",
    "            color = 'black'\n",
    "        else:\n",
    "            label = f'Only effect from {use_inputs[0]}'\n",
    "            ls = '-'\n",
    "            color = f'C{i_color}' # use color index directly\n",
    "            i_color += 1\n",
    "\n",
    "        ax_C_NT.plot((path_alt.CT_hh[:T_max] / model.ss.CT_hh - 1) * 100, ls=ls, color=color, label=label)\n",
    "        ax_C_TH.plot((path_alt.CNT_hh[:T_max] / model.ss.CNT_hh - 1) * 100, ls=ls, color=color, label=label)\n",
    "\n",
    "    for ax in [ax_C_NT, ax_C_TH]:\n",
    "        ax.set_ylabel('% diff to s.s.')\n",
    "        lgd = ax_C_TH.legend(frameon=True, ncol=1, bbox_to_anchor=(1.05, 1), loc='upper left', fontsize='small')\n",
    "\n",
    "    plt.tight_layout()  # Adjust layout to prevent overlapping\n",
    "    plt.show()\n"
   ]
  },
  {
   "cell_type": "code",
   "execution_count": null,
   "metadata": {},
   "outputs": [],
   "source": []
  },
  {
   "cell_type": "code",
   "execution_count": null,
   "metadata": {},
   "outputs": [],
   "source": [
    "hh_var = ['ra','inc_TH', 'inc_NT', 'p']"
   ]
  }
 ],
 "metadata": {
  "kernelspec": {
   "display_name": "base",
   "language": "python",
   "name": "python3"
  },
  "language_info": {
   "codemirror_mode": {
    "name": "ipython",
    "version": 3
   },
   "file_extension": ".py",
   "mimetype": "text/x-python",
   "name": "python",
   "nbconvert_exporter": "python",
   "pygments_lexer": "ipython3",
   "version": "3.9.13"
  },
  "toc-autonumbering": true,
  "vscode": {
   "interpreter": {
    "hash": "47ef90cdf3004d3f859f1fb202523c65c07ba7c22eefd261b181f4744e2d0403"
   }
  }
 },
 "nbformat": 4,
 "nbformat_minor": 4
}

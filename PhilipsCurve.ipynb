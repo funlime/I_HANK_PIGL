{
 "cells": [
  {
   "cell_type": "code",
   "execution_count": 1,
   "metadata": {},
   "outputs": [],
   "source": [
    "import numpy as np\n",
    "import pandas as pd\n",
    "import matplotlib.pyplot as plt\n",
    "from types import SimpleNamespace\n",
    "from scipy.optimize import fsolve"
   ]
  },
  {
   "cell_type": "code",
   "execution_count": null,
   "metadata": {},
   "outputs": [],
   "source": [
    "# Expenditure grid \n",
    "e_list = np.linspace(0.01, 2.0, 100)\n",
    "\n",
    "# Colors \n",
    "c = {'T': 'r', 'NT': 'b'}\n",
    "\n",
    "# Parameteres \n",
    "# Bohnert et al. 2024\n",
    "par_bohnert = SimpleNamespace()\n",
    "par_bohnert.gamma_ = 0.29\n",
    "par_bohnert.epsilon_ = 0.18\n",
    "par_bohnert.nu_ = 0.475\n",
    "\n",
    "e = 1\n",
    "def u_(par, e, PNT = 1):\n",
    "    return  PNT**(-par.epsilon_)*e**(-(1- par.epsilon_ ) )\n",
    "\n",
    "\n"
   ]
  }
 ],
 "metadata": {
  "kernelspec": {
   "display_name": "base",
   "language": "python",
   "name": "python3"
  },
  "language_info": {
   "codemirror_mode": {
    "name": "ipython",
    "version": 3
   },
   "file_extension": ".py",
   "mimetype": "text/x-python",
   "name": "python",
   "nbconvert_exporter": "python",
   "pygments_lexer": "ipython3",
   "version": "3.9.13"
  }
 },
 "nbformat": 4,
 "nbformat_minor": 2
}
